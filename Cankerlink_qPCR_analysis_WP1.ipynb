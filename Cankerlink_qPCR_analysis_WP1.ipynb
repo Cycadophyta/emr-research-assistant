{
  "nbformat": 4,
  "nbformat_minor": 0,
  "metadata": {
    "colab": {
      "name": "Cankerlink qPCR analysis WP1.ipynb",
      "provenance": [],
      "collapsed_sections": [
        "3suiRbRwvvkL",
        "5PIbd3mDPiee",
        "yyhIJPjGwAnu",
        "cF-y9da8tjdA"
      ],
      "toc_visible": true,
      "mount_file_id": "1vNlQTLbxfO7V0XoaWFKEy9m6oy4AAPD-",
      "authorship_tag": "ABX9TyOOtLGY6P9tcJrPw0sEqqX6",
      "include_colab_link": true
    },
    "kernelspec": {
      "name": "python3",
      "display_name": "Python 3"
    }
  },
  "cells": [
    {
      "cell_type": "markdown",
      "metadata": {
        "id": "view-in-github",
        "colab_type": "text"
      },
      "source": [
        "<a href=\"https://colab.research.google.com/github/Cycadophyta/qpcr-analysis/blob/main/Cankerlink_qPCR_analysis_WP1.ipynb\" target=\"_parent\"><img src=\"https://colab.research.google.com/assets/colab-badge.svg\" alt=\"Open In Colab\"/></a>"
      ]
    },
    {
      "cell_type": "markdown",
      "metadata": {
        "id": "tnFecWV4NGZV"
      },
      "source": [
        "# Cankerlink qPCR Analysis WP1"
      ]
    },
    {
      "cell_type": "code",
      "metadata": {
        "id": "7eAqyZX1NDLa"
      },
      "source": [
        "# Packages\n",
        "import pandas as pd\n",
        "import numpy as np\n",
        "import math\n",
        "import matplotlib.pyplot as pltyu\n",
        "import plotly.express as px\n",
        "import plotly.graph_objects as go\n",
        "import plotly.offline as py\n",
        "from plotly.subplots import make_subplots\n",
        "from scipy import stats"
      ],
      "execution_count": null,
      "outputs": []
    },
    {
      "cell_type": "markdown",
      "metadata": {
        "id": "-ruyjUpUWDOI"
      },
      "source": [
        "## Load Data"
      ]
    },
    {
      "cell_type": "markdown",
      "metadata": {
        "id": "g1gFUEF4VNxQ"
      },
      "source": [
        "Each plate is stored in a dictionary with metadata.\n",
        "\n",
        "\n",
        "* Name: plate name\n",
        "* Data: Cq data\n",
        "* Samples: datafraframe of sample number and corresponding ID\n",
        "* Dilution: dilution factor for plate\n",
        "* Wells to remove: a list of wells to exclude from analysis\n",
        "\n"
      ]
    },
    {
      "cell_type": "code",
      "metadata": {
        "id": "Wgnyw73UQvwX"
      },
      "source": [
        "plate_1 = {\n",
        "    'name': 'Plate 1 (ITS)',\n",
        "    'data': pd.read_csv('WP1_Plate_1_ITS_Cq.csv'),\n",
        "    'samples': pd.read_csv('Samples - Plate 1&2.csv'),\n",
        "    'dilutions': {'a': 5, 'b': 10},\n",
        "    'wells_to_remove': []\n",
        "}\n",
        "\n",
        "plate_2 = {\n",
        "    'name': 'Plate 2 (16S)',\n",
        "    'data': pd.read_csv('WP1_Plate_2_16S_Cq.csv'),\n",
        "    'samples': pd.read_csv('Samples - Plate 1&2.csv'),\n",
        "    'dilutions': {'a': 5, 'b': 10},\n",
        "    'wells_to_remove': []\n",
        "}\n",
        "\n",
        "plate_3 = {\n",
        "    'name': 'Plate 3 (ITS)',\n",
        "    'data': pd.read_csv('WP1_Plate_3_ITS_Cq.csv'),\n",
        "    'samples': pd.read_csv('Samples - Plate 3&4.csv'),\n",
        "    'dilutions': {'a': 10, 'b': 50},\n",
        "    'wells_to_remove': []\n",
        "}\n",
        "\n",
        "plate_4 = {\n",
        "    'name': 'Plate 4 (16S)',\n",
        "    'data': pd.read_csv('WP1_Plate_4_16S_Cq.csv'),\n",
        "    'samples': pd.read_csv('Samples - Plate 3&4.csv'),\n",
        "    'dilutions': {'a': 10, 'b': 50},\n",
        "    'wells_to_remove': ['F17', 'C09', 'K21']\n",
        "}\n",
        "\n",
        "plate_5 = {\n",
        "    'name': 'Plate 5 (ITS)',\n",
        "    'data': pd.read_csv('WP1_Plate_5_ITS_Cq.csv'),\n",
        "    'samples': pd.read_csv('Samples - Plate 5&6.csv'),\n",
        "    'dilutions': {'a': 10, 'b': 101},\n",
        "    'wells_to_remove': ['G02']\n",
        "}\n",
        "\n",
        "plate_6 = {\n",
        "    'name': 'Plate 6 (16S)',\n",
        "    'data': pd.read_csv('WP1_Plate_6_16S_Cq.csv'),\n",
        "    'samples': pd.read_csv('Samples - Plate 5&6.csv'),\n",
        "    'dilutions': {'a': 10, 'b': 101},\n",
        "    'wells_to_remove': ['C04', 'I02', 'K17']\n",
        "}\n",
        "\n",
        "plate_7 = {\n",
        "    'name': 'Plate 7 (ITS)',\n",
        "    'data': pd.read_csv('WP1_Plate_7_ITS_Cq.csv'),\n",
        "    'samples': pd.read_csv('Samples - Plate 7&8.csv'),\n",
        "    'dilutions': {'a': 10, 'b': 51},\n",
        "    'wells_to_remove': []\n",
        "}\n",
        "\n",
        "plate_8 = {\n",
        "    'name': 'Plate 8 (16S)',\n",
        "    'data': pd.read_csv('WP1_Plate_8_16S_Cq.csv'),\n",
        "    'samples': pd.read_csv('Samples - Plate 7&8.csv'),\n",
        "    'dilutions': {'a': 10, 'b': 51},\n",
        "    'wells_to_remove': []\n",
        "}\n",
        "\n",
        "standard_concentrations = {\n",
        "    'P1': math.log10(5e-1),\n",
        "    'P2': math.log10(5e-2),\n",
        "    'P3': math.log10(5e-3),\n",
        "    'P4': math.log10(5e-4),\n",
        "    'P5': math.log10(5e-5),\n",
        "}\n",
        "\n",
        "plates = [plate_1, plate_2, plate_3, plate_4, plate_5, plate_6, plate_7, plate_8]"
      ],
      "execution_count": null,
      "outputs": []
    },
    {
      "cell_type": "markdown",
      "metadata": {
        "id": "vbtidAOWmAlq"
      },
      "source": [
        "## Data Processing"
      ]
    },
    {
      "cell_type": "markdown",
      "metadata": {
        "id": "gpioSrYoWFdC"
      },
      "source": [
        "Various functions to clean and transform the data and to perform calculations.\n",
        "\n",
        "'data' is cleaned and undecessary columns dropped. Standards and NTCs are removed and made into their own dataframes, 'standards' and 'ntcs'. 'detection_limit' is calculated from the mean of the NTC Cq values and Cq values less than the detection limit are replaced by NaN in 'data'. 'tidy_data' is a summary which includes the mean and standard deviation of replicates. 'tidy_data' also includes the efficiency between dilutions. \n",
        "\n",
        "Efficiency calculated as: \n",
        "\n",
        "$Efficiency = -1+10^\\frac{-1}{slope}$\n",
        "\n",
        "Starting quantity (SQ) calculated as: \n",
        "\n",
        "$SQ = dilution factor * 10 ^ \\frac{Cq - intercept} {slope}$"
      ]
    },
    {
      "cell_type": "code",
      "metadata": {
        "id": "Om2nqYMqgfzU",
        "colab": {
          "base_uri": "https://localhost:8080/"
        },
        "outputId": "7c7b7eb7-4607-4f64-84a6-6189efe40de1"
      },
      "source": [
        "def clean_data(plate):\n",
        "    '''Reformats the dataframe into a more usable format.'''  \n",
        "    data = plate['data']    \n",
        "    samples = plate['samples']              \n",
        "    data.rename(columns = {'Biological Set Name': 'Dilution'}, inplace=True)\n",
        "    data.replace({'Dilution': plate['dilutions']}, inplace=True)\n",
        "    data = data.astype({'Sample': str})\n",
        "    samples.rename(columns={'Tube': 'Sample'}, inplace=True)\n",
        "    samples = samples.astype({'Sample': str})\n",
        "    data = pd.merge(data, samples, on='Sample', how='left') \n",
        "    plate['data'] = data[['Well', 'Content', 'Sample','ID', 'Dilution', 'Cq']]  \n",
        "    plate['samples'] = samples       \n",
        "\n",
        "\n",
        "def timepoints(plate):\n",
        "    data = plate['data']\n",
        "    data['timepoint'] = np.where(data.ID.str[:2] == 'WP', data.ID.str[5], '1')\n",
        "    plate['data'] = data   \n",
        "    \n",
        "\n",
        "def extract_controls(plate):\n",
        "    '''Extracts standards and NTCs to their own dataframes.'''\n",
        "    standard_samples = ['P1', 'P2', 'P3', 'P4', 'P5']\n",
        "    data = plate['data']\n",
        "\n",
        "    plate['standards'] = data[\n",
        "        data.Sample.isin(standard_samples)\n",
        "    ][['Well', 'Sample', 'Cq']].reset_index()\n",
        "    \n",
        "    plate['ntcs'] = data[\n",
        "        data.Content == 'NTC'\n",
        "    ][['Well', 'Content', 'Cq']].reset_index()\n",
        "    \n",
        "    plate['data'] = data.loc[\n",
        "        ~((data.Sample.isin(standard_samples)) | (data.Content == 'NTC')), :\n",
        "    ].reset_index()\n",
        "\n",
        "\n",
        "def calculate_detection_limit(plate):\n",
        "    '''Calculates the detection limit of each plate from the mean of \n",
        "    the NTC Cq values and replaces Cq values above this limit with NaN.\n",
        "    '''\n",
        "    plate['detection_limit'] = round(plate['ntcs'].Cq.mean(), 2)\n",
        "\n",
        "    plate['data'].Cq.where((\n",
        "        plate['data'].Cq < plate['detection_limit']\n",
        "    ), np.NaN, inplace=True)\n",
        "\n",
        "\n",
        "def tidy_data(plate):\n",
        "    '''Calculates mean and std of technical replicates.'''\n",
        "    columns = ['Sample', 'ID', 'Content', 'Dilution', 'Cq', 'quantity']\n",
        "    plate['tidy_data'] = plate['data'].groupby(\n",
        "        ['Sample', 'ID', 'Dilution', 'Content']\n",
        "    ).agg(\n",
        "        Cq_mean = ('Cq', 'mean'),\n",
        "        Cq_SD = ('Cq', 'std'),\n",
        "        SQ_mean = ('quantity', 'mean'),\n",
        "        SQ_SD = ('quantity', 'std')\n",
        "    ).reset_index().drop(columns=['Content'])\n",
        "\n",
        "\n",
        "def standard_line(plate):\n",
        "    '''Calculates the standard regression line.'''\n",
        "    standards = plate['standards']\n",
        "    standards['concentration'] = standards['Sample'].map(standard_concentrations)\n",
        "    x = standards.concentration\n",
        "    y = standards.Cq\n",
        "    slope, intercept, r_value, p_value, std_err = stats.linregress(x,y)\n",
        "    plate['standard_line'] = {\n",
        "        'slope': slope, 'intercept': intercept, 'r_value': r_value\n",
        "    }\n",
        "\n",
        "\n",
        "def calculate_quantity(plate):\n",
        "    '''Calculates starting quantity based on the formula:\n",
        "    dilution * 10 ^ ((Cq - intercept) / slope)\n",
        "    '''\n",
        "    data = plate['data']\n",
        "    intercept = plate['standard_line']['intercept']\n",
        "    slope = plate['standard_line']['slope']\n",
        "    data['quantity'] = data.Dilution * 10 ** ((data.Cq - intercept) / slope)\n",
        "\n",
        "\n",
        "def remove_wells(plate):\n",
        "    '''Removes wells marked as outliers.'''\n",
        "    df = plate['data']\n",
        "    df.Cq = df.Cq.where(~df.Well.isin(plate['wells_to_remove']))\n",
        "\n",
        "\n",
        "def calculate_efficiency(plate):\n",
        "    '''Calculates efficiency between dilutions based on the formula:\n",
        "     -1 + 10 ^ -(1 / slope)\n",
        "     and appends \n",
        "    values to tidy_data.\n",
        "    '''\n",
        "    df = plate['tidy_data'].pivot(\n",
        "        index='ID', columns='Dilution', values='Cq_mean'\n",
        "    ).reset_index()\n",
        "\n",
        "    def efficiency(a, b, d1, d2):\n",
        "        '''Formula for efficiency.'''\n",
        "        slope = (a-b)/(d1-d2)\n",
        "        return -1 + 10 ** -(1/slope)\n",
        "    \n",
        "    a, b = plate['dilutions']['a'], plate['dilutions']['b']\n",
        "    df['Efficiency'] = efficiency(\n",
        "        df.iloc[:, 1], df.iloc[:, 2], \n",
        "        math.log10(1/a), math.log10(1/b)\n",
        "    )\n",
        "    df = df.set_index('ID')['Efficiency']\n",
        "    plate['tidy_data'] = plate['tidy_data'].join(df, on='ID')\n",
        "\n",
        "\n",
        "def process_data(plate):\n",
        "    '''Main data processing function that executes all \n",
        "    data processing functions.\n",
        "    '''\n",
        "    try:\n",
        "        clean_data(plate)\n",
        "        timepoints(plate)\n",
        "        #remove_wells(plate)\n",
        "        extract_controls(plate)\n",
        "        calculate_detection_limit(plate)\n",
        "        standard_line(plate)\n",
        "        calculate_quantity(plate)\n",
        "        tidy_data(plate)\n",
        "        calculate_efficiency(plate)\n",
        "        print(f\"{plate['name']} data processed sucessfully.\")\n",
        "    except:\n",
        "        if 'standards' in plate:\n",
        "            print(f\"{plate['name']} data has already been processed.\")\n",
        "        else: print('Unknown error')\n",
        "\n",
        "\n",
        "for plate in plates: process_data(plate)"
      ],
      "execution_count": null,
      "outputs": [
        {
          "output_type": "stream",
          "text": [
            "Plate 1 (ITS) data processed sucessfully.\n",
            "Plate 2 (16S) data processed sucessfully.\n",
            "Plate 3 (ITS) data processed sucessfully.\n",
            "Plate 4 (16S) data processed sucessfully.\n",
            "Plate 5 (ITS) data processed sucessfully.\n",
            "Plate 6 (16S) data processed sucessfully.\n",
            "Plate 7 (ITS) data processed sucessfully.\n",
            "Plate 8 (16S) data processed sucessfully.\n"
          ],
          "name": "stdout"
        }
      ]
    },
    {
      "cell_type": "code",
      "metadata": {
        "id": "mP5t2osP9WeI"
      },
      "source": [
        "joined = pd.concat([plate['data'] for plate in plates])\r\n",
        "\r\n",
        "#display(joined[1000: 2000])\r\n",
        "\r\n",
        "joined.to_csv('WP1_full_data.csv', index=False)"
      ],
      "execution_count": null,
      "outputs": []
    },
    {
      "cell_type": "markdown",
      "metadata": {
        "id": "smJJc0AynvsB"
      },
      "source": [
        "## Figures"
      ]
    },
    {
      "cell_type": "markdown",
      "metadata": {
        "id": "BGcTaj04WJmZ"
      },
      "source": [
        "### NTCs"
      ]
    },
    {
      "cell_type": "code",
      "metadata": {
        "id": "XjthPXPSSTAD"
      },
      "source": [
        "def view_ntcs(plate):\n",
        "    '''Generates plotly express bar graphs of NTC Cq values.'''\n",
        "    return px.bar(\n",
        "        plate['ntcs'], \n",
        "        x = 'Well', \n",
        "        y = \"Cq\", \n",
        "        title = f\"{plate['name']} NTCs\"\n",
        "    )\n",
        "\n",
        "#view_ntcs(plate_1).show()\n",
        "#view_ntcs(plate_2).show()\n",
        "#view_ntcs(plate_3).show()\n",
        "#view_ntcs(plate_4).show()\n",
        "#view_ntcs(plate_5).show()\n",
        "#view_ntcs(plate_6).show()\n",
        "view_ntcs(plate_7).show()\n",
        "view_ntcs(plate_8).show()"
      ],
      "execution_count": null,
      "outputs": []
    },
    {
      "cell_type": "markdown",
      "metadata": {
        "id": "Jcdx5YwlWMjz"
      },
      "source": [
        "### Standards"
      ]
    },
    {
      "cell_type": "code",
      "metadata": {
        "id": "OPGGw9aXWBkm"
      },
      "source": [
        "def view_standards(plate):\n",
        "    '''Generate standard curves.'''\n",
        "    table = plate['standards'].groupby(['Sample']).agg(\n",
        "        Mean_Cq = ('Cq', 'mean'),\n",
        "        SD = ('Cq', 'std')\n",
        "    ).rename_axis(None)\n",
        "    fig = px.scatter(\n",
        "        plate['standards'], \n",
        "        x='Log(SQ)', y=\"Cq\", \n",
        "        trendline='ols', \n",
        "        title=f\"{plate['name']} standard curve\"\n",
        "    )\n",
        "    fig.add_trace(go.Scatter())\n",
        "    display(table)\n",
        "    return fig\n",
        "\n",
        "#view_standards(plate_1).show()\n",
        "#view_standards(plate_2).show()\n",
        "#view_standards(plate_3).show()\n",
        "#view_standards(plate_4).show()\n",
        "#view_standards(plate_5).show()\n",
        "view_standards(plate_6).show()\n",
        "#view_standards(plate_7).show()\n",
        "#view_standards(plate_8).show()"
      ],
      "execution_count": null,
      "outputs": []
    },
    {
      "cell_type": "markdown",
      "metadata": {
        "id": "9I_dpqFWn-pi"
      },
      "source": [
        "### Cq"
      ]
    },
    {
      "cell_type": "code",
      "metadata": {
        "id": "Eczk4nCEiB4Z"
      },
      "source": [
        "def view_cq(plate):\n",
        "    return px.scatter(\n",
        "        plate['data'], \n",
        "        x='ID', y='Cq', \n",
        "        color='Dilution', \n",
        "        title=f\"{plate['name']} Cq values\"\n",
        "    )\n",
        "\n",
        "#view_cq(plate_1).show()\n",
        "#view_cq(plate_2).show()\n",
        "#view_cq(plate_3).show()\n",
        "#view_cq(plate_4).show()\n",
        "view_cq(plate_5).show()\n",
        "view_cq(plate_6).show()\n",
        "#view_cq(plate_7).show()\n",
        "#view_cq(plate_8).show()"
      ],
      "execution_count": null,
      "outputs": []
    },
    {
      "cell_type": "markdown",
      "metadata": {
        "id": "99FVZHbU8Zv9"
      },
      "source": [
        "### Standard deviation of replicates"
      ]
    },
    {
      "cell_type": "code",
      "metadata": {
        "id": "7QIg-DN0VbIZ",
        "colab": {
          "base_uri": "https://localhost:8080/",
          "height": 1000
        },
        "outputId": "44be783c-c6c9-4cf2-fb0d-09f533ee3868"
      },
      "source": [
        "def rep_sd(plate, limit=0.5):\n",
        "    df = tidy_data(plate)\n",
        "    return px.box(df, x='Dilution', y='Cq_SD', points='all', \n",
        "                 hover_data=['ID', 'Cq_mean'], \n",
        "                 title=f\"{plate['name']} Cq standard deviation\")\n",
        "    \n",
        "#rep_sd(plate_1).show()\n",
        "#rep_sd(plate_2).show()\n",
        "#rep_sd(plate_3).show()\n",
        "#rep_sd(plate_4).show()\n",
        "#rep_sd(plate_5).show()\n",
        "#rep_sd(plate_6).show()\n",
        "#rep_sd(plate_7).show()\n",
        "#rep_sd(plate_8).show()\n",
        "\n",
        "\n",
        "def quantity_sd(plate, limit=0.5):\n",
        "    df = tidy_data(plate)\n",
        "    return px.box(df, x='Dilution', y='SQ_SD', points='all', \n",
        "                 hover_data=['ID', 'SQ_mean'], \n",
        "                 title=f\"{plate['name']} SQ standard deviation\")\n",
        "    \n",
        "quantity_sd(plate_1).show()\n",
        "quantity_sd(plate_2).show()\n",
        "quantity_sd(plate_3).show()\n",
        "quantity_sd(plate_4).show()\n",
        "quantity_sd(plate_5).show()\n",
        "quantity_sd(plate_6).show()\n",
        "quantity_sd(plate_7).show()\n",
        "quantity_sd(plate_8).show()"
      ],
      "execution_count": null,
      "outputs": [
        {
          "output_type": "display_data",
          "data": {
            "text/html": [
              "<html>\n",
              "<head><meta charset=\"utf-8\" /></head>\n",
              "<body>\n",
              "    <div>\n",
              "            <script src=\"https://cdnjs.cloudflare.com/ajax/libs/mathjax/2.7.5/MathJax.js?config=TeX-AMS-MML_SVG\"></script><script type=\"text/javascript\">if (window.MathJax) {MathJax.Hub.Config({SVG: {font: \"STIX-Web\"}});}</script>\n",
              "                <script type=\"text/javascript\">window.PlotlyConfig = {MathJaxConfig: 'local'};</script>\n",
              "        <script src=\"https://cdn.plot.ly/plotly-latest.min.js\"></script>    \n",
              "            <div id=\"411ce366-c33a-4b74-b0a0-2aa93f8dcf24\" class=\"plotly-graph-div\" style=\"height:525px; width:100%;\"></div>\n",
              "            <script type=\"text/javascript\">\n",
              "                \n",
              "                    window.PLOTLYENV=window.PLOTLYENV || {};\n",
              "                    \n",
              "                if (document.getElementById(\"411ce366-c33a-4b74-b0a0-2aa93f8dcf24\")) {\n",
              "                    Plotly.newPlot(\n",
              "                        '411ce366-c33a-4b74-b0a0-2aa93f8dcf24',\n",
              "                        [{\"alignmentgroup\": \"True\", \"boxpoints\": \"all\", \"customdata\": [[\"WP1-t3-1\", 0.45733965735633897], [\"WP1-t3-1\", 0.5069051382179177], [\"WP1-t3-14\", 0.5711980541517214], [\"WP1-t3-14\", 0.6413130504497462], [\"WP1-t3-16\", 0.9216519967192487], [\"WP1-t3-16\", 1.1843263957108539], [\"WP1-t3-17\", 4.26129702393917], [\"WP1-t3-17\", 6.024597206624027], [\"WP1-t3-18\", 1.5459814893546646], [\"WP1-t3-18\", 1.509680195956708], [\"WP1-t3-19\", 1.386228825068345], [\"WP1-t3-19\", 1.872335057933046], [\"WP1-t3-20\", 6.607772567737397], [\"WP1-t3-20\", 6.28782272579116], [\"WP1-t3-21\", 0.6654282581341051], [\"WP1-t3-21\", 0.7870631630378381], [\"WP1-t3-22\", 0.4518022616685245], [\"WP1-t3-22\", 0.7152498772467457], [\"WP1-t3-23\", 0.39426978476377117], [\"WP1-t3-23\", 0.5015994844299803], [\"WP1-t3-24\", 5.52217774553711], [\"WP1-t3-24\", 6.942399985943199], [\"WP1-t3-2\", 1.6066590363626085], [\"WP1-t3-2\", 1.5338050172741657], [\"WP1-t3-25\", 2.9244251717827963], [\"WP1-t3-25\", 3.5734162526383746], [\"WP1-t3-26\", 6.477244588104127], [\"WP1-t3-26\", 8.929695417057607], [\"WP1-t3-27\", 2.2797968891282423], [\"WP1-t3-27\", 2.9395680089732155], [\"WP1-t3-28\", 1.928926095901212], [\"WP1-t3-28\", 3.1399955991611113], [\"WP1-t3-29\", 2.1151339247333922], [\"WP1-t3-29\", 2.0637596489824155], [\"WP1-t3-30\", 2.445451740985127], [\"WP1-t3-30\", 2.3793255971951375], [\"WP1-t3-31\", 1.3908611205396677], [\"WP1-t3-31\", 1.6238625665926476], [\"WP1-t3-32\", 1.388377265079129], [\"WP1-t3-32\", 1.82665864096531], [\"WP1-t3-33\", 12.762828836985555], [\"WP1-t3-33\", 19.118920116849726], [\"WP1-t3-34\", 2.2910167386389153], [\"WP1-t3-34\", 3.088286966315617], [\"WP1-t3-3\", 1.9575248637687548], [\"WP1-t3-3\", 1.9360584787107449], [\"WP1-t3-35\", 1.0000256504161698], [\"WP1-t3-35\", 1.0420563755810492], [\"WP1-t3-36\", 2.116797220250187], [\"WP1-t3-36\", 2.231163333618716], [\"WP1-t3-41\", 0.8837344278100474], [\"WP1-t3-41\", 1.0837540727208568], [\"WP1-t3-42\", 1.8810953351967128], [\"WP1-t3-42\", 2.413412530979202], [\"WP1-t3-43\", 1.3362313419445468], [\"WP1-t3-43\", 1.3851219000628725], [\"WP1-t3-51\", 0.9639148127846763], [\"WP1-t3-51\", 0.0015709679053095248], [\"WP1-t3-55\", 1.7440537700729122], [\"WP1-t3-55\", 1.818072163400927], [\"WP1-t3-56\", 1.9100812005480237], [\"WP1-t3-56\", 2.3453166274508885], [\"WP1-t3-57\", 1.7214932043859523], [\"WP1-t3-57\", 1.8435269877834997], [\"WP1-t3-58\", 1.958294572866584], [\"WP1-t3-58\", 2.1709873742083365], [\"WP1-t3-4\", 0.9240605303565983], [\"WP1-t3-4\", 1.033973318237166], [\"WP1-t3-59\", 1.5418216150243271], [\"WP1-t3-59\", 1.5384718536506934], [\"WP1-t3-60\", 1.8484525274598782], [\"WP1-t3-60\", 2.187263391711832], [\"WP1-t3-61\", 1.7695174403205252], [\"WP1-t3-61\", 1.9361046820439487], [\"WP1-t3-62\", 2.352728965776056], [\"WP1-t3-62\", 3.1962754820186943], [\"WP1-t3-63\", 1.3981824090526915], [\"WP1-t3-63\", 1.6218244014208696], [\"WP1-t3-64\", 2.674635061905475], [\"WP1-t3-64\", 2.441321304181055], [\"WP1-t3-65\", 1.9100812005480237], [\"WP1-t3-65\", 2.1978194965872526], [\"WP1-t3-66\", 2.2180562159242934], [\"WP1-t3-66\", 2.8363571207188247], [\"WP1-t3-70\", 5.232698734229498], [\"WP1-t3-70\", 6.132906451346987], [\"WP1-t3-93\", 0.7425715384575615], [\"WP1-t3-93\", 1.209549608520212], [\"WP1-t3-6\", 1.8251508215427652], [\"WP1-t3-6\", 1.4684834384270518], [\"WP1-t3-96\", 0.8877322542089363], [\"WP1-t3-96\", 1.199576057366194], [\"WP1-t3-97\", 0.4569872938539439], [\"WP1-t3-97\", 0.6583963119010773], [\"WP1-t3-98\", 0.4230981588815337], [\"WP1-t3-98\", 0.5280638857229507], [\"WP1-t3-99\", 1.5308111906500226], [\"WP1-t3-99\", 1.8710435048405423], [\"WP1-t3-100\", 3.4922635761260246], [\"WP1-t3-100\", 3.903716461616731], [\"WP1-t3-101\", 0.9991252940245922], [\"WP1-t3-101\", 1.3312408198117742], [\"WP1-t3-102\", 1.3279743553513925], [\"WP1-t3-102\", 1.7096725322638202], [\"WP1-t3-103\", 1.1239175502876992], [\"WP1-t3-103\", 1.2587353888683506], [\"WP1-t3-104\", 0.3264677697772658], [\"WP1-t3-104\", 0.34288543567382496], [\"WP1-t3-106\", 2.395981506039836], [\"WP1-t3-106\", 3.229421441982853], [\"WP1-t3-7\", 1.5637824036467483], [\"WP1-t3-7\", 1.6854527128279033], [\"WP1-t3-107\", 1.3414902797835775], [\"WP1-t3-107\", 1.9265637048080653], [\"WP1-t3-108\", 1.2563492952928361], [\"WP1-t3-108\", 1.7707906316589055], [\"WP1-t3-109\", 0.9149118088494934], [\"WP1-t3-109\", 1.0725060493491476], [\"WP1-t3-110\", 0.18538133290460457], [\"WP1-t3-110\", 0.2528410200041573], [\"WP1-t3-117\", 0.35144692594832794], [\"WP1-t3-117\", 0.33589722676163347], [\"WP1-t3-119\", 0.33030253397123716], [\"WP1-t3-119\", 0.4061886352517172], [\"WP1-t3-128\", 0.7441895928667794], [\"WP1-t3-128\", 0.5309934736176746], [\"WP1-t3-130\", 2.16140011709412], [\"WP1-t3-130\", 2.0416905417894706], [\"WP1-t3-131\", 0.36372725572302855], [\"WP1-t3-131\", 0.43156351985275215], [\"WP1-t3-132\", 0.2300883094580461], [\"WP1-t3-132\", 0.2269675705374074], [\"WP1-t3-9\", 1.767780769365359], [\"WP1-t3-9\", 2.103895161703084], [\"WP1-t3-134\", 0.39295462120610647], [\"WP1-t3-134\", 0.3398767204119816], [\"WP1-t3-135\", 0.38966681132842396], [\"WP1-t3-135\", 0.454535819553034], [\"WP1-t3-136\", 0.669178383227198], [\"WP1-t3-136\", 0.7324938067410282], [\"WP1-t3-137\", 0.36328059598471185], [\"WP1-t3-137\", 0.5527928839737954], [\"WP1-t3-138\", 0.22521149309144056], [\"WP1-t3-138\", 0.2591447124894898], [\"WP1-t3-139\", 0.559421504859774], [\"WP1-t3-139\", 0.7858403724151872], [\"WP1-t3-140\", 1.2175129194426395], [\"WP1-t3-140\", 1.6109090098883228], [\"WP1-t3-141\", 0.3347602997441078], [\"WP1-t3-141\", 0.5508756008588961], [\"WP1-t3-142\", 2.1641229747239574], [\"WP1-t3-142\", 2.692853120014701], [\"WP1-t3-143\", 0.7942888337522964], [\"WP1-t3-143\", 1.0712167564561752], [\"WP1-t3-12\", 1.465487728758467], [\"WP1-t3-12\", 1.4707620687080243], [\"WP1-t3-144\", 0.429048999668334], [\"WP1-t3-144\", 0.5382859408879654], [\"WP1-t3-145\", 1.118966861328686], [\"WP1-t3-145\", 1.1216228273607645], [\"WP1-t3-146\", 2.1822933744969983], [\"WP1-t3-146\", 2.615207996700436], [\"WP1-t3-147\", 0.37536542852452304], [\"WP1-t3-147\", 0.2995822148469354], [\"WP1-t3-148\", 0.4787610954036058], [\"WP1-t3-148\", 0.5176958824258981], [\"WP1-t3-149\", 1.0373588187278289], [\"WP1-t3-149\", 1.0215832900611255], [\"WP1-t3-150\", 0.3697284667148488], [\"WP1-t3-150\", 0.3247826885884555], [\"WP1-t3-151\", 0.5357316998475297], [\"WP1-t3-151\", 0.5177029109159245], [\"WP1-t3-152\", 3.1152002562684253], [\"WP1-t3-152\", 2.75421174135139], [\"WP1-t3-153\", 1.1227938927208254], [\"WP1-t3-153\", 1.2482444961191956], [\"WP1-t3-13\", 0.6745973075850205], [\"WP1-t3-13\", 1.1082559851816418], [\"WP1-t3-154\", 0.3878274623687431], [\"WP1-t3-154\", 0.35003567419763626], [\"WP1-t3-155\", 0.9949036986120146], [\"WP1-t3-155\", 1.0606462012225912], [\"WP1-t3-156\", 0.20172460412212867], [\"WP1-t3-156\", 0.23588521437549043]], \"hoverlabel\": {\"namelength\": 0}, \"hovertemplate\": \"Dilution=%{x}<br>SQ_SD=%{y}<br>ID=%{customdata[0]}<br>SQ_mean=%{customdata[1]}\", \"legendgroup\": \"\", \"marker\": {\"color\": \"#636efa\"}, \"name\": \"\", \"notched\": false, \"offsetgroup\": \"\", \"orientation\": \"v\", \"showlegend\": false, \"type\": \"box\", \"x\": [5.0, 10.0, 5.0, 10.0, 5.0, 10.0, 5.0, 10.0, 5.0, 10.0, 5.0, 10.0, 5.0, 10.0, 5.0, 10.0, 5.0, 10.0, 5.0, 10.0, 5.0, 10.0, 5.0, 10.0, 5.0, 10.0, 5.0, 10.0, 5.0, 10.0, 5.0, 10.0, 5.0, 10.0, 5.0, 10.0, 5.0, 10.0, 5.0, 10.0, 5.0, 10.0, 5.0, 10.0, 5.0, 10.0, 5.0, 10.0, 5.0, 10.0, 5.0, 10.0, 5.0, 10.0, 5.0, 10.0, 5.0, 10.0, 5.0, 10.0, 5.0, 10.0, 5.0, 10.0, 5.0, 10.0, 5.0, 10.0, 5.0, 10.0, 5.0, 10.0, 5.0, 10.0, 5.0, 10.0, 5.0, 10.0, 5.0, 10.0, 5.0, 10.0, 5.0, 10.0, 5.0, 10.0, 5.0, 10.0, 5.0, 10.0, 5.0, 10.0, 5.0, 10.0, 5.0, 10.0, 5.0, 10.0, 5.0, 10.0, 5.0, 10.0, 5.0, 10.0, 5.0, 10.0, 5.0, 10.0, 5.0, 10.0, 5.0, 10.0, 5.0, 10.0, 5.0, 10.0, 5.0, 10.0, 5.0, 10.0, 5.0, 10.0, 5.0, 10.0, 5.0, 10.0, 5.0, 10.0, 5.0, 10.0, 5.0, 10.0, 5.0, 10.0, 5.0, 10.0, 5.0, 10.0, 5.0, 10.0, 5.0, 10.0, 5.0, 10.0, 5.0, 10.0, 5.0, 10.0, 5.0, 10.0, 5.0, 10.0, 5.0, 10.0, 5.0, 10.0, 5.0, 10.0, 5.0, 10.0, 5.0, 10.0, 5.0, 10.0, 5.0, 10.0, 5.0, 10.0, 5.0, 10.0, 5.0, 10.0, 5.0, 10.0, 5.0, 10.0, 5.0, 10.0, 5.0, 10.0, 5.0, 10.0, 5.0, 10.0], \"x0\": \" \", \"xaxis\": \"x\", \"y\": [0.08466464671192099, 0.11792217053400439, 0.050797296667165495, 0.06736703606389335, 0.13382615396933614, 0.14346033409181674, 0.4133094814304441, 0.5114808924941172, 0.12501580795527054, 0.04887690479802224, 0.10090857650367875, 0.413413062810848, 0.21393105081809877, 0.508464844991401, 0.07257822368979795, 0.13316148812069967, 0.0800420681054287, 0.36997757231539924, 0.017548797404653843, 0.018268722846989518, 1.4794885122766173, 0.3090035695441003, 0.02601173835087285, 0.1302181593625506, 0.5646327707210123, 1.5010126039288954, 0.7325286644664372, 2.1475955032200758, 0.36750999313900784, 1.3316405054796012, 0.19485876324925075, 0.7428221991436568, 0.06847887370526622, 0.12522421118699853, 0.5688894341196341, 0.0481502862788198, 0.31807832276069986, 0.3264173901182833, 0.2955797126491343, 0.7334388186968599, 0.4132051090618503, 0.6963289708030344, 0.0, 0.6696951492817879, 0.03961432714357634, 0.41217875227640155, 0.06471907813508, 0.08426589879972343, 0.13699365074933803, 0.18042304435931644, 0.039334681561887186, 0.06138059161306978, 0.21273803001918537, 0.01953716091927742, 0.3055849486259897, 0.011212898378117063, 0.07405750630552893, 0.0005837068375615115, 0.15510069776664606, 0.03679223022124669, 0.1390416729678317, 0.01898590803229736, 0.06966126954038386, 0.18623180515802706, 0.08716294285259366, 0.4019023412836833, 0.16370815770419203, 0.15013548820937792, 0.13089875865100173, 0.13681806265961205, 0.39352781167949863, 0.5002088711787647, 0.16449800005925552, 0.023509535868189345, 0.4542526468173836, 0.9061207755406788, 0.18059531344389632, 0.39004945060620544, 0.08659309676335888, 0.03952488334957285, 0.1390416729678317, 0.48528028449811217, 0.1972542777514982, 0.5588912577566117, 0.4231422333001492, 1.928341753070438, 0.04805731272825, 0.3051388338747379, 0.1475908386785669, 0.2893579760820969, 0.12534452403607746, 0.11151507063980245, 0.06452492242686501, 0.12450341730163066, 0.10839419875951282, 0.16806718667045698, 0.36816073513986103, 0.053006418473300884, 0.674268050385446, 0.06320099591600654, 0.024262366198356464, 0.053869469444201803, 0.17152693625478366, 0.8238017828122643, 0.05002514052998284, 0.34214675024080526, 0.017170698126730572, 0.01664808184559676, 0.32869958473798777, 0.890396165890856, 0.1264552790601261, 0.1362941497782994, 0.005429889384494714, 0.3719708793072549, 0.040675147666076376, 0.45366170393396105, 0.17664640373791418, 0.33309400446553494, 0.014242834582911604, 0.06971176690193973, 0.0014225357881296435, 0.08736834808724261, 0.02004200164006912, 0.06710102771784326, 0.17897791005625335, 0.006447693778939713, 0.2965178650797408, 0.41040622020033474, 0.0014722423221885167, 0.034898388169533424, 0.0009313180183636668, 0.005511591333403286, 0.12154565357285065, 0.05109016372768756, 0.003181063150178641, 0.08174049419554273, 0.01103920994514268, 0.04042239062942637, 0.005417161628603687, 0.05036339348253372, 0.02937668887643585, 0.01566055030851634, 0.017302982948787793, 0.03243180632605727, 0.038463622644396706, 0.28605448653929727, 0.13769174542025311, 0.5312391592273643, 0.002709965976199188, 0.17320929812171917, 0.07006492692299275, 0.4340958777425897, 0.14388099918266284, 0.3777620160147068, 0.2654649413961875, 0.15449690483388234, 0.08794526589860657, 0.15886294807167872, 0.09499891018016288, 0.06352536469577823, 0.02649893099194008, 0.40066994279245216, 0.0030386743610888306, 0.006062629438327775, 0.005813451746215488, 0.09789682189880211, 0.1630796399543128, 0.17691387322783036, 0.1331867887632186, 0.13281987521951427, 0.2050983441608893, 0.11226389645489425, 0.8952321647424505, 0.5972509236984775, 0.10890143516087054, 0.17124399603735366, 0.06543018752412681, 0.035880527826116136, 0.11895465000634427, 0.10736313220213688, 0.0804528971246542, 0.1497593363681368, 0.004082290145330125, 0.018123044193633146], \"y0\": \" \", \"yaxis\": \"y\"}],\n",
              "                        {\"boxmode\": \"group\", \"legend\": {\"tracegroupgap\": 0}, \"template\": {\"data\": {\"bar\": [{\"error_x\": {\"color\": \"#2a3f5f\"}, \"error_y\": {\"color\": \"#2a3f5f\"}, \"marker\": {\"line\": {\"color\": \"#E5ECF6\", \"width\": 0.5}}, \"type\": \"bar\"}], \"barpolar\": [{\"marker\": {\"line\": {\"color\": \"#E5ECF6\", \"width\": 0.5}}, \"type\": \"barpolar\"}], \"carpet\": [{\"aaxis\": {\"endlinecolor\": \"#2a3f5f\", \"gridcolor\": \"white\", \"linecolor\": \"white\", \"minorgridcolor\": \"white\", \"startlinecolor\": \"#2a3f5f\"}, \"baxis\": {\"endlinecolor\": \"#2a3f5f\", \"gridcolor\": \"white\", \"linecolor\": \"white\", \"minorgridcolor\": \"white\", \"startlinecolor\": \"#2a3f5f\"}, \"type\": \"carpet\"}], \"choropleth\": [{\"colorbar\": {\"outlinewidth\": 0, \"ticks\": \"\"}, \"type\": \"choropleth\"}], \"contour\": [{\"colorbar\": {\"outlinewidth\": 0, \"ticks\": \"\"}, \"colorscale\": [[0.0, \"#0d0887\"], [0.1111111111111111, \"#46039f\"], [0.2222222222222222, \"#7201a8\"], [0.3333333333333333, \"#9c179e\"], [0.4444444444444444, \"#bd3786\"], [0.5555555555555556, \"#d8576b\"], [0.6666666666666666, \"#ed7953\"], [0.7777777777777778, \"#fb9f3a\"], [0.8888888888888888, \"#fdca26\"], [1.0, \"#f0f921\"]], \"type\": \"contour\"}], \"contourcarpet\": [{\"colorbar\": {\"outlinewidth\": 0, \"ticks\": \"\"}, \"type\": \"contourcarpet\"}], \"heatmap\": [{\"colorbar\": {\"outlinewidth\": 0, \"ticks\": \"\"}, \"colorscale\": [[0.0, \"#0d0887\"], [0.1111111111111111, \"#46039f\"], [0.2222222222222222, \"#7201a8\"], [0.3333333333333333, \"#9c179e\"], [0.4444444444444444, \"#bd3786\"], [0.5555555555555556, \"#d8576b\"], [0.6666666666666666, \"#ed7953\"], [0.7777777777777778, \"#fb9f3a\"], [0.8888888888888888, \"#fdca26\"], [1.0, \"#f0f921\"]], \"type\": \"heatmap\"}], \"heatmapgl\": [{\"colorbar\": {\"outlinewidth\": 0, \"ticks\": \"\"}, \"colorscale\": [[0.0, \"#0d0887\"], [0.1111111111111111, \"#46039f\"], [0.2222222222222222, \"#7201a8\"], [0.3333333333333333, \"#9c179e\"], [0.4444444444444444, \"#bd3786\"], [0.5555555555555556, \"#d8576b\"], [0.6666666666666666, \"#ed7953\"], [0.7777777777777778, \"#fb9f3a\"], [0.8888888888888888, \"#fdca26\"], [1.0, \"#f0f921\"]], \"type\": \"heatmapgl\"}], \"histogram\": [{\"marker\": {\"colorbar\": {\"outlinewidth\": 0, \"ticks\": \"\"}}, \"type\": \"histogram\"}], \"histogram2d\": [{\"colorbar\": {\"outlinewidth\": 0, \"ticks\": \"\"}, \"colorscale\": [[0.0, \"#0d0887\"], [0.1111111111111111, \"#46039f\"], [0.2222222222222222, \"#7201a8\"], [0.3333333333333333, \"#9c179e\"], [0.4444444444444444, \"#bd3786\"], [0.5555555555555556, \"#d8576b\"], [0.6666666666666666, \"#ed7953\"], [0.7777777777777778, \"#fb9f3a\"], [0.8888888888888888, \"#fdca26\"], [1.0, \"#f0f921\"]], \"type\": \"histogram2d\"}], \"histogram2dcontour\": [{\"colorbar\": {\"outlinewidth\": 0, \"ticks\": \"\"}, \"colorscale\": [[0.0, \"#0d0887\"], [0.1111111111111111, \"#46039f\"], [0.2222222222222222, \"#7201a8\"], [0.3333333333333333, \"#9c179e\"], [0.4444444444444444, \"#bd3786\"], [0.5555555555555556, \"#d8576b\"], [0.6666666666666666, \"#ed7953\"], [0.7777777777777778, \"#fb9f3a\"], [0.8888888888888888, \"#fdca26\"], [1.0, \"#f0f921\"]], \"type\": \"histogram2dcontour\"}], \"mesh3d\": [{\"colorbar\": {\"outlinewidth\": 0, \"ticks\": \"\"}, \"type\": \"mesh3d\"}], \"parcoords\": [{\"line\": {\"colorbar\": {\"outlinewidth\": 0, \"ticks\": \"\"}}, \"type\": \"parcoords\"}], \"pie\": [{\"automargin\": true, \"type\": \"pie\"}], \"scatter\": [{\"marker\": {\"colorbar\": {\"outlinewidth\": 0, \"ticks\": \"\"}}, \"type\": \"scatter\"}], \"scatter3d\": [{\"line\": {\"colorbar\": {\"outlinewidth\": 0, \"ticks\": \"\"}}, \"marker\": {\"colorbar\": {\"outlinewidth\": 0, \"ticks\": \"\"}}, \"type\": \"scatter3d\"}], \"scattercarpet\": [{\"marker\": {\"colorbar\": {\"outlinewidth\": 0, \"ticks\": \"\"}}, \"type\": \"scattercarpet\"}], \"scattergeo\": [{\"marker\": {\"colorbar\": {\"outlinewidth\": 0, \"ticks\": \"\"}}, \"type\": \"scattergeo\"}], \"scattergl\": [{\"marker\": {\"colorbar\": {\"outlinewidth\": 0, \"ticks\": \"\"}}, \"type\": \"scattergl\"}], \"scattermapbox\": [{\"marker\": {\"colorbar\": {\"outlinewidth\": 0, \"ticks\": \"\"}}, \"type\": \"scattermapbox\"}], \"scatterpolar\": [{\"marker\": {\"colorbar\": {\"outlinewidth\": 0, \"ticks\": \"\"}}, \"type\": \"scatterpolar\"}], \"scatterpolargl\": [{\"marker\": {\"colorbar\": {\"outlinewidth\": 0, \"ticks\": \"\"}}, \"type\": \"scatterpolargl\"}], \"scatterternary\": [{\"marker\": {\"colorbar\": {\"outlinewidth\": 0, \"ticks\": \"\"}}, \"type\": \"scatterternary\"}], \"surface\": [{\"colorbar\": {\"outlinewidth\": 0, \"ticks\": \"\"}, \"colorscale\": [[0.0, \"#0d0887\"], [0.1111111111111111, \"#46039f\"], [0.2222222222222222, \"#7201a8\"], [0.3333333333333333, \"#9c179e\"], [0.4444444444444444, \"#bd3786\"], [0.5555555555555556, \"#d8576b\"], [0.6666666666666666, \"#ed7953\"], [0.7777777777777778, \"#fb9f3a\"], [0.8888888888888888, \"#fdca26\"], [1.0, \"#f0f921\"]], \"type\": \"surface\"}], \"table\": [{\"cells\": {\"fill\": {\"color\": \"#EBF0F8\"}, \"line\": {\"color\": \"white\"}}, \"header\": {\"fill\": {\"color\": \"#C8D4E3\"}, \"line\": {\"color\": \"white\"}}, \"type\": \"table\"}]}, \"layout\": {\"annotationdefaults\": {\"arrowcolor\": \"#2a3f5f\", \"arrowhead\": 0, \"arrowwidth\": 1}, \"coloraxis\": {\"colorbar\": {\"outlinewidth\": 0, \"ticks\": \"\"}}, \"colorscale\": {\"diverging\": [[0, \"#8e0152\"], [0.1, \"#c51b7d\"], [0.2, \"#de77ae\"], [0.3, \"#f1b6da\"], [0.4, \"#fde0ef\"], [0.5, \"#f7f7f7\"], [0.6, \"#e6f5d0\"], [0.7, \"#b8e186\"], [0.8, \"#7fbc41\"], [0.9, \"#4d9221\"], [1, \"#276419\"]], \"sequential\": [[0.0, \"#0d0887\"], [0.1111111111111111, \"#46039f\"], [0.2222222222222222, \"#7201a8\"], [0.3333333333333333, \"#9c179e\"], [0.4444444444444444, \"#bd3786\"], [0.5555555555555556, \"#d8576b\"], [0.6666666666666666, \"#ed7953\"], [0.7777777777777778, \"#fb9f3a\"], [0.8888888888888888, \"#fdca26\"], [1.0, \"#f0f921\"]], \"sequentialminus\": [[0.0, \"#0d0887\"], [0.1111111111111111, \"#46039f\"], [0.2222222222222222, \"#7201a8\"], [0.3333333333333333, \"#9c179e\"], [0.4444444444444444, \"#bd3786\"], [0.5555555555555556, \"#d8576b\"], [0.6666666666666666, \"#ed7953\"], [0.7777777777777778, \"#fb9f3a\"], [0.8888888888888888, \"#fdca26\"], [1.0, \"#f0f921\"]]}, \"colorway\": [\"#636efa\", \"#EF553B\", \"#00cc96\", \"#ab63fa\", \"#FFA15A\", \"#19d3f3\", \"#FF6692\", \"#B6E880\", \"#FF97FF\", \"#FECB52\"], \"font\": {\"color\": \"#2a3f5f\"}, \"geo\": {\"bgcolor\": \"white\", \"lakecolor\": \"white\", \"landcolor\": \"#E5ECF6\", \"showlakes\": true, \"showland\": true, \"subunitcolor\": \"white\"}, \"hoverlabel\": {\"align\": \"left\"}, \"hovermode\": \"closest\", \"mapbox\": {\"style\": \"light\"}, \"paper_bgcolor\": \"white\", \"plot_bgcolor\": \"#E5ECF6\", \"polar\": {\"angularaxis\": {\"gridcolor\": \"white\", \"linecolor\": \"white\", \"ticks\": \"\"}, \"bgcolor\": \"#E5ECF6\", \"radialaxis\": {\"gridcolor\": \"white\", \"linecolor\": \"white\", \"ticks\": \"\"}}, \"scene\": {\"xaxis\": {\"backgroundcolor\": \"#E5ECF6\", \"gridcolor\": \"white\", \"gridwidth\": 2, \"linecolor\": \"white\", \"showbackground\": true, \"ticks\": \"\", \"zerolinecolor\": \"white\"}, \"yaxis\": {\"backgroundcolor\": \"#E5ECF6\", \"gridcolor\": \"white\", \"gridwidth\": 2, \"linecolor\": \"white\", \"showbackground\": true, \"ticks\": \"\", \"zerolinecolor\": \"white\"}, \"zaxis\": {\"backgroundcolor\": \"#E5ECF6\", \"gridcolor\": \"white\", \"gridwidth\": 2, \"linecolor\": \"white\", \"showbackground\": true, \"ticks\": \"\", \"zerolinecolor\": \"white\"}}, \"shapedefaults\": {\"line\": {\"color\": \"#2a3f5f\"}}, \"ternary\": {\"aaxis\": {\"gridcolor\": \"white\", \"linecolor\": \"white\", \"ticks\": \"\"}, \"baxis\": {\"gridcolor\": \"white\", \"linecolor\": \"white\", \"ticks\": \"\"}, \"bgcolor\": \"#E5ECF6\", \"caxis\": {\"gridcolor\": \"white\", \"linecolor\": \"white\", \"ticks\": \"\"}}, \"title\": {\"x\": 0.05}, \"xaxis\": {\"automargin\": true, \"gridcolor\": \"white\", \"linecolor\": \"white\", \"ticks\": \"\", \"title\": {\"standoff\": 15}, \"zerolinecolor\": \"white\", \"zerolinewidth\": 2}, \"yaxis\": {\"automargin\": true, \"gridcolor\": \"white\", \"linecolor\": \"white\", \"ticks\": \"\", \"title\": {\"standoff\": 15}, \"zerolinecolor\": \"white\", \"zerolinewidth\": 2}}}, \"title\": {\"text\": \"Plate 1 (ITS) SQ standard deviation\"}, \"xaxis\": {\"anchor\": \"y\", \"domain\": [0.0, 1.0], \"title\": {\"text\": \"Dilution\"}}, \"yaxis\": {\"anchor\": \"x\", \"domain\": [0.0, 1.0], \"title\": {\"text\": \"SQ_SD\"}}},\n",
              "                        {\"responsive\": true}\n",
              "                    ).then(function(){\n",
              "                            \n",
              "var gd = document.getElementById('411ce366-c33a-4b74-b0a0-2aa93f8dcf24');\n",
              "var x = new MutationObserver(function (mutations, observer) {{\n",
              "        var display = window.getComputedStyle(gd).display;\n",
              "        if (!display || display === 'none') {{\n",
              "            console.log([gd, 'removed!']);\n",
              "            Plotly.purge(gd);\n",
              "            observer.disconnect();\n",
              "        }}\n",
              "}});\n",
              "\n",
              "// Listen for the removal of the full notebook cells\n",
              "var notebookContainer = gd.closest('#notebook-container');\n",
              "if (notebookContainer) {{\n",
              "    x.observe(notebookContainer, {childList: true});\n",
              "}}\n",
              "\n",
              "// Listen for the clearing of the current output cell\n",
              "var outputEl = gd.closest('.output');\n",
              "if (outputEl) {{\n",
              "    x.observe(outputEl, {childList: true});\n",
              "}}\n",
              "\n",
              "                        })\n",
              "                };\n",
              "                \n",
              "            </script>\n",
              "        </div>\n",
              "</body>\n",
              "</html>"
            ]
          },
          "metadata": {
            "tags": []
          }
        },
        {
          "output_type": "display_data",
          "data": {
            "text/html": [
              "<html>\n",
              "<head><meta charset=\"utf-8\" /></head>\n",
              "<body>\n",
              "    <div>\n",
              "            <script src=\"https://cdnjs.cloudflare.com/ajax/libs/mathjax/2.7.5/MathJax.js?config=TeX-AMS-MML_SVG\"></script><script type=\"text/javascript\">if (window.MathJax) {MathJax.Hub.Config({SVG: {font: \"STIX-Web\"}});}</script>\n",
              "                <script type=\"text/javascript\">window.PlotlyConfig = {MathJaxConfig: 'local'};</script>\n",
              "        <script src=\"https://cdn.plot.ly/plotly-latest.min.js\"></script>    \n",
              "            <div id=\"47e6c337-4680-434a-94bd-cea8b34bcdf4\" class=\"plotly-graph-div\" style=\"height:525px; width:100%;\"></div>\n",
              "            <script type=\"text/javascript\">\n",
              "                \n",
              "                    window.PLOTLYENV=window.PLOTLYENV || {};\n",
              "                    \n",
              "                if (document.getElementById(\"47e6c337-4680-434a-94bd-cea8b34bcdf4\")) {\n",
              "                    Plotly.newPlot(\n",
              "                        '47e6c337-4680-434a-94bd-cea8b34bcdf4',\n",
              "                        [{\"alignmentgroup\": \"True\", \"boxpoints\": \"all\", \"customdata\": [[\"WP1-t3-1\", 3.651238757398117], [\"WP1-t3-1\", 2.960978704719257], [\"WP1-t3-14\", 0.6622781470853134], [\"WP1-t3-14\", 0.5371348128207243], [\"WP1-t3-16\", 0.7972270010049478], [\"WP1-t3-16\", 1.173383124103521], [\"WP1-t3-17\", 1.0520345803238775], [\"WP1-t3-17\", 1.1162922808549651], [\"WP1-t3-18\", 0.6992390083722211], [\"WP1-t3-18\", 0.7862615705991693], [\"WP1-t3-19\", 1.3649632381565158], [\"WP1-t3-19\", 1.6988250630017998], [\"WP1-t3-20\", 2.1774807666534097], [\"WP1-t3-20\", 1.8686905793042916], [\"WP1-t3-21\", 1.4810393597987372], [\"WP1-t3-21\", 1.810836183061189], [\"WP1-t3-22\", 1.7912136436924362], [\"WP1-t3-22\", 2.175416339493611], [\"WP1-t3-23\", 2.168618859758798], [\"WP1-t3-23\", 2.0647442691290525], [\"WP1-t3-24\", 2.263338553606628], [\"WP1-t3-24\", 2.509417266690483], [\"WP1-t3-2\", 3.2729194872836733], [\"WP1-t3-2\", 3.5927122815016053], [\"WP1-t3-25\", 1.826606208623108], [\"WP1-t3-25\", 1.8647950248898535], [\"WP1-t3-26\", 3.124703241151825], [\"WP1-t3-26\", 3.6317954042633023], [\"WP1-t3-27\", 2.034648444058285], [\"WP1-t3-27\", 1.7643309423503708], [\"WP1-t3-28\", 2.428374272096395], [\"WP1-t3-28\", 4.734581975075773], [\"WP1-t3-29\", 1.9181949285808653], [\"WP1-t3-29\", 2.8305138719997576], [\"WP1-t3-30\", 2.29034945921346], [\"WP1-t3-30\", 3.3778132769016875], [\"WP1-t3-31\", 1.6098775353086756], [\"WP1-t3-31\", 1.858680736519157], [\"WP1-t3-32\", 1.492447232882438], [\"WP1-t3-32\", 1.614910663319431], [\"WP1-t3-33\", 1.9775569800013324], [\"WP1-t3-33\", 2.866348408631115], [\"WP1-t3-34\", 1.4496616426696622], [\"WP1-t3-34\", 2.070707422142881], [\"WP1-t3-3\", 1.6571379190320585], [\"WP1-t3-3\", 1.5387927638081553], [\"WP1-t3-35\", 2.5182765567037206], [\"WP1-t3-35\", 2.8454403269718958], [\"WP1-t3-36\", 1.9844253540549388], [\"WP1-t3-36\", 2.6368231278760463], [\"WP1-t3-41\", 1.2623399938453872], [\"WP1-t3-41\", 1.4745155640296943], [\"WP1-t3-42\", 1.0456608062267627], [\"WP1-t3-42\", 1.3988354759012083], [\"WP1-t3-43\", 0.7600735728992931], [\"WP1-t3-43\", 1.1598853448746698], [\"WP1-t3-51\", 1.9187946545709875], [\"WP1-t3-51\", 0.00021040691606477574], [\"WP1-t3-55\", 1.3034041783211983], [\"WP1-t3-55\", 1.5993432168772292], [\"WP1-t3-56\", 1.9333135943998432], [\"WP1-t3-56\", 2.38661510809328], [\"WP1-t3-57\", 1.3024363143925606], [\"WP1-t3-57\", 1.350880175497321], [\"WP1-t3-58\", 2.294072729865513], [\"WP1-t3-58\", 2.4541129356120823], [\"WP1-t3-4\", 1.0162855305598972], [\"WP1-t3-4\", 1.0505148436085276], [\"WP1-t3-59\", 1.7480682092643356], [\"WP1-t3-59\", 2.3570836349675983], [\"WP1-t3-60\", 1.8726270556783136], [\"WP1-t3-60\", 2.5694153580697527], [\"WP1-t3-61\", 2.549493058038958], [\"WP1-t3-61\", 2.229517758901822], [\"WP1-t3-62\", 1.9652236014396878], [\"WP1-t3-62\", 2.1617716213393843], [\"WP1-t3-63\", 1.6414034079791948], [\"WP1-t3-63\", 2.0018379823393406], [\"WP1-t3-64\", 2.1564640376118116], [\"WP1-t3-64\", 2.0930444942904503], [\"WP1-t3-65\", 1.5721600759812762], [\"WP1-t3-65\", 2.319658937507902], [\"WP1-t3-66\", 1.8941416625681993], [\"WP1-t3-66\", 3.386361251990507], [\"WP1-t3-70\", 2.244376781343578], [\"WP1-t3-70\", 2.62371782697023], [\"WP1-t3-93\", 2.204566519169404], [\"WP1-t3-93\", 2.8196862563618668], [\"WP1-t3-6\", 1.8655638047776957], [\"WP1-t3-6\", 2.461204165840045], [\"WP1-t3-96\", 1.980411186480144], [\"WP1-t3-96\", 3.2279634168898337], [\"WP1-t3-97\", 3.5704817538429], [\"WP1-t3-97\", 4.188444854466187], [\"WP1-t3-98\", 2.0040009533631538], [\"WP1-t3-98\", 1.8244536891395502], [\"WP1-t3-99\", 2.3099273619677496], [\"WP1-t3-99\", 3.679669526453856], [\"WP1-t3-100\", 1.6914680744946033], [\"WP1-t3-100\", 2.6320121993972196], [\"WP1-t3-101\", 2.142977997347037], [\"WP1-t3-101\", 2.3427927159366986], [\"WP1-t3-102\", 1.5749990330202914], [\"WP1-t3-102\", 1.6678027081316924], [\"WP1-t3-103\", 1.4307161367752594], [\"WP1-t3-103\", 1.7232720456527262], [\"WP1-t3-104\", 1.44193683478732], [\"WP1-t3-104\", 1.8152684838997462], [\"WP1-t3-106\", 1.7515502398380536], [\"WP1-t3-106\", 2.093985198201169], [\"WP1-t3-7\", 1.2560358632629285], [\"WP1-t3-7\", 1.229325785145766], [\"WP1-t3-107\", 1.4533383091333836], [\"WP1-t3-107\", 1.9975111268409371], [\"WP1-t3-108\", 1.2573424052143896], [\"WP1-t3-108\", 1.531380547236485], [\"WP1-t3-109\", 1.8491548633210855], [\"WP1-t3-109\", 3.1828873344983526], [\"WP1-t3-110\", 1.2362692956453387], [\"WP1-t3-110\", 1.558129789850046], [\"WP1-t3-117\", 1.3321758073117778], [\"WP1-t3-117\", 1.5421360637824968], [\"WP1-t3-119\", 2.3828728543748667], [\"WP1-t3-119\", 2.800573651178843], [\"WP1-t3-128\", 1.623891754589426], [\"WP1-t3-128\", 2.0224046858384117], [\"WP1-t3-130\", 1.9939779547233794], [\"WP1-t3-130\", 2.0084337232895035], [\"WP1-t3-131\", 1.727263897192827], [\"WP1-t3-131\", 2.1813635446524753], [\"WP1-t3-132\", 1.7303266303535847], [\"WP1-t3-132\", 1.8708617821226952], [\"WP1-t3-9\", 1.8164147772485606], [\"WP1-t3-9\", 2.4369856599662607], [\"WP1-t3-134\", 1.7993897338939915], [\"WP1-t3-134\", 2.8176967559209873], [\"WP1-t3-135\", 1.9083689480299784], [\"WP1-t3-135\", 2.906676618266767], [\"WP1-t3-136\", 1.3422169447580585], [\"WP1-t3-136\", 1.6405604889237853], [\"WP1-t3-137\", 1.5047938600087098], [\"WP1-t3-137\", 2.4192110552595256], [\"WP1-t3-138\", 1.5722922134915285], [\"WP1-t3-138\", 2.0685891414507145], [\"WP1-t3-139\", 1.59331678345999], [\"WP1-t3-139\", 1.685965728756789], [\"WP1-t3-140\", 2.7182550215844454], [\"WP1-t3-140\", 3.49342704972354], [\"WP1-t3-141\", 2.5077187947028126], [\"WP1-t3-141\", 2.8542715877807776], [\"WP1-t3-142\", 1.7428109078914131], [\"WP1-t3-142\", 2.1608496326699633], [\"WP1-t3-143\", 1.7715998262051333], [\"WP1-t3-143\", 2.2820099906994304], [\"WP1-t3-12\", 1.5121400681658157], [\"WP1-t3-12\", 2.040607861481607], [\"WP1-t3-144\", 1.601866492124178], [\"WP1-t3-144\", 1.8994048904292695], [\"WP1-t3-145\", 2.4748372866308457], [\"WP1-t3-145\", 2.5161209313245214], [\"WP1-t3-146\", 2.0992821198870346], [\"WP1-t3-146\", 2.381487551768889], [\"WP1-t3-147\", 1.097894955448386], [\"WP1-t3-147\", 1.4259536786769662], [\"WP1-t3-148\", 1.5524567984116662], [\"WP1-t3-148\", 2.5279472402460446], [\"WP1-t3-149\", 1.8485169738619414], [\"WP1-t3-149\", 2.0092064856895155], [\"WP1-t3-150\", 1.2689096276838288], [\"WP1-t3-150\", 1.4754463804086098], [\"WP1-t3-151\", 2.058171806813461], [\"WP1-t3-151\", 2.200189223375312], [\"WP1-t3-152\", 2.0007536805123856], [\"WP1-t3-152\", 1.9482568210338802], [\"WP1-t3-153\", 1.478020071254865], [\"WP1-t3-153\", 1.9359744044436646], [\"WP1-t3-13\", 0.6553078842755369], [\"WP1-t3-13\", 0.7993897774193263], [\"WP1-t3-154\", 2.558192046986374], [\"WP1-t3-154\", 2.6225975108859307], [\"WP1-t3-155\", 1.894558974888388], [\"WP1-t3-155\", 2.0572038010763687], [\"WP1-t3-156\", 2.1484456668959875], [\"WP1-t3-156\", 2.6126903043156053]], \"hoverlabel\": {\"namelength\": 0}, \"hovertemplate\": \"Dilution=%{x}<br>SQ_SD=%{y}<br>ID=%{customdata[0]}<br>SQ_mean=%{customdata[1]}\", \"legendgroup\": \"\", \"marker\": {\"color\": \"#636efa\"}, \"name\": \"\", \"notched\": false, \"offsetgroup\": \"\", \"orientation\": \"v\", \"showlegend\": false, \"type\": \"box\", \"x\": [5.0, 10.0, 5.0, 10.0, 5.0, 10.0, 5.0, 10.0, 5.0, 10.0, 5.0, 10.0, 5.0, 10.0, 5.0, 10.0, 5.0, 10.0, 5.0, 10.0, 5.0, 10.0, 5.0, 10.0, 5.0, 10.0, 5.0, 10.0, 5.0, 10.0, 5.0, 10.0, 5.0, 10.0, 5.0, 10.0, 5.0, 10.0, 5.0, 10.0, 5.0, 10.0, 5.0, 10.0, 5.0, 10.0, 5.0, 10.0, 5.0, 10.0, 5.0, 10.0, 5.0, 10.0, 5.0, 10.0, 5.0, 10.0, 5.0, 10.0, 5.0, 10.0, 5.0, 10.0, 5.0, 10.0, 5.0, 10.0, 5.0, 10.0, 5.0, 10.0, 5.0, 10.0, 5.0, 10.0, 5.0, 10.0, 5.0, 10.0, 5.0, 10.0, 5.0, 10.0, 5.0, 10.0, 5.0, 10.0, 5.0, 10.0, 5.0, 10.0, 5.0, 10.0, 5.0, 10.0, 5.0, 10.0, 5.0, 10.0, 5.0, 10.0, 5.0, 10.0, 5.0, 10.0, 5.0, 10.0, 5.0, 10.0, 5.0, 10.0, 5.0, 10.0, 5.0, 10.0, 5.0, 10.0, 5.0, 10.0, 5.0, 10.0, 5.0, 10.0, 5.0, 10.0, 5.0, 10.0, 5.0, 10.0, 5.0, 10.0, 5.0, 10.0, 5.0, 10.0, 5.0, 10.0, 5.0, 10.0, 5.0, 10.0, 5.0, 10.0, 5.0, 10.0, 5.0, 10.0, 5.0, 10.0, 5.0, 10.0, 5.0, 10.0, 5.0, 10.0, 5.0, 10.0, 5.0, 10.0, 5.0, 10.0, 5.0, 10.0, 5.0, 10.0, 5.0, 10.0, 5.0, 10.0, 5.0, 10.0, 5.0, 10.0, 5.0, 10.0, 5.0, 10.0, 5.0, 10.0, 5.0, 10.0, 5.0, 10.0], \"x0\": \" \", \"xaxis\": \"x\", \"y\": [0.4552035207309592, 0.10207877271776071, 0.028536598309604238, 0.004630246750024883, 0.0034361876484460554, 0.08085595033057218, 0.0, 0.019244765181389414, 0.10806536235430787, 0.08792835079623372, 0.09992581958434224, 0.16813656920286899, 0.39204580583744164, 0.05637230210980262, 0.07656856146962476, 0.43288731373310363, 0.15421839815280333, 0.4101085368472288, 0.1401097303279384, 0.38049986605127495, 0.2918496109924505, 0.24836271792119866, 0.22553163588572525, 0.29389161813679504, 0.2042710434849302, 0.12850003618757455, 0.14809316500009292, 0.8985757816522123, 0.67972323772459, 0.0912145118347647, 0.32350720878130185, 1.0523647503804627, 0.3046177657884759, 0.4735736602008419, 0.5187037711043567, 0.5651423979375106, 0.37810331912924905, 0.3109761263654561, 0.14130831921594456, 0.07653758224900081, 0.3140447198518486, 0.20983877509666413, 0.17452933735363638, 0.49501052711643645, 0.2631607679582232, 0.09941804120975095, 0.17353040111519155, 0.061317168067143, 0.10259321853842189, 0.06818362110675162, 0.26995968388372504, 0.09526523165233634, 0.0090138777716421, 0.036171431853434265, 0.04910669426722455, 0.325575998098475, 0.09093995539747166, null, 0.07860314320239968, 0.01378676927163126, 0.6537321536608933, 0.1541939920363507, 0.03367871862067194, 0.11630693942913406, 0.49060249376573367, 0.19020761077674203, 0.14406715105076198, 0.03621615575499998, 0.15050369901094393, 0.13200409123973014, 0.22545147744693572, 0.3532698603908517, 0.43738708237036233, 0.009609611033585524, 0.21977275334561636, 0.22322544070968328, 0.17652745347476875, 0.6769030431822535, 0.44299300098437994, 0.5265999174912351, 0.28972435340594155, 0.019996084782065434, 0.35708275777594095, 1.1725492470186782, 0.193234454912169, 0.8765160297996163, 0.2087334028030694, 0.07291214086799543, 0.6080302910629864, 0.18017909681444705, 0.34816347142431425, 0.7445982836352978, 0.6731056585927355, 1.501072994829965, 0.14670830108440935, 0.35938048096968267, 0.059730669974589465, 1.0176266933085967, 0.31171093941173084, 0.6731810243289168, 0.15688249086131084, 0.5305807861694201, 0.577140386078954, 0.24353939291078533, 0.1477363459717528, 0.13356331477882938, 0.10556087957326608, 0.24958192993791795, 0.3966799524971809, 0.48302213599452265, 0.05412075130386747, 0.11111944330850751, 0.025055404366829032, 0.4355897181519564, 0.09745113656086199, 0.22361846936149163, 0.5724111519397796, 0.5865560314371435, 0.269588582919044, 0.11406709859807354, 0.5986620874659722, 0.039876933707228654, 1.2251236006527986, 0.7396197779281606, 0.2785923556000925, 0.5425167559780312, 0.42642525860918834, 0.19016310087327376, 0.31098624467284053, 0.6662897278099393, 0.3918733644755356, 0.4785041084367359, 0.21868390395481, 0.3973718472429634, 0.39995385825297025, 0.7441419182123468, 0.5277667378103066, 0.050110808733658065, 0.3264790863453062, 0.3300882164007816, 0.11016249783396263, 0.6890749624207333, 0.48025105834977017, 0.6910619438237133, 0.25980425075438446, 0.2820791549685789, 1.221547649007676, 0.7028933780588317, 0.6727038732326249, 0.0738064568759177, 0.9025557155717284, 0.20459418795079073, 0.5119345477457085, 0.8086252968141955, 0.032585517897491936, 0.21946055891977787, 0.17227539024631167, 0.4381380575572948, 0.4455835354380294, 0.4530164735377365, 0.3779664844691802, 0.8438749550865012, 0.0, 0.2869083521409112, 0.14032743580625132, 0.13069286942046437, 0.3484816114161659, 0.30195757948694235, 0.4031949816276867, 0.12069469811012101, 0.7789606983548719, 0.3118956077330357, 0.8601621912959053, 0.46573824270169084, 0.12090523157568188, 0.3485636507537455, 0.11798529360021814, 0.10649443893093856, 0.2092656303329889, 0.32696180659142743, 0.02449703368027725, 0.1771193938774682, 0.54053858578165, 0.05630157447990087], \"y0\": \" \", \"yaxis\": \"y\"}],\n",
              "                        {\"boxmode\": \"group\", \"legend\": {\"tracegroupgap\": 0}, \"template\": {\"data\": {\"bar\": [{\"error_x\": {\"color\": \"#2a3f5f\"}, \"error_y\": {\"color\": \"#2a3f5f\"}, \"marker\": {\"line\": {\"color\": \"#E5ECF6\", \"width\": 0.5}}, \"type\": \"bar\"}], \"barpolar\": [{\"marker\": {\"line\": {\"color\": \"#E5ECF6\", \"width\": 0.5}}, \"type\": \"barpolar\"}], \"carpet\": [{\"aaxis\": {\"endlinecolor\": \"#2a3f5f\", \"gridcolor\": \"white\", \"linecolor\": \"white\", \"minorgridcolor\": \"white\", \"startlinecolor\": \"#2a3f5f\"}, \"baxis\": {\"endlinecolor\": \"#2a3f5f\", \"gridcolor\": \"white\", \"linecolor\": \"white\", \"minorgridcolor\": \"white\", \"startlinecolor\": \"#2a3f5f\"}, \"type\": \"carpet\"}], \"choropleth\": [{\"colorbar\": {\"outlinewidth\": 0, \"ticks\": \"\"}, \"type\": \"choropleth\"}], \"contour\": [{\"colorbar\": {\"outlinewidth\": 0, \"ticks\": \"\"}, \"colorscale\": [[0.0, \"#0d0887\"], [0.1111111111111111, \"#46039f\"], [0.2222222222222222, \"#7201a8\"], [0.3333333333333333, \"#9c179e\"], [0.4444444444444444, \"#bd3786\"], [0.5555555555555556, \"#d8576b\"], [0.6666666666666666, \"#ed7953\"], [0.7777777777777778, \"#fb9f3a\"], [0.8888888888888888, \"#fdca26\"], [1.0, \"#f0f921\"]], \"type\": \"contour\"}], \"contourcarpet\": [{\"colorbar\": {\"outlinewidth\": 0, \"ticks\": \"\"}, \"type\": \"contourcarpet\"}], \"heatmap\": [{\"colorbar\": {\"outlinewidth\": 0, \"ticks\": \"\"}, \"colorscale\": [[0.0, \"#0d0887\"], [0.1111111111111111, \"#46039f\"], [0.2222222222222222, \"#7201a8\"], [0.3333333333333333, \"#9c179e\"], [0.4444444444444444, \"#bd3786\"], [0.5555555555555556, \"#d8576b\"], [0.6666666666666666, \"#ed7953\"], [0.7777777777777778, \"#fb9f3a\"], [0.8888888888888888, \"#fdca26\"], [1.0, \"#f0f921\"]], \"type\": \"heatmap\"}], \"heatmapgl\": [{\"colorbar\": {\"outlinewidth\": 0, \"ticks\": \"\"}, \"colorscale\": [[0.0, \"#0d0887\"], [0.1111111111111111, \"#46039f\"], [0.2222222222222222, \"#7201a8\"], [0.3333333333333333, \"#9c179e\"], [0.4444444444444444, \"#bd3786\"], [0.5555555555555556, \"#d8576b\"], [0.6666666666666666, \"#ed7953\"], [0.7777777777777778, \"#fb9f3a\"], [0.8888888888888888, \"#fdca26\"], [1.0, \"#f0f921\"]], \"type\": \"heatmapgl\"}], \"histogram\": [{\"marker\": {\"colorbar\": {\"outlinewidth\": 0, \"ticks\": \"\"}}, \"type\": \"histogram\"}], \"histogram2d\": [{\"colorbar\": {\"outlinewidth\": 0, \"ticks\": \"\"}, \"colorscale\": [[0.0, \"#0d0887\"], [0.1111111111111111, \"#46039f\"], [0.2222222222222222, \"#7201a8\"], [0.3333333333333333, \"#9c179e\"], [0.4444444444444444, \"#bd3786\"], [0.5555555555555556, \"#d8576b\"], [0.6666666666666666, \"#ed7953\"], [0.7777777777777778, \"#fb9f3a\"], [0.8888888888888888, \"#fdca26\"], [1.0, \"#f0f921\"]], \"type\": \"histogram2d\"}], \"histogram2dcontour\": [{\"colorbar\": {\"outlinewidth\": 0, \"ticks\": \"\"}, \"colorscale\": [[0.0, \"#0d0887\"], [0.1111111111111111, \"#46039f\"], [0.2222222222222222, \"#7201a8\"], [0.3333333333333333, \"#9c179e\"], [0.4444444444444444, \"#bd3786\"], [0.5555555555555556, \"#d8576b\"], [0.6666666666666666, \"#ed7953\"], [0.7777777777777778, \"#fb9f3a\"], [0.8888888888888888, \"#fdca26\"], [1.0, \"#f0f921\"]], \"type\": \"histogram2dcontour\"}], \"mesh3d\": [{\"colorbar\": {\"outlinewidth\": 0, \"ticks\": \"\"}, \"type\": \"mesh3d\"}], \"parcoords\": [{\"line\": {\"colorbar\": {\"outlinewidth\": 0, \"ticks\": \"\"}}, \"type\": \"parcoords\"}], \"pie\": [{\"automargin\": true, \"type\": \"pie\"}], \"scatter\": [{\"marker\": {\"colorbar\": {\"outlinewidth\": 0, \"ticks\": \"\"}}, \"type\": \"scatter\"}], \"scatter3d\": [{\"line\": {\"colorbar\": {\"outlinewidth\": 0, \"ticks\": \"\"}}, \"marker\": {\"colorbar\": {\"outlinewidth\": 0, \"ticks\": \"\"}}, \"type\": \"scatter3d\"}], \"scattercarpet\": [{\"marker\": {\"colorbar\": {\"outlinewidth\": 0, \"ticks\": \"\"}}, \"type\": \"scattercarpet\"}], \"scattergeo\": [{\"marker\": {\"colorbar\": {\"outlinewidth\": 0, \"ticks\": \"\"}}, \"type\": \"scattergeo\"}], \"scattergl\": [{\"marker\": {\"colorbar\": {\"outlinewidth\": 0, \"ticks\": \"\"}}, \"type\": \"scattergl\"}], \"scattermapbox\": [{\"marker\": {\"colorbar\": {\"outlinewidth\": 0, \"ticks\": \"\"}}, \"type\": \"scattermapbox\"}], \"scatterpolar\": [{\"marker\": {\"colorbar\": {\"outlinewidth\": 0, \"ticks\": \"\"}}, \"type\": \"scatterpolar\"}], \"scatterpolargl\": [{\"marker\": {\"colorbar\": {\"outlinewidth\": 0, \"ticks\": \"\"}}, \"type\": \"scatterpolargl\"}], \"scatterternary\": [{\"marker\": {\"colorbar\": {\"outlinewidth\": 0, \"ticks\": \"\"}}, \"type\": \"scatterternary\"}], \"surface\": [{\"colorbar\": {\"outlinewidth\": 0, \"ticks\": \"\"}, \"colorscale\": [[0.0, \"#0d0887\"], [0.1111111111111111, \"#46039f\"], [0.2222222222222222, \"#7201a8\"], [0.3333333333333333, \"#9c179e\"], [0.4444444444444444, \"#bd3786\"], [0.5555555555555556, \"#d8576b\"], [0.6666666666666666, \"#ed7953\"], [0.7777777777777778, \"#fb9f3a\"], [0.8888888888888888, \"#fdca26\"], [1.0, \"#f0f921\"]], \"type\": \"surface\"}], \"table\": [{\"cells\": {\"fill\": {\"color\": \"#EBF0F8\"}, \"line\": {\"color\": \"white\"}}, \"header\": {\"fill\": {\"color\": \"#C8D4E3\"}, \"line\": {\"color\": \"white\"}}, \"type\": \"table\"}]}, \"layout\": {\"annotationdefaults\": {\"arrowcolor\": \"#2a3f5f\", \"arrowhead\": 0, \"arrowwidth\": 1}, \"coloraxis\": {\"colorbar\": {\"outlinewidth\": 0, \"ticks\": \"\"}}, \"colorscale\": {\"diverging\": [[0, \"#8e0152\"], [0.1, \"#c51b7d\"], [0.2, \"#de77ae\"], [0.3, \"#f1b6da\"], [0.4, \"#fde0ef\"], [0.5, \"#f7f7f7\"], [0.6, \"#e6f5d0\"], [0.7, \"#b8e186\"], [0.8, \"#7fbc41\"], [0.9, \"#4d9221\"], [1, \"#276419\"]], \"sequential\": [[0.0, \"#0d0887\"], [0.1111111111111111, \"#46039f\"], [0.2222222222222222, \"#7201a8\"], [0.3333333333333333, \"#9c179e\"], [0.4444444444444444, \"#bd3786\"], [0.5555555555555556, \"#d8576b\"], [0.6666666666666666, \"#ed7953\"], [0.7777777777777778, \"#fb9f3a\"], [0.8888888888888888, \"#fdca26\"], [1.0, \"#f0f921\"]], \"sequentialminus\": [[0.0, \"#0d0887\"], [0.1111111111111111, \"#46039f\"], [0.2222222222222222, \"#7201a8\"], [0.3333333333333333, \"#9c179e\"], [0.4444444444444444, \"#bd3786\"], [0.5555555555555556, \"#d8576b\"], [0.6666666666666666, \"#ed7953\"], [0.7777777777777778, \"#fb9f3a\"], [0.8888888888888888, \"#fdca26\"], [1.0, \"#f0f921\"]]}, \"colorway\": [\"#636efa\", \"#EF553B\", \"#00cc96\", \"#ab63fa\", \"#FFA15A\", \"#19d3f3\", \"#FF6692\", \"#B6E880\", \"#FF97FF\", \"#FECB52\"], \"font\": {\"color\": \"#2a3f5f\"}, \"geo\": {\"bgcolor\": \"white\", \"lakecolor\": \"white\", \"landcolor\": \"#E5ECF6\", \"showlakes\": true, \"showland\": true, \"subunitcolor\": \"white\"}, \"hoverlabel\": {\"align\": \"left\"}, \"hovermode\": \"closest\", \"mapbox\": {\"style\": \"light\"}, \"paper_bgcolor\": \"white\", \"plot_bgcolor\": \"#E5ECF6\", \"polar\": {\"angularaxis\": {\"gridcolor\": \"white\", \"linecolor\": \"white\", \"ticks\": \"\"}, \"bgcolor\": \"#E5ECF6\", \"radialaxis\": {\"gridcolor\": \"white\", \"linecolor\": \"white\", \"ticks\": \"\"}}, \"scene\": {\"xaxis\": {\"backgroundcolor\": \"#E5ECF6\", \"gridcolor\": \"white\", \"gridwidth\": 2, \"linecolor\": \"white\", \"showbackground\": true, \"ticks\": \"\", \"zerolinecolor\": \"white\"}, \"yaxis\": {\"backgroundcolor\": \"#E5ECF6\", \"gridcolor\": \"white\", \"gridwidth\": 2, \"linecolor\": \"white\", \"showbackground\": true, \"ticks\": \"\", \"zerolinecolor\": \"white\"}, \"zaxis\": {\"backgroundcolor\": \"#E5ECF6\", \"gridcolor\": \"white\", \"gridwidth\": 2, \"linecolor\": \"white\", \"showbackground\": true, \"ticks\": \"\", \"zerolinecolor\": \"white\"}}, \"shapedefaults\": {\"line\": {\"color\": \"#2a3f5f\"}}, \"ternary\": {\"aaxis\": {\"gridcolor\": \"white\", \"linecolor\": \"white\", \"ticks\": \"\"}, \"baxis\": {\"gridcolor\": \"white\", \"linecolor\": \"white\", \"ticks\": \"\"}, \"bgcolor\": \"#E5ECF6\", \"caxis\": {\"gridcolor\": \"white\", \"linecolor\": \"white\", \"ticks\": \"\"}}, \"title\": {\"x\": 0.05}, \"xaxis\": {\"automargin\": true, \"gridcolor\": \"white\", \"linecolor\": \"white\", \"ticks\": \"\", \"title\": {\"standoff\": 15}, \"zerolinecolor\": \"white\", \"zerolinewidth\": 2}, \"yaxis\": {\"automargin\": true, \"gridcolor\": \"white\", \"linecolor\": \"white\", \"ticks\": \"\", \"title\": {\"standoff\": 15}, \"zerolinecolor\": \"white\", \"zerolinewidth\": 2}}}, \"title\": {\"text\": \"Plate 2 (16S) SQ standard deviation\"}, \"xaxis\": {\"anchor\": \"y\", \"domain\": [0.0, 1.0], \"title\": {\"text\": \"Dilution\"}}, \"yaxis\": {\"anchor\": \"x\", \"domain\": [0.0, 1.0], \"title\": {\"text\": \"SQ_SD\"}}},\n",
              "                        {\"responsive\": true}\n",
              "                    ).then(function(){\n",
              "                            \n",
              "var gd = document.getElementById('47e6c337-4680-434a-94bd-cea8b34bcdf4');\n",
              "var x = new MutationObserver(function (mutations, observer) {{\n",
              "        var display = window.getComputedStyle(gd).display;\n",
              "        if (!display || display === 'none') {{\n",
              "            console.log([gd, 'removed!']);\n",
              "            Plotly.purge(gd);\n",
              "            observer.disconnect();\n",
              "        }}\n",
              "}});\n",
              "\n",
              "// Listen for the removal of the full notebook cells\n",
              "var notebookContainer = gd.closest('#notebook-container');\n",
              "if (notebookContainer) {{\n",
              "    x.observe(notebookContainer, {childList: true});\n",
              "}}\n",
              "\n",
              "// Listen for the clearing of the current output cell\n",
              "var outputEl = gd.closest('.output');\n",
              "if (outputEl) {{\n",
              "    x.observe(outputEl, {childList: true});\n",
              "}}\n",
              "\n",
              "                        })\n",
              "                };\n",
              "                \n",
              "            </script>\n",
              "        </div>\n",
              "</body>\n",
              "</html>"
            ]
          },
          "metadata": {
            "tags": []
          }
        },
        {
          "output_type": "display_data",
          "data": {
            "text/html": [
              "<html>\n",
              "<head><meta charset=\"utf-8\" /></head>\n",
              "<body>\n",
              "    <div>\n",
              "            <script src=\"https://cdnjs.cloudflare.com/ajax/libs/mathjax/2.7.5/MathJax.js?config=TeX-AMS-MML_SVG\"></script><script type=\"text/javascript\">if (window.MathJax) {MathJax.Hub.Config({SVG: {font: \"STIX-Web\"}});}</script>\n",
              "                <script type=\"text/javascript\">window.PlotlyConfig = {MathJaxConfig: 'local'};</script>\n",
              "        <script src=\"https://cdn.plot.ly/plotly-latest.min.js\"></script>    \n",
              "            <div id=\"6d95d968-d0c4-4df6-b075-e15ea25f6b25\" class=\"plotly-graph-div\" style=\"height:525px; width:100%;\"></div>\n",
              "            <script type=\"text/javascript\">\n",
              "                \n",
              "                    window.PLOTLYENV=window.PLOTLYENV || {};\n",
              "                    \n",
              "                if (document.getElementById(\"6d95d968-d0c4-4df6-b075-e15ea25f6b25\")) {\n",
              "                    Plotly.newPlot(\n",
              "                        '6d95d968-d0c4-4df6-b075-e15ea25f6b25',\n",
              "                        [{\"alignmentgroup\": \"True\", \"boxpoints\": \"all\", \"customdata\": [[\"WP1-t2-10\", 0.01298719063083188], [\"WP1-t2-10\", 0.01447059279233192], [\"WP1-t2-38\", 0.007474984688053963], [\"WP1-t2-38\", 0.01127070986448327], [\"WP1-t2-39\", 0.003652525035031878], [\"WP1-t2-39\", 0.013407770815275423], [\"WP1-t2-40\", 0.00646321921274744], [\"WP1-t2-40\", 0.019391114375086154], [\"WP1-t2-41\", 0.01678658358220362], [\"WP1-t2-41\", 0.03591430105388223], [\"WP1-t2-49\", 0.12850731803653917], [\"WP1-t2-49\", 0.12848894312077014], [\"WP1-t2-50\", 0.009583050238808254], [\"WP1-t2-50\", 0.010530857021570346], [\"WP1-t2-51\", 0.013284598681374063], [\"WP1-t2-51\", 0.020894527688529653], [\"WP1-t2-52\", 0.009813644670944945], [\"WP1-t2-52\", 0.008046263688132984], [\"WP1-t2-53\", 0.02735952743023817], [\"WP1-t2-53\", 0.03884956816741267], [\"WP1-t2-54\", 0.007546072027070467], [\"WP1-t2-54\", 0.017269452408619455], [\"WP1-t2-17\", 0.01649164438384932], [\"WP1-t2-17\", 0.016355044834849963], [\"WP1-t2-56\", 0.013779749066695355], [\"WP1-t2-56\", 0.014787274149046771], [\"WP1-t2-57\", 0.010517415696951582], [\"WP1-t2-57\", 0.01835469692587334], [\"WP1-t2-58\", 0.02928214688902797], [\"WP1-t2-58\", 0.030657217545216095], [\"WP1-t2-59\", 0.011480233470782034], [\"WP1-t2-59\", 0.017506499216486036], [\"WP1-t2-60\", 0.012193268915067773], [\"WP1-t2-60\", 0.023697737928208593], [\"WP1-t2-61\", 0.007445599568059418], [\"WP1-t2-61\", 0.018021280307995928], [\"WP1-t2-62\", 0.018342685365113215], [\"WP1-t2-62\", 0.029498119314108798], [\"WP1-t2-63\", 0.0045152600035840845], [\"WP1-t2-63\", 0.008044554533441281], [\"WP1-t2-70\", 0.05253425198453943], [\"WP1-t2-70\", 0.05101318706789647], [\"WP1-t2-78\", 0.013763324958686249], [\"WP1-t2-78\", 0.023333291465313644], [\"WP1-t2-18\", 0.09575841217683392], [\"WP1-t2-18\", 0.0764249657245686], [\"WP1-t2-79\", 0.022249788361545265], [\"WP1-t2-79\", 0.02233548512381063], [\"WP1-t2-80\", 0.025083804214146483], [\"WP1-t2-80\", 0.01584847920395549], [\"WP1-t2-81\", 0.030951348034812396], [\"WP1-t2-81\", 0.04930597392596489], [\"WP1-t2-82\", 0.02145865382878849], [\"WP1-t2-82\", 0.10255266266067382], [\"WP1-t2-83\", 0.0146610061155559], [\"WP1-t2-83\", 0.02875575210994602], [\"WP1-t2-84\", 0.008199592615812603], [\"WP1-t2-84\", 0.016100722545043557], [\"WP1-t2-85\", 0.016321993628067362], [\"WP1-t2-85\", 0.014966939185198138], [\"WP1-t2-86\", 0.026426661696306634], [\"WP1-t2-86\", 0.061059082074186026], [\"WP1-t2-87\", 0.2839139534606836], [\"WP1-t2-87\", 0.23602201958282598], [\"WP1-t2-88\", 0.015813324874523405], [\"WP1-t2-88\", 0.01590067990711776], [\"WP1-t2-20\", 0.1461268633092108], [\"WP1-t2-20\", 0.11140757339989933], [\"WP1-t2-89\", 0.01412505118418454], [\"WP1-t2-89\", 0.039638010016339736], [\"WP1-t2-90\", 0.011510598630362415], [\"WP1-t2-90\", 0.032989032409410646], [\"WP1-t2-91\", 0.01662743650474243], [\"WP1-t2-91\", 0.018583209387705128], [\"WP1-t2-92\", 0.2793277564560543], [\"WP1-t2-92\", 0.1821838870816625], [\"WP1-t2-93\", 0.010323012148820084], [\"WP1-t2-93\", 0.017122030798368677], [\"WP1-t2-94\", 0.012243176685444921], [\"WP1-t2-94\", 0.016447235122291282], [\"WP1-t2-95\", 0.01459682584197878], [\"WP1-t2-95\", 0.024401061182008632], [\"WP1-t2-96\", 0.007093809408672051], [\"WP1-t2-96\", 0.00827180722113382], [\"WP1-t2-102\", 0.019763035063024098], [\"WP1-t2-102\", 0.02873151660552622], [\"WP1-t2-104\", 0.021741781835455602], [\"WP1-t2-104\", 0.02875012569937059], [\"WP1-t2-21\", 0.11727619906843899], [\"WP1-t2-21\", 0.11822552800678143], [\"WP1-t2-110\", 0.010943218502022786], [\"WP1-t2-110\", 0.010196179925585629], [\"WP1-t2-111\", 0.044821141090092886], [\"WP1-t2-111\", 0.07379126092202926], [\"WP1-t2-112\", 0.058410304023399334], [\"WP1-t2-112\", 0.06494090001319414], [\"WP1-t2-113\", 0.009635601537330354], [\"WP1-t2-113\", 0.012041535251585158], [\"WP1-t2-114\", 1.2758512066744139], [\"WP1-t2-114\", 1.2039199710172022], [\"WP1-t2-116\", 0.02427078774480658], [\"WP1-t2-116\", 0.030350886900912567], [\"WP1-t2-118\", 0.02047206851534858], [\"WP1-t2-118\", 0.02950686275571746], [\"WP1-t2-120\", 0.002806918785396509], [\"WP1-t2-120\", 0.006363188248213588], [\"WP1-t2-121\", 0.034856419704280585], [\"WP1-t2-121\", 0.036745669878332186], [\"WP1-t2-122\", 0.014332416270210578], [\"WP1-t2-122\", 0.016053261153214128], [\"WP1-t2-25\", 0.01101920776572363], [\"WP1-t2-25\", 0.00934736406360526], [\"WP1-t2-123\", 0.011230959419457221], [\"WP1-t2-123\", 0.021625417033829586], [\"WP1-t2-124\", 0.018183079325068276], [\"WP1-t2-124\", 0.03538176773124469], [\"WP1-t2-125\", 0.20087594956244154], [\"WP1-t2-125\", 0.25894366915793926], [\"WP1-t2-126\", 0.007759380661059733], [\"WP1-t2-126\", 0.009505649869579316], [\"WP1-t2-127\", 0.029328438805327393], [\"WP1-t2-127\", 0.055687091355636834], [\"WP1-t2-128\", 0.017593792711015036], [\"WP1-t2-128\", 0.021563165208300802], [\"WP1-t2-129\", 0.05173763818276973], [\"WP1-t2-129\", 0.04890591984167689], [\"WP1-t2-131\", 0.012865675986576574], [\"WP1-t2-131\", 0.01802122686734953], [\"WP1-t2-132\", 0.02096113807174182], [\"WP1-t2-132\", 0.022842819319374617], [\"WP1-t2-133\", 0.0587681160893604], [\"WP1-t2-133\", 0.07504321104725123], [\"WP1-t2-33\", 0.016497499453505107], [\"WP1-t2-33\", 0.04708538075186045], [\"WP1-t2-134\", 0.010623904694734877], [\"WP1-t2-134\", 0.015832795878053488], [\"WP1-t2-135\", 0.03002296622289307], [\"WP1-t2-135\", 0.04198155952391329], [\"WP1-t2-136\", 0.36450983342939003], [\"WP1-t2-136\", 0.38785362749675745], [\"WP1-t2-137\", 0.04651924594400688], [\"WP1-t2-137\", 0.045241746971731785], [\"WP1-t2-138\", 0.02088694188616269], [\"WP1-t2-138\", 0.016137514023365523], [\"WP1-t2-139\", 0.25126284297510687], [\"WP1-t2-139\", 0.22255928995739194], [\"WP1-t2-142\", 0.025051229114671607], [\"WP1-t2-142\", 0.04615182803426135], [\"WP1-t2-143\", 0.018753206951470206], [\"WP1-t2-143\", 0.02075900811466802], [\"WP1-t2-144\", 0.0735056764144886], [\"WP1-t2-144\", 0.07464696914554973], [\"WP1-t2-146\", 0.0445711413976099], [\"WP1-t2-146\", 0.04759097423390699], [\"WP1-t2-34\", 0.006481914691547379], [\"WP1-t2-34\", 0.013440586185169967], [\"WP1-t2-147\", 0.047518309838656514], [\"WP1-t2-147\", 0.0554277628350462], [\"WP1-t2-148\", 0.02390643126125635], [\"WP1-t2-148\", 0.0438508257729088], [\"WP1-t2-149\", 0.019367204415527788], [\"WP1-t2-149\", 0.021475975719301578], [\"WP1-t2-151\", 0.007264691846012281], [\"WP1-t2-151\", 0.025175211957683588], [\"WP1-t2-152\", 0.05231052465397492], [\"WP1-t2-152\", 0.11186709072001794], [\"WP1-t2-155\", 0.016050589302868304], [\"WP1-t2-155\", 0.032241883579228796], [\"WP1-t2-156\", 0.08212325221061384], [\"WP1-t2-156\", 0.10691780431371412], [\"WP1-t2-158\", 0.019469407197691475], [\"WP1-t2-158\", 0.01900608461020958], [\"WP1-t2-159\", 0.010323976421163346], [\"WP1-t2-159\", 0.019426734464492182], [\"WP1-t2-161\", 0.015586242888310613], [\"WP1-t2-161\", 0.03673160787575307], [\"WP1-t2-37\", 0.007148594544897665], [\"WP1-t2-37\", 0.016459232440744768], [\"WP1-t2-162\", 0.02130134467565221], [\"WP1-t2-162\", 0.025352711301247714], [\"WP1-t2-163\", 0.004750533772677467], [\"WP1-t2-163\", 0.01243386940601288], [\"WP1-t2-195\", 0.010349089372690017], [\"WP1-t2-195\", 0.018376637318608426]], \"hoverlabel\": {\"namelength\": 0}, \"hovertemplate\": \"Dilution=%{x}<br>SQ_SD=%{y}<br>ID=%{customdata[0]}<br>SQ_mean=%{customdata[1]}\", \"legendgroup\": \"\", \"marker\": {\"color\": \"#636efa\"}, \"name\": \"\", \"notched\": false, \"offsetgroup\": \"\", \"orientation\": \"v\", \"showlegend\": false, \"type\": \"box\", \"x\": [10.0, 50.0, 10.0, 50.0, 10.0, 50.0, 10.0, 50.0, 10.0, 50.0, 10.0, 50.0, 10.0, 50.0, 10.0, 50.0, 10.0, 50.0, 10.0, 50.0, 10.0, 50.0, 10.0, 50.0, 10.0, 50.0, 10.0, 50.0, 10.0, 50.0, 10.0, 50.0, 10.0, 50.0, 10.0, 50.0, 10.0, 50.0, 10.0, 50.0, 10.0, 50.0, 10.0, 50.0, 10.0, 50.0, 10.0, 50.0, 10.0, 50.0, 10.0, 50.0, 10.0, 50.0, 10.0, 50.0, 10.0, 50.0, 10.0, 50.0, 10.0, 50.0, 10.0, 50.0, 10.0, 50.0, 10.0, 50.0, 10.0, 50.0, 10.0, 50.0, 10.0, 50.0, 10.0, 50.0, 10.0, 50.0, 10.0, 50.0, 10.0, 50.0, 10.0, 50.0, 10.0, 50.0, 10.0, 50.0, 10.0, 50.0, 10.0, 50.0, 10.0, 50.0, 10.0, 50.0, 10.0, 50.0, 10.0, 50.0, 10.0, 50.0, 10.0, 50.0, 10.0, 50.0, 10.0, 50.0, 10.0, 50.0, 10.0, 50.0, 10.0, 50.0, 10.0, 50.0, 10.0, 50.0, 10.0, 50.0, 10.0, 50.0, 10.0, 50.0, 10.0, 50.0, 10.0, 50.0, 10.0, 50.0, 10.0, 50.0, 10.0, 50.0, 10.0, 50.0, 10.0, 50.0, 10.0, 50.0, 10.0, 50.0, 10.0, 50.0, 10.0, 50.0, 10.0, 50.0, 10.0, 50.0, 10.0, 50.0, 10.0, 50.0, 10.0, 50.0, 10.0, 50.0, 10.0, 50.0, 10.0, 50.0, 10.0, 50.0, 10.0, 50.0, 10.0, 50.0, 10.0, 50.0, 10.0, 50.0, 10.0, 50.0, 10.0, 50.0, 10.0, 50.0, 10.0, 50.0, 10.0, 50.0, 10.0, 50.0], \"x0\": \" \", \"xaxis\": \"x\", \"y\": [0.0004988436224352406, 0.0005049862744573293, 0.0001628258543666015, 0.006044537066704559, 0.0022431568733646294, 0.009139022861890094, 0.0009630985090721012, 0.01426643649335704, 0.0001602316294590934, 0.019635139990953152, 0.019022154291141215, 0.024113148642999863, 0.002797965684911223, 0.004366454697357055, 0.0002900299049545626, 0.001248489583501846, 0.0013165030545712868, 0.0017484444199293205, 0.003584554593163732, 0.0012470186845805744, 0.0006978082728845598, 0.012451224057043514, 0.004901491123331685, 0.0063157755436386905, 0.0012134919012195776, 0.004637491789634369, 0.002724373738395496, 0.002492581552806441, 0.011911211683302461, 0.003855358386486553, 0.002769770655988743, 0.005139321021612224, 0.0003423177922810699, 0.003043228646626626, 0.0009688246107120019, 0.0054713934380572395, 0.004000714946960862, 0.00027739825076048723, 0.0013559057140305904, 0.001620344106785357, 0.010772386135347901, 0.016593423813363806, 0.0017659138964504365, 0.004235347474258814, 0.043174199349223556, 0.01119972285056129, 9.095685712067901e-05, 0.0025442101337502703, 0.0117215178681047, 0.002350110159437271, 0.0017303317956710688, 0.0263504310518214, 0.0013454692461798772, 0.11359794835292583, 0.002099172030364042, 0.0011537829767450222, 0.0007539837055280259, 0.0005121566665513159, 0.007765192763099544, 0.01172162688218289, 0.0013476197915815514, 0.03293082331151998, 0.04090613698932105, 0.006027832571643806, 0.0018627170268956264, 0.0060249299301201285, 0.03283120532566527, 0.001176688877903557, 0.002583165013378676, 0.030400069507085528, 0.005425093996705225, 0.018347527949180223, 0.0010751283510157814, 0.00420618173857545, 0.02584714947987154, 0.007769311572089083, 0.0036062665085777297, 0.006593887729362921, 0.002271559125751216, 0.002284626528678999, 0.0032890278001258704, 0.0014913306627168876, 0.0009299635547617821, 0.00270062050381625, 0.011165655037507669, 0.0009797392298651064, 0.0006965482842452336, 0.000160437227859198, 0.018832000065626964, 0.011279336286344876, 0.0007505498216068235, 0.0008446188491278827, 0.0010306305717003017, 0.05008757377087773, 0.004329260401761724, 0.004218900414504093, 0.0020048792325621676, 0.0004818163771665595, 0.14197321592818857, 0.039127946775031536, 0.004094979875748209, 0.006359478425972567, 0.002139758004097206, 0.00675265334679623, 0.0005490739660749506, 0.0018803784346541018, 0.02385222388409862, 0.0022943077804645677, 0.002478509795642522, 0.0051444212268520716, 0.0020927162512107906, 0.0007128845141039179, 0.0004793799887800551, 0.003033986308692675, 0.0025503370747463473, 0.024262673966959896, 0.0273668522602895, 0.017464682016520315, 0.0043048721459750345, 0.0008109776881193829, 0.0019865246732989218, 0.0242978373009135, 0.0009866758748484734, 0.000976760416713058, 0.01725569368961192, 0.007332177900554183, 0.0010107251517897306, 0.001202361687597345, 0.005176384915711233, 0.004130983789089677, 0.01177778633913619, 0.007693997824723409, 0.003799854074445527, 0.03662283002810438, 0.0004750465708199975, 0.007028986186158867, 0.0027420890034288194, 0.007827020117075926, 0.05955876099514317, 0.058484839211221454, 0.0008958228453276024, 0.014902166601660312, 0.0013194260152674542, 0.0013179209550934368, 0.010916775917696141, 0.02684776382351844, 0.005621702752623745, 0.023540898269375728, 0.0007052872338705418, 0.00047672016555852043, 0.011388913453371433, 0.006787207089982351, 0.0005943943231963637, 0.0049136462237329434, 0.0008815887396278369, 0.0008842012140944781, 0.006021161924586195, 0.010323373145632283, 0.002130422514379372, 0.020736046080254658, 0.001755344539484865, 0.0007690393133226144, 0.0005072407666902287, 0.014253684216926566, 0.009237966314799029, 0.10351167695197315, 0.0023424264809519713, 0.0017484990002318106, 0.006714179233896897, 0.002376699180297772, 0.004856245281598416, 0.0015088820013189118, 0.0030550998911050772, 0.0019825628055858426, 0.0017537003823706549, 0.01838090936482451, 0.002711043670532265, 0.006719609664699235, 0.0014197840431433902, 0.00046642217616829976, 0.0006894497608157612, 0.0006582295669046678, 0.0034730187614742713, 0.0051160376362292415], \"y0\": \" \", \"yaxis\": \"y\"}],\n",
              "                        {\"boxmode\": \"group\", \"legend\": {\"tracegroupgap\": 0}, \"template\": {\"data\": {\"bar\": [{\"error_x\": {\"color\": \"#2a3f5f\"}, \"error_y\": {\"color\": \"#2a3f5f\"}, \"marker\": {\"line\": {\"color\": \"#E5ECF6\", \"width\": 0.5}}, \"type\": \"bar\"}], \"barpolar\": [{\"marker\": {\"line\": {\"color\": \"#E5ECF6\", \"width\": 0.5}}, \"type\": \"barpolar\"}], \"carpet\": [{\"aaxis\": {\"endlinecolor\": \"#2a3f5f\", \"gridcolor\": \"white\", \"linecolor\": \"white\", \"minorgridcolor\": \"white\", \"startlinecolor\": \"#2a3f5f\"}, \"baxis\": {\"endlinecolor\": \"#2a3f5f\", \"gridcolor\": \"white\", \"linecolor\": \"white\", \"minorgridcolor\": \"white\", \"startlinecolor\": \"#2a3f5f\"}, \"type\": \"carpet\"}], \"choropleth\": [{\"colorbar\": {\"outlinewidth\": 0, \"ticks\": \"\"}, \"type\": \"choropleth\"}], \"contour\": [{\"colorbar\": {\"outlinewidth\": 0, \"ticks\": \"\"}, \"colorscale\": [[0.0, \"#0d0887\"], [0.1111111111111111, \"#46039f\"], [0.2222222222222222, \"#7201a8\"], [0.3333333333333333, \"#9c179e\"], [0.4444444444444444, \"#bd3786\"], [0.5555555555555556, \"#d8576b\"], [0.6666666666666666, \"#ed7953\"], [0.7777777777777778, \"#fb9f3a\"], [0.8888888888888888, \"#fdca26\"], [1.0, \"#f0f921\"]], \"type\": \"contour\"}], \"contourcarpet\": [{\"colorbar\": {\"outlinewidth\": 0, \"ticks\": \"\"}, \"type\": \"contourcarpet\"}], \"heatmap\": [{\"colorbar\": {\"outlinewidth\": 0, \"ticks\": \"\"}, \"colorscale\": [[0.0, \"#0d0887\"], [0.1111111111111111, \"#46039f\"], [0.2222222222222222, \"#7201a8\"], [0.3333333333333333, \"#9c179e\"], [0.4444444444444444, \"#bd3786\"], [0.5555555555555556, \"#d8576b\"], [0.6666666666666666, \"#ed7953\"], [0.7777777777777778, \"#fb9f3a\"], [0.8888888888888888, \"#fdca26\"], [1.0, \"#f0f921\"]], \"type\": \"heatmap\"}], \"heatmapgl\": [{\"colorbar\": {\"outlinewidth\": 0, \"ticks\": \"\"}, \"colorscale\": [[0.0, \"#0d0887\"], [0.1111111111111111, \"#46039f\"], [0.2222222222222222, \"#7201a8\"], [0.3333333333333333, \"#9c179e\"], [0.4444444444444444, \"#bd3786\"], [0.5555555555555556, \"#d8576b\"], [0.6666666666666666, \"#ed7953\"], [0.7777777777777778, \"#fb9f3a\"], [0.8888888888888888, \"#fdca26\"], [1.0, \"#f0f921\"]], \"type\": \"heatmapgl\"}], \"histogram\": [{\"marker\": {\"colorbar\": {\"outlinewidth\": 0, \"ticks\": \"\"}}, \"type\": \"histogram\"}], \"histogram2d\": [{\"colorbar\": {\"outlinewidth\": 0, \"ticks\": \"\"}, \"colorscale\": [[0.0, \"#0d0887\"], [0.1111111111111111, \"#46039f\"], [0.2222222222222222, \"#7201a8\"], [0.3333333333333333, \"#9c179e\"], [0.4444444444444444, \"#bd3786\"], [0.5555555555555556, \"#d8576b\"], [0.6666666666666666, \"#ed7953\"], [0.7777777777777778, \"#fb9f3a\"], [0.8888888888888888, \"#fdca26\"], [1.0, \"#f0f921\"]], \"type\": \"histogram2d\"}], \"histogram2dcontour\": [{\"colorbar\": {\"outlinewidth\": 0, \"ticks\": \"\"}, \"colorscale\": [[0.0, \"#0d0887\"], [0.1111111111111111, \"#46039f\"], [0.2222222222222222, \"#7201a8\"], [0.3333333333333333, \"#9c179e\"], [0.4444444444444444, \"#bd3786\"], [0.5555555555555556, \"#d8576b\"], [0.6666666666666666, \"#ed7953\"], [0.7777777777777778, \"#fb9f3a\"], [0.8888888888888888, \"#fdca26\"], [1.0, \"#f0f921\"]], \"type\": \"histogram2dcontour\"}], \"mesh3d\": [{\"colorbar\": {\"outlinewidth\": 0, \"ticks\": \"\"}, \"type\": \"mesh3d\"}], \"parcoords\": [{\"line\": {\"colorbar\": {\"outlinewidth\": 0, \"ticks\": \"\"}}, \"type\": \"parcoords\"}], \"pie\": [{\"automargin\": true, \"type\": \"pie\"}], \"scatter\": [{\"marker\": {\"colorbar\": {\"outlinewidth\": 0, \"ticks\": \"\"}}, \"type\": \"scatter\"}], \"scatter3d\": [{\"line\": {\"colorbar\": {\"outlinewidth\": 0, \"ticks\": \"\"}}, \"marker\": {\"colorbar\": {\"outlinewidth\": 0, \"ticks\": \"\"}}, \"type\": \"scatter3d\"}], \"scattercarpet\": [{\"marker\": {\"colorbar\": {\"outlinewidth\": 0, \"ticks\": \"\"}}, \"type\": \"scattercarpet\"}], \"scattergeo\": [{\"marker\": {\"colorbar\": {\"outlinewidth\": 0, \"ticks\": \"\"}}, \"type\": \"scattergeo\"}], \"scattergl\": [{\"marker\": {\"colorbar\": {\"outlinewidth\": 0, \"ticks\": \"\"}}, \"type\": \"scattergl\"}], \"scattermapbox\": [{\"marker\": {\"colorbar\": {\"outlinewidth\": 0, \"ticks\": \"\"}}, \"type\": \"scattermapbox\"}], \"scatterpolar\": [{\"marker\": {\"colorbar\": {\"outlinewidth\": 0, \"ticks\": \"\"}}, \"type\": \"scatterpolar\"}], \"scatterpolargl\": [{\"marker\": {\"colorbar\": {\"outlinewidth\": 0, \"ticks\": \"\"}}, \"type\": \"scatterpolargl\"}], \"scatterternary\": [{\"marker\": {\"colorbar\": {\"outlinewidth\": 0, \"ticks\": \"\"}}, \"type\": \"scatterternary\"}], \"surface\": [{\"colorbar\": {\"outlinewidth\": 0, \"ticks\": \"\"}, \"colorscale\": [[0.0, \"#0d0887\"], [0.1111111111111111, \"#46039f\"], [0.2222222222222222, \"#7201a8\"], [0.3333333333333333, \"#9c179e\"], [0.4444444444444444, \"#bd3786\"], [0.5555555555555556, \"#d8576b\"], [0.6666666666666666, \"#ed7953\"], [0.7777777777777778, \"#fb9f3a\"], [0.8888888888888888, \"#fdca26\"], [1.0, \"#f0f921\"]], \"type\": \"surface\"}], \"table\": [{\"cells\": {\"fill\": {\"color\": \"#EBF0F8\"}, \"line\": {\"color\": \"white\"}}, \"header\": {\"fill\": {\"color\": \"#C8D4E3\"}, \"line\": {\"color\": \"white\"}}, \"type\": \"table\"}]}, \"layout\": {\"annotationdefaults\": {\"arrowcolor\": \"#2a3f5f\", \"arrowhead\": 0, \"arrowwidth\": 1}, \"coloraxis\": {\"colorbar\": {\"outlinewidth\": 0, \"ticks\": \"\"}}, \"colorscale\": {\"diverging\": [[0, \"#8e0152\"], [0.1, \"#c51b7d\"], [0.2, \"#de77ae\"], [0.3, \"#f1b6da\"], [0.4, \"#fde0ef\"], [0.5, \"#f7f7f7\"], [0.6, \"#e6f5d0\"], [0.7, \"#b8e186\"], [0.8, \"#7fbc41\"], [0.9, \"#4d9221\"], [1, \"#276419\"]], \"sequential\": [[0.0, \"#0d0887\"], [0.1111111111111111, \"#46039f\"], [0.2222222222222222, \"#7201a8\"], [0.3333333333333333, \"#9c179e\"], [0.4444444444444444, \"#bd3786\"], [0.5555555555555556, \"#d8576b\"], [0.6666666666666666, \"#ed7953\"], [0.7777777777777778, \"#fb9f3a\"], [0.8888888888888888, \"#fdca26\"], [1.0, \"#f0f921\"]], \"sequentialminus\": [[0.0, \"#0d0887\"], [0.1111111111111111, \"#46039f\"], [0.2222222222222222, \"#7201a8\"], [0.3333333333333333, \"#9c179e\"], [0.4444444444444444, \"#bd3786\"], [0.5555555555555556, \"#d8576b\"], [0.6666666666666666, \"#ed7953\"], [0.7777777777777778, \"#fb9f3a\"], [0.8888888888888888, \"#fdca26\"], [1.0, \"#f0f921\"]]}, \"colorway\": [\"#636efa\", \"#EF553B\", \"#00cc96\", \"#ab63fa\", \"#FFA15A\", \"#19d3f3\", \"#FF6692\", \"#B6E880\", \"#FF97FF\", \"#FECB52\"], \"font\": {\"color\": \"#2a3f5f\"}, \"geo\": {\"bgcolor\": \"white\", \"lakecolor\": \"white\", \"landcolor\": \"#E5ECF6\", \"showlakes\": true, \"showland\": true, \"subunitcolor\": \"white\"}, \"hoverlabel\": {\"align\": \"left\"}, \"hovermode\": \"closest\", \"mapbox\": {\"style\": \"light\"}, \"paper_bgcolor\": \"white\", \"plot_bgcolor\": \"#E5ECF6\", \"polar\": {\"angularaxis\": {\"gridcolor\": \"white\", \"linecolor\": \"white\", \"ticks\": \"\"}, \"bgcolor\": \"#E5ECF6\", \"radialaxis\": {\"gridcolor\": \"white\", \"linecolor\": \"white\", \"ticks\": \"\"}}, \"scene\": {\"xaxis\": {\"backgroundcolor\": \"#E5ECF6\", \"gridcolor\": \"white\", \"gridwidth\": 2, \"linecolor\": \"white\", \"showbackground\": true, \"ticks\": \"\", \"zerolinecolor\": \"white\"}, \"yaxis\": {\"backgroundcolor\": \"#E5ECF6\", \"gridcolor\": \"white\", \"gridwidth\": 2, \"linecolor\": \"white\", \"showbackground\": true, \"ticks\": \"\", \"zerolinecolor\": \"white\"}, \"zaxis\": {\"backgroundcolor\": \"#E5ECF6\", \"gridcolor\": \"white\", \"gridwidth\": 2, \"linecolor\": \"white\", \"showbackground\": true, \"ticks\": \"\", \"zerolinecolor\": \"white\"}}, \"shapedefaults\": {\"line\": {\"color\": \"#2a3f5f\"}}, \"ternary\": {\"aaxis\": {\"gridcolor\": \"white\", \"linecolor\": \"white\", \"ticks\": \"\"}, \"baxis\": {\"gridcolor\": \"white\", \"linecolor\": \"white\", \"ticks\": \"\"}, \"bgcolor\": \"#E5ECF6\", \"caxis\": {\"gridcolor\": \"white\", \"linecolor\": \"white\", \"ticks\": \"\"}}, \"title\": {\"x\": 0.05}, \"xaxis\": {\"automargin\": true, \"gridcolor\": \"white\", \"linecolor\": \"white\", \"ticks\": \"\", \"title\": {\"standoff\": 15}, \"zerolinecolor\": \"white\", \"zerolinewidth\": 2}, \"yaxis\": {\"automargin\": true, \"gridcolor\": \"white\", \"linecolor\": \"white\", \"ticks\": \"\", \"title\": {\"standoff\": 15}, \"zerolinecolor\": \"white\", \"zerolinewidth\": 2}}}, \"title\": {\"text\": \"Plate 3 (ITS) SQ standard deviation\"}, \"xaxis\": {\"anchor\": \"y\", \"domain\": [0.0, 1.0], \"title\": {\"text\": \"Dilution\"}}, \"yaxis\": {\"anchor\": \"x\", \"domain\": [0.0, 1.0], \"title\": {\"text\": \"SQ_SD\"}}},\n",
              "                        {\"responsive\": true}\n",
              "                    ).then(function(){\n",
              "                            \n",
              "var gd = document.getElementById('6d95d968-d0c4-4df6-b075-e15ea25f6b25');\n",
              "var x = new MutationObserver(function (mutations, observer) {{\n",
              "        var display = window.getComputedStyle(gd).display;\n",
              "        if (!display || display === 'none') {{\n",
              "            console.log([gd, 'removed!']);\n",
              "            Plotly.purge(gd);\n",
              "            observer.disconnect();\n",
              "        }}\n",
              "}});\n",
              "\n",
              "// Listen for the removal of the full notebook cells\n",
              "var notebookContainer = gd.closest('#notebook-container');\n",
              "if (notebookContainer) {{\n",
              "    x.observe(notebookContainer, {childList: true});\n",
              "}}\n",
              "\n",
              "// Listen for the clearing of the current output cell\n",
              "var outputEl = gd.closest('.output');\n",
              "if (outputEl) {{\n",
              "    x.observe(outputEl, {childList: true});\n",
              "}}\n",
              "\n",
              "                        })\n",
              "                };\n",
              "                \n",
              "            </script>\n",
              "        </div>\n",
              "</body>\n",
              "</html>"
            ]
          },
          "metadata": {
            "tags": []
          }
        },
        {
          "output_type": "display_data",
          "data": {
            "text/html": [
              "<html>\n",
              "<head><meta charset=\"utf-8\" /></head>\n",
              "<body>\n",
              "    <div>\n",
              "            <script src=\"https://cdnjs.cloudflare.com/ajax/libs/mathjax/2.7.5/MathJax.js?config=TeX-AMS-MML_SVG\"></script><script type=\"text/javascript\">if (window.MathJax) {MathJax.Hub.Config({SVG: {font: \"STIX-Web\"}});}</script>\n",
              "                <script type=\"text/javascript\">window.PlotlyConfig = {MathJaxConfig: 'local'};</script>\n",
              "        <script src=\"https://cdn.plot.ly/plotly-latest.min.js\"></script>    \n",
              "            <div id=\"fadca114-a429-46ea-a107-2b971df5ee73\" class=\"plotly-graph-div\" style=\"height:525px; width:100%;\"></div>\n",
              "            <script type=\"text/javascript\">\n",
              "                \n",
              "                    window.PLOTLYENV=window.PLOTLYENV || {};\n",
              "                    \n",
              "                if (document.getElementById(\"fadca114-a429-46ea-a107-2b971df5ee73\")) {\n",
              "                    Plotly.newPlot(\n",
              "                        'fadca114-a429-46ea-a107-2b971df5ee73',\n",
              "                        [{\"alignmentgroup\": \"True\", \"boxpoints\": \"all\", \"customdata\": [[\"WP1-t2-10\", 0.8655844391947534], [\"WP1-t2-10\", 1.052967503271807], [\"WP1-t2-38\", 1.7508456808760757], [\"WP1-t2-38\", 3.048923512174651], [\"WP1-t2-39\", 1.6186806304854664], [\"WP1-t2-39\", 2.1722168892854623], [\"WP1-t2-40\", 1.50026156915009], [\"WP1-t2-40\", 1.8458247053004335], [\"WP1-t2-41\", 1.7394398268551914], [\"WP1-t2-41\", 2.6892385885376306], [\"WP1-t2-49\", 1.876282472515891], [\"WP1-t2-49\", 2.5136908121863772], [\"WP1-t2-50\", 1.6350938111334101], [\"WP1-t2-50\", 2.4344070112194856], [\"WP1-t2-51\", 2.6269450508816017], [\"WP1-t2-51\", 3.7972936181674335], [\"WP1-t2-52\", 0.9422593598921294], [\"WP1-t2-52\", 1.1331407919682128], [\"WP1-t2-53\", 1.8439202943432647], [\"WP1-t2-53\", 2.7820541542951034], [\"WP1-t2-54\", 1.5197027388742863], [\"WP1-t2-54\", 1.9369697241379327], [\"WP1-t2-17\", 2.900766293999034], [\"WP1-t2-17\", 3.7807659777473894], [\"WP1-t2-56\", 1.8298183826277494], [\"WP1-t2-56\", 2.476669711504254], [\"WP1-t2-57\", 1.253356836962964], [\"WP1-t2-57\", 1.3887604577727424], [\"WP1-t2-58\", 4.690815846631508], [\"WP1-t2-58\", 5.858932683990616], [\"WP1-t2-59\", 1.576751004872094], [\"WP1-t2-59\", 2.1736468105548195], [\"WP1-t2-60\", 1.6953212954567998], [\"WP1-t2-60\", 2.9192515935407393], [\"WP1-t2-61\", 1.2712890442663478], [\"WP1-t2-61\", 1.4628650930486966], [\"WP1-t2-62\", 1.6302261193854388], [\"WP1-t2-62\", 1.9994398706303147], [\"WP1-t2-63\", 1.3373967165680747], [\"WP1-t2-63\", 1.8545736381790117], [\"WP1-t2-70\", 0.8189113885119712], [\"WP1-t2-70\", 0.8182143271325253], [\"WP1-t2-78\", 1.1736599410770165], [\"WP1-t2-78\", 1.394999895404087], [\"WP1-t2-18\", 1.3141597886243477], [\"WP1-t2-18\", 2.2108326289112856], [\"WP1-t2-79\", 1.3916265199069082], [\"WP1-t2-79\", 1.3925197407382655], [\"WP1-t2-80\", 1.1636034385384897], [\"WP1-t2-80\", 1.1947887331462914], [\"WP1-t2-81\", 1.6962415640739525], [\"WP1-t2-81\", 2.0353601360999254], [\"WP1-t2-82\", 1.2833532419993856], [\"WP1-t2-82\", 0.8199040314100547], [\"WP1-t2-83\", 2.321847437485724], [\"WP1-t2-83\", 2.579875491939626], [\"WP1-t2-84\", 1.7960594789744988], [\"WP1-t2-84\", 2.0414460352470867], [\"WP1-t2-85\", 1.611823456390204], [\"WP1-t2-85\", 2.106920326683432], [\"WP1-t2-86\", 1.6070101444319824], [\"WP1-t2-86\", 2.1219813433862846], [\"WP1-t2-87\", 1.0350572608079047], [\"WP1-t2-87\", 1.573617937579745], [\"WP1-t2-88\", 1.7533597055434798], [\"WP1-t2-88\", 1.9001946593126315], [\"WP1-t2-20\", 1.2678764557651958], [\"WP1-t2-20\", 2.314045391841718], [\"WP1-t2-89\", 2.315312258800093], [\"WP1-t2-89\", 2.439956483848575], [\"WP1-t2-90\", 2.2829896492096218], [\"WP1-t2-90\", 2.583188727870624], [\"WP1-t2-91\", 2.6131956318172938], [\"WP1-t2-91\", 3.3634228077882753], [\"WP1-t2-92\", 2.7526073244421583], [\"WP1-t2-92\", 2.0422468936831173], [\"WP1-t2-93\", 2.909794743801831], [\"WP1-t2-93\", 4.574947688555769], [\"WP1-t2-94\", 3.3611944169546257], [\"WP1-t2-94\", 3.87689457883297], [\"WP1-t2-95\", 2.72218949625337], [\"WP1-t2-95\", 2.8985269809734544], [\"WP1-t2-96\", 2.050278009624171], [\"WP1-t2-96\", 2.834093963869966], [\"WP1-t2-102\", 1.0492238337459947], [\"WP1-t2-102\", 1.3571953912198573], [\"WP1-t2-104\", 0.2801021767653436], [\"WP1-t2-104\", 0.42558502215607574], [\"WP1-t2-21\", 0.8708528307697536], [\"WP1-t2-21\", 1.2500874722889121], [\"WP1-t2-110\", 0.13086482183750806], [\"WP1-t2-110\", 0.1357888442570786], [\"WP1-t2-111\", 2.4886314152814917], [\"WP1-t2-111\", 2.4917134919722965], [\"WP1-t2-112\", 1.1349440934613253], [\"WP1-t2-112\", 1.373987564913541], [\"WP1-t2-113\", 0.7047295227170783], [\"WP1-t2-113\", 0.8244124669269814], [\"WP1-t2-114\", 0.026229137625383037], [\"WP1-t2-114\", 0.04150456627628423], [\"WP1-t2-116\", 1.5134759216879972], [\"WP1-t2-116\", 1.488333340823504], [\"WP1-t2-118\", 1.0079681450249651], [\"WP1-t2-118\", 1.915343474777714], [\"WP1-t2-120\", 0.008640107544874858], [\"WP1-t2-120\", 0.011570978203531833], [\"WP1-t2-121\", 0.9355428603391136], [\"WP1-t2-121\", 1.3405301605389766], [\"WP1-t2-122\", 0.7627026669553315], [\"WP1-t2-122\", 1.0687117433136628], [\"WP1-t2-25\", 1.7722568726100603], [\"WP1-t2-25\", 2.55451605003263], [\"WP1-t2-123\", 0.8918878113449716], [\"WP1-t2-123\", 1.2515390697021025], [\"WP1-t2-124\", 1.097529514078024], [\"WP1-t2-124\", 1.587339324636798], [\"WP1-t2-125\", 2.6218025249816908], [\"WP1-t2-125\", 3.833800738868005], [\"WP1-t2-126\", 0.3920159096226339], [\"WP1-t2-126\", 0.6658856183935875], [\"WP1-t2-127\", 2.9455794478937145], [\"WP1-t2-127\", 4.469256823131197], [\"WP1-t2-128\", 0.9456493647578055], [\"WP1-t2-128\", 1.495922247815327], [\"WP1-t2-129\", 1.5691280926344764], [\"WP1-t2-129\", 2.503213469643198], [\"WP1-t2-131\", 1.0195011741566526], [\"WP1-t2-131\", 1.3340035575125513], [\"WP1-t2-132\", 2.3544051959107115], [\"WP1-t2-132\", 3.347208565191016], [\"WP1-t2-133\", 1.1977315647590259], [\"WP1-t2-133\", 0.50105687552735], [\"WP1-t2-33\", 2.9518951451619806], [\"WP1-t2-33\", 3.7700979614949044], [\"WP1-t2-134\", 1.1572272120879976], [\"WP1-t2-134\", 1.3701681411605733], [\"WP1-t2-135\", 1.1124991962598596], [\"WP1-t2-135\", 1.661006508889217], [\"WP1-t2-136\", 1.5421549221426765], [\"WP1-t2-136\", 2.1884597215162347], [\"WP1-t2-137\", 1.3840033811090255], [\"WP1-t2-137\", 1.808417119431243], [\"WP1-t2-138\", 2.8255256544577367], [\"WP1-t2-138\", 3.7306485798506936], [\"WP1-t2-139\", 0.5397514977253942], [\"WP1-t2-139\", 0.7533221495190405], [\"WP1-t2-142\", 0.6121248796852052], [\"WP1-t2-142\", 0.9787215499612965], [\"WP1-t2-143\", 0.0430589735346521], [\"WP1-t2-143\", 0.05871911594762114], [\"WP1-t2-144\", 0.86578764709792], [\"WP1-t2-144\", 1.3380305542265174], [\"WP1-t2-146\", 0.3623516911109853], [\"WP1-t2-146\", 0.443471440308179], [\"WP1-t2-34\", 1.2959267897494842], [\"WP1-t2-34\", 1.8676727059546643], [\"WP1-t2-147\", 0.286233587186515], [\"WP1-t2-147\", 0.4552643670943954], [\"WP1-t2-148\", 0.4654097284507477], [\"WP1-t2-148\", 0.6439913042589442], [\"WP1-t2-149\", 0.7648183170904159], [\"WP1-t2-149\", 1.170792133949583], [\"WP1-t2-151\", 1.4658903608073794], [\"WP1-t2-151\", 1.9872231418538948], [\"WP1-t2-152\", 1.929946061515231], [\"WP1-t2-152\", 3.112945855478401], [\"WP1-t2-155\", 1.5177162386382292], [\"WP1-t2-155\", 2.3481089323556867], [\"WP1-t2-156\", 2.838480394087119], [\"WP1-t2-156\", 4.024059506555248], [\"WP1-t2-158\", 2.3988846897191403], [\"WP1-t2-158\", 3.455742228904244], [\"WP1-t2-159\", 1.2125117604615316], [\"WP1-t2-159\", 1.4188705418128853], [\"WP1-t2-161\", 1.7649970576960554], [\"WP1-t2-161\", 2.1825584115706587], [\"WP1-t2-37\", 1.3742515239309374], [\"WP1-t2-37\", 0.9666489083619324], [\"WP1-t2-162\", 2.09240544122159], [\"WP1-t2-162\", 3.359459457250683], [\"WP1-t2-163\", 1.1604725773908864], [\"WP1-t2-163\", 1.3603642882582196], [\"WP1-t2-195\", 1.4453146308518101], [\"WP1-t2-195\", 2.118832063381113]], \"hoverlabel\": {\"namelength\": 0}, \"hovertemplate\": \"Dilution=%{x}<br>SQ_SD=%{y}<br>ID=%{customdata[0]}<br>SQ_mean=%{customdata[1]}\", \"legendgroup\": \"\", \"marker\": {\"color\": \"#636efa\"}, \"name\": \"\", \"notched\": false, \"offsetgroup\": \"\", \"orientation\": \"v\", \"showlegend\": false, \"type\": \"box\", \"x\": [10.0, 50.0, 10.0, 50.0, 10.0, 50.0, 10.0, 50.0, 10.0, 50.0, 10.0, 50.0, 10.0, 50.0, 10.0, 50.0, 10.0, 50.0, 10.0, 50.0, 10.0, 50.0, 10.0, 50.0, 10.0, 50.0, 10.0, 50.0, 10.0, 50.0, 10.0, 50.0, 10.0, 50.0, 10.0, 50.0, 10.0, 50.0, 10.0, 50.0, 10.0, 50.0, 10.0, 50.0, 10.0, 50.0, 10.0, 50.0, 10.0, 50.0, 10.0, 50.0, 10.0, 50.0, 10.0, 50.0, 10.0, 50.0, 10.0, 50.0, 10.0, 50.0, 10.0, 50.0, 10.0, 50.0, 10.0, 50.0, 10.0, 50.0, 10.0, 50.0, 10.0, 50.0, 10.0, 50.0, 10.0, 50.0, 10.0, 50.0, 10.0, 50.0, 10.0, 50.0, 10.0, 50.0, 10.0, 50.0, 10.0, 50.0, 10.0, 50.0, 10.0, 50.0, 10.0, 50.0, 10.0, 50.0, 10.0, 50.0, 10.0, 50.0, 10.0, 50.0, 10.0, 50.0, 10.0, 50.0, 10.0, 50.0, 10.0, 50.0, 10.0, 50.0, 10.0, 50.0, 10.0, 50.0, 10.0, 50.0, 10.0, 50.0, 10.0, 50.0, 10.0, 50.0, 10.0, 50.0, 10.0, 50.0, 10.0, 50.0, 10.0, 50.0, 10.0, 50.0, 10.0, 50.0, 10.0, 50.0, 10.0, 50.0, 10.0, 50.0, 10.0, 50.0, 10.0, 50.0, 10.0, 50.0, 10.0, 50.0, 10.0, 50.0, 10.0, 50.0, 10.0, 50.0, 10.0, 50.0, 10.0, 50.0, 10.0, 50.0, 10.0, 50.0, 10.0, 50.0, 10.0, 50.0, 10.0, 50.0, 10.0, 50.0, 10.0, 50.0, 10.0, 50.0, 10.0, 50.0, 10.0, 50.0, 10.0, 50.0], \"x0\": \" \", \"xaxis\": \"x\", \"y\": [0.08525181964118372, 0.007416323970558329, 0.18216105006122404, 0.8410034194093263, 0.04538242157864074, 0.16438990303605192, 0.01301674241312862, 0.05215864376706142, 0.032125242829958454, 0.27782379840872545, 0.0010634157258156698, 0.362190500872624, 0.017263559695519737, 0.3419501431666972, 0.058685178361449625, 0.47185659339654334, 0.0032743002993705674, 0.022480354857717655, 0.09714563025203857, 0.34288503646262447, 0.057992568409236736, 0.3358810418254715, 0.07379881559339163, 0.5103721608026226, 0.0793009104779394, 0.022140003590036407, 0.0416121126297598, 0.06920217273828068, 0.3817071387906976, 0.19584599495964108, 0.024369024929536, 0.11719885004056928, 0.2875479046133218, 0.6842232681275012, 0.08123181263514084, 0.10253186735189139, 0.007992275896607042, 0.0569163934224704, 0.03495412916455635, 0.03391835509587041, 0.015128529515846553, 0.09036758709941083, 0.05939837904636613, 0.06359495208516115, 0.003261992547208751, 0.35125404876591765, 0.04962753111274816, 0.0004230746820776553, 0.16125101132446287, 0.007823790033758493, 0.03630418080946223, 0.26727392374393577, 0.029694066583406686, 0.0777010624911714, 0.15241854258073437, 0.029247924329793104, 0.26715417744193426, 0.49767571235009267, 0.08048432342133305, 0.06448358345421323, 0.08268573841327066, 0.09426601843128736, 0.026534327967518877, 0.21108619927721364, 0.08898637714060384, 6.088411924066249e-05, 0.01608141671255118, 0.3172677641418553, 0.02040332635771737, 0.01333443833705564, 0.12946993769990053, 0.018593773267922217, 0.211037215284567, 0.2037084992879247, 0.024701123997808386, 0.11327179693822027, 0.11074585836366517, 0.3590149063886448, 0.3532624205871779, 0.1508489700570342, 0.029212027577305566, 0.16323572131566577, 0.06538637053908355, 0.3052637308717323, 0.04616452352269469, 0.03471504985512705, 0.009325328251434933, 0.03310373202832477, 0.031744487953771716, 0.034853872206538565, 0.002232163259602322, 0.0022719513267283643, 0.16008943378416815, 0.06734191020940448, 0.11193256250655104, 0.07857217718093729, 0.019789895849834774, 0.043126674418945965, 0.002773950808749714, 0.000158140672540473, 0.12643891077530361, 0.08533111321518122, 0.04802364179446816, 0.13790105773677713, 0.000825678618593761, 0.0010620988107815448, 0.020297535470399676, 0.1019142960577256, 0.04206926543384874, 0.3419122775601469, 0.011219446672154212, 0.0006162217437489503, 0.017092760694816057, 0.09555103413223767, 0.0202695355523636, 0.031943879901979354, 0.009539077613719919, 0.06475998938343579, 0.00027383968419649645, 0.06264610280462475, 0.11662025053526183, 0.011505593870203832, 0.0006896479053855527, 0.10443274518394301, 0.02615844987543706, 0.07643019894945925, 0.006045901772784633, 0.0202051214233247, 0.05286011413386891, 0.1402834706976464, 0.06688445851914254, 0.6946189810501793, 0.008489039817367287, 1.390079361777699, 0.05327096369878652, 0.10602824679253148, 0.0077857278315675875, 0.13284811802474572, 0.009715212059755684, 0.00843126838811853, 0.002217046422495697, 0.5552500417715589, 0.16410320581985977, 0.6387513183947737, 0.011533656512341438, 0.0012507359931348972, 0.04863260033735279, 0.1056622158433529, 0.001542479482434576, 0.012621287308332061, 0.07636716474024564, 0.02704042085696151, 0.012569755682335775, 0.025306763032030874, 0.0667413522717543, 0.20232724267111424, 0.004055793009228089, 0.04261671890785255, 0.015223477456273225, 0.004519057293793652, 0.14030530430774688, 0.07556293837932292, 0.13673520241673412, 0.055383092688714976, 0.08270583975609447, 0.04381986436018661, 0.04486535559287154, 0.011556729256191814, 0.14367922522441084, 0.44369235105400956, 0.021423271602601032, 0.03565225143219705, 0.03384987542614848, 0.007018651369187665, 0.189565842730818, 0.18843402494278988, 0.06493673106300975, null, 0.054559331954377364, 0.4582309218209131, 0.04357620230959571, 0.002636982622772172, 0.017404933552133923, 0.1678488819319363], \"y0\": \" \", \"yaxis\": \"y\"}],\n",
              "                        {\"boxmode\": \"group\", \"legend\": {\"tracegroupgap\": 0}, \"template\": {\"data\": {\"bar\": [{\"error_x\": {\"color\": \"#2a3f5f\"}, \"error_y\": {\"color\": \"#2a3f5f\"}, \"marker\": {\"line\": {\"color\": \"#E5ECF6\", \"width\": 0.5}}, \"type\": \"bar\"}], \"barpolar\": [{\"marker\": {\"line\": {\"color\": \"#E5ECF6\", \"width\": 0.5}}, \"type\": \"barpolar\"}], \"carpet\": [{\"aaxis\": {\"endlinecolor\": \"#2a3f5f\", \"gridcolor\": \"white\", \"linecolor\": \"white\", \"minorgridcolor\": \"white\", \"startlinecolor\": \"#2a3f5f\"}, \"baxis\": {\"endlinecolor\": \"#2a3f5f\", \"gridcolor\": \"white\", \"linecolor\": \"white\", \"minorgridcolor\": \"white\", \"startlinecolor\": \"#2a3f5f\"}, \"type\": \"carpet\"}], \"choropleth\": [{\"colorbar\": {\"outlinewidth\": 0, \"ticks\": \"\"}, \"type\": \"choropleth\"}], \"contour\": [{\"colorbar\": {\"outlinewidth\": 0, \"ticks\": \"\"}, \"colorscale\": [[0.0, \"#0d0887\"], [0.1111111111111111, \"#46039f\"], [0.2222222222222222, \"#7201a8\"], [0.3333333333333333, \"#9c179e\"], [0.4444444444444444, \"#bd3786\"], [0.5555555555555556, \"#d8576b\"], [0.6666666666666666, \"#ed7953\"], [0.7777777777777778, \"#fb9f3a\"], [0.8888888888888888, \"#fdca26\"], [1.0, \"#f0f921\"]], \"type\": \"contour\"}], \"contourcarpet\": [{\"colorbar\": {\"outlinewidth\": 0, \"ticks\": \"\"}, \"type\": \"contourcarpet\"}], \"heatmap\": [{\"colorbar\": {\"outlinewidth\": 0, \"ticks\": \"\"}, \"colorscale\": [[0.0, \"#0d0887\"], [0.1111111111111111, \"#46039f\"], [0.2222222222222222, \"#7201a8\"], [0.3333333333333333, \"#9c179e\"], [0.4444444444444444, \"#bd3786\"], [0.5555555555555556, \"#d8576b\"], [0.6666666666666666, \"#ed7953\"], [0.7777777777777778, \"#fb9f3a\"], [0.8888888888888888, \"#fdca26\"], [1.0, \"#f0f921\"]], \"type\": \"heatmap\"}], \"heatmapgl\": [{\"colorbar\": {\"outlinewidth\": 0, \"ticks\": \"\"}, \"colorscale\": [[0.0, \"#0d0887\"], [0.1111111111111111, \"#46039f\"], [0.2222222222222222, \"#7201a8\"], [0.3333333333333333, \"#9c179e\"], [0.4444444444444444, \"#bd3786\"], [0.5555555555555556, \"#d8576b\"], [0.6666666666666666, \"#ed7953\"], [0.7777777777777778, \"#fb9f3a\"], [0.8888888888888888, \"#fdca26\"], [1.0, \"#f0f921\"]], \"type\": \"heatmapgl\"}], \"histogram\": [{\"marker\": {\"colorbar\": {\"outlinewidth\": 0, \"ticks\": \"\"}}, \"type\": \"histogram\"}], \"histogram2d\": [{\"colorbar\": {\"outlinewidth\": 0, \"ticks\": \"\"}, \"colorscale\": [[0.0, \"#0d0887\"], [0.1111111111111111, \"#46039f\"], [0.2222222222222222, \"#7201a8\"], [0.3333333333333333, \"#9c179e\"], [0.4444444444444444, \"#bd3786\"], [0.5555555555555556, \"#d8576b\"], [0.6666666666666666, \"#ed7953\"], [0.7777777777777778, \"#fb9f3a\"], [0.8888888888888888, \"#fdca26\"], [1.0, \"#f0f921\"]], \"type\": \"histogram2d\"}], \"histogram2dcontour\": [{\"colorbar\": {\"outlinewidth\": 0, \"ticks\": \"\"}, \"colorscale\": [[0.0, \"#0d0887\"], [0.1111111111111111, \"#46039f\"], [0.2222222222222222, \"#7201a8\"], [0.3333333333333333, \"#9c179e\"], [0.4444444444444444, \"#bd3786\"], [0.5555555555555556, \"#d8576b\"], [0.6666666666666666, \"#ed7953\"], [0.7777777777777778, \"#fb9f3a\"], [0.8888888888888888, \"#fdca26\"], [1.0, \"#f0f921\"]], \"type\": \"histogram2dcontour\"}], \"mesh3d\": [{\"colorbar\": {\"outlinewidth\": 0, \"ticks\": \"\"}, \"type\": \"mesh3d\"}], \"parcoords\": [{\"line\": {\"colorbar\": {\"outlinewidth\": 0, \"ticks\": \"\"}}, \"type\": \"parcoords\"}], \"pie\": [{\"automargin\": true, \"type\": \"pie\"}], \"scatter\": [{\"marker\": {\"colorbar\": {\"outlinewidth\": 0, \"ticks\": \"\"}}, \"type\": \"scatter\"}], \"scatter3d\": [{\"line\": {\"colorbar\": {\"outlinewidth\": 0, \"ticks\": \"\"}}, \"marker\": {\"colorbar\": {\"outlinewidth\": 0, \"ticks\": \"\"}}, \"type\": \"scatter3d\"}], \"scattercarpet\": [{\"marker\": {\"colorbar\": {\"outlinewidth\": 0, \"ticks\": \"\"}}, \"type\": \"scattercarpet\"}], \"scattergeo\": [{\"marker\": {\"colorbar\": {\"outlinewidth\": 0, \"ticks\": \"\"}}, \"type\": \"scattergeo\"}], \"scattergl\": [{\"marker\": {\"colorbar\": {\"outlinewidth\": 0, \"ticks\": \"\"}}, \"type\": \"scattergl\"}], \"scattermapbox\": [{\"marker\": {\"colorbar\": {\"outlinewidth\": 0, \"ticks\": \"\"}}, \"type\": \"scattermapbox\"}], \"scatterpolar\": [{\"marker\": {\"colorbar\": {\"outlinewidth\": 0, \"ticks\": \"\"}}, \"type\": \"scatterpolar\"}], \"scatterpolargl\": [{\"marker\": {\"colorbar\": {\"outlinewidth\": 0, \"ticks\": \"\"}}, \"type\": \"scatterpolargl\"}], \"scatterternary\": [{\"marker\": {\"colorbar\": {\"outlinewidth\": 0, \"ticks\": \"\"}}, \"type\": \"scatterternary\"}], \"surface\": [{\"colorbar\": {\"outlinewidth\": 0, \"ticks\": \"\"}, \"colorscale\": [[0.0, \"#0d0887\"], [0.1111111111111111, \"#46039f\"], [0.2222222222222222, \"#7201a8\"], [0.3333333333333333, \"#9c179e\"], [0.4444444444444444, \"#bd3786\"], [0.5555555555555556, \"#d8576b\"], [0.6666666666666666, \"#ed7953\"], [0.7777777777777778, \"#fb9f3a\"], [0.8888888888888888, \"#fdca26\"], [1.0, \"#f0f921\"]], \"type\": \"surface\"}], \"table\": [{\"cells\": {\"fill\": {\"color\": \"#EBF0F8\"}, \"line\": {\"color\": \"white\"}}, \"header\": {\"fill\": {\"color\": \"#C8D4E3\"}, \"line\": {\"color\": \"white\"}}, \"type\": \"table\"}]}, \"layout\": {\"annotationdefaults\": {\"arrowcolor\": \"#2a3f5f\", \"arrowhead\": 0, \"arrowwidth\": 1}, \"coloraxis\": {\"colorbar\": {\"outlinewidth\": 0, \"ticks\": \"\"}}, \"colorscale\": {\"diverging\": [[0, \"#8e0152\"], [0.1, \"#c51b7d\"], [0.2, \"#de77ae\"], [0.3, \"#f1b6da\"], [0.4, \"#fde0ef\"], [0.5, \"#f7f7f7\"], [0.6, \"#e6f5d0\"], [0.7, \"#b8e186\"], [0.8, \"#7fbc41\"], [0.9, \"#4d9221\"], [1, \"#276419\"]], \"sequential\": [[0.0, \"#0d0887\"], [0.1111111111111111, \"#46039f\"], [0.2222222222222222, \"#7201a8\"], [0.3333333333333333, \"#9c179e\"], [0.4444444444444444, \"#bd3786\"], [0.5555555555555556, \"#d8576b\"], [0.6666666666666666, \"#ed7953\"], [0.7777777777777778, \"#fb9f3a\"], [0.8888888888888888, \"#fdca26\"], [1.0, \"#f0f921\"]], \"sequentialminus\": [[0.0, \"#0d0887\"], [0.1111111111111111, \"#46039f\"], [0.2222222222222222, \"#7201a8\"], [0.3333333333333333, \"#9c179e\"], [0.4444444444444444, \"#bd3786\"], [0.5555555555555556, \"#d8576b\"], [0.6666666666666666, \"#ed7953\"], [0.7777777777777778, \"#fb9f3a\"], [0.8888888888888888, \"#fdca26\"], [1.0, \"#f0f921\"]]}, \"colorway\": [\"#636efa\", \"#EF553B\", \"#00cc96\", \"#ab63fa\", \"#FFA15A\", \"#19d3f3\", \"#FF6692\", \"#B6E880\", \"#FF97FF\", \"#FECB52\"], \"font\": {\"color\": \"#2a3f5f\"}, \"geo\": {\"bgcolor\": \"white\", \"lakecolor\": \"white\", \"landcolor\": \"#E5ECF6\", \"showlakes\": true, \"showland\": true, \"subunitcolor\": \"white\"}, \"hoverlabel\": {\"align\": \"left\"}, \"hovermode\": \"closest\", \"mapbox\": {\"style\": \"light\"}, \"paper_bgcolor\": \"white\", \"plot_bgcolor\": \"#E5ECF6\", \"polar\": {\"angularaxis\": {\"gridcolor\": \"white\", \"linecolor\": \"white\", \"ticks\": \"\"}, \"bgcolor\": \"#E5ECF6\", \"radialaxis\": {\"gridcolor\": \"white\", \"linecolor\": \"white\", \"ticks\": \"\"}}, \"scene\": {\"xaxis\": {\"backgroundcolor\": \"#E5ECF6\", \"gridcolor\": \"white\", \"gridwidth\": 2, \"linecolor\": \"white\", \"showbackground\": true, \"ticks\": \"\", \"zerolinecolor\": \"white\"}, \"yaxis\": {\"backgroundcolor\": \"#E5ECF6\", \"gridcolor\": \"white\", \"gridwidth\": 2, \"linecolor\": \"white\", \"showbackground\": true, \"ticks\": \"\", \"zerolinecolor\": \"white\"}, \"zaxis\": {\"backgroundcolor\": \"#E5ECF6\", \"gridcolor\": \"white\", \"gridwidth\": 2, \"linecolor\": \"white\", \"showbackground\": true, \"ticks\": \"\", \"zerolinecolor\": \"white\"}}, \"shapedefaults\": {\"line\": {\"color\": \"#2a3f5f\"}}, \"ternary\": {\"aaxis\": {\"gridcolor\": \"white\", \"linecolor\": \"white\", \"ticks\": \"\"}, \"baxis\": {\"gridcolor\": \"white\", \"linecolor\": \"white\", \"ticks\": \"\"}, \"bgcolor\": \"#E5ECF6\", \"caxis\": {\"gridcolor\": \"white\", \"linecolor\": \"white\", \"ticks\": \"\"}}, \"title\": {\"x\": 0.05}, \"xaxis\": {\"automargin\": true, \"gridcolor\": \"white\", \"linecolor\": \"white\", \"ticks\": \"\", \"title\": {\"standoff\": 15}, \"zerolinecolor\": \"white\", \"zerolinewidth\": 2}, \"yaxis\": {\"automargin\": true, \"gridcolor\": \"white\", \"linecolor\": \"white\", \"ticks\": \"\", \"title\": {\"standoff\": 15}, \"zerolinecolor\": \"white\", \"zerolinewidth\": 2}}}, \"title\": {\"text\": \"Plate 4 (16S) SQ standard deviation\"}, \"xaxis\": {\"anchor\": \"y\", \"domain\": [0.0, 1.0], \"title\": {\"text\": \"Dilution\"}}, \"yaxis\": {\"anchor\": \"x\", \"domain\": [0.0, 1.0], \"title\": {\"text\": \"SQ_SD\"}}},\n",
              "                        {\"responsive\": true}\n",
              "                    ).then(function(){\n",
              "                            \n",
              "var gd = document.getElementById('fadca114-a429-46ea-a107-2b971df5ee73');\n",
              "var x = new MutationObserver(function (mutations, observer) {{\n",
              "        var display = window.getComputedStyle(gd).display;\n",
              "        if (!display || display === 'none') {{\n",
              "            console.log([gd, 'removed!']);\n",
              "            Plotly.purge(gd);\n",
              "            observer.disconnect();\n",
              "        }}\n",
              "}});\n",
              "\n",
              "// Listen for the removal of the full notebook cells\n",
              "var notebookContainer = gd.closest('#notebook-container');\n",
              "if (notebookContainer) {{\n",
              "    x.observe(notebookContainer, {childList: true});\n",
              "}}\n",
              "\n",
              "// Listen for the clearing of the current output cell\n",
              "var outputEl = gd.closest('.output');\n",
              "if (outputEl) {{\n",
              "    x.observe(outputEl, {childList: true});\n",
              "}}\n",
              "\n",
              "                        })\n",
              "                };\n",
              "                \n",
              "            </script>\n",
              "        </div>\n",
              "</body>\n",
              "</html>"
            ]
          },
          "metadata": {
            "tags": []
          }
        },
        {
          "output_type": "display_data",
          "data": {
            "text/html": [
              "<html>\n",
              "<head><meta charset=\"utf-8\" /></head>\n",
              "<body>\n",
              "    <div>\n",
              "            <script src=\"https://cdnjs.cloudflare.com/ajax/libs/mathjax/2.7.5/MathJax.js?config=TeX-AMS-MML_SVG\"></script><script type=\"text/javascript\">if (window.MathJax) {MathJax.Hub.Config({SVG: {font: \"STIX-Web\"}});}</script>\n",
              "                <script type=\"text/javascript\">window.PlotlyConfig = {MathJaxConfig: 'local'};</script>\n",
              "        <script src=\"https://cdn.plot.ly/plotly-latest.min.js\"></script>    \n",
              "            <div id=\"48315254-cfdd-440b-b8c6-a70d68132d11\" class=\"plotly-graph-div\" style=\"height:525px; width:100%;\"></div>\n",
              "            <script type=\"text/javascript\">\n",
              "                \n",
              "                    window.PLOTLYENV=window.PLOTLYENV || {};\n",
              "                    \n",
              "                if (document.getElementById(\"48315254-cfdd-440b-b8c6-a70d68132d11\")) {\n",
              "                    Plotly.newPlot(\n",
              "                        '48315254-cfdd-440b-b8c6-a70d68132d11',\n",
              "                        [{\"alignmentgroup\": \"True\", \"boxpoints\": \"all\", \"customdata\": [[\"M1-1/1-t1\", 0.07242692132861837], [\"M1-1/1-t1\", 0.09356587290141212], [\"M1-2/2-t1\", 0.39247795099673133], [\"M1-2/2-t1\", 0.49383382801096753], [\"M1-3/2-t1\", 1.0694636340442394], [\"M1-3/2-t1\", 1.3527247382737833], [\"M1-4/2-t1\", 0.3133746332232653], [\"M1-4/2-t1\", 0.3797529172721009], [\"M1-5/2-t1\", 1.3653910950230856], [\"M1-5/2-t1\", 1.8353895869174313], [\"M1-6/2-t1\", 4.0931844354802225], [\"M1-6/2-t1\", 5.28599506584632], [\"M1-7/2-t1\", 0.8034531423609925], [\"M1-7/2-t1\", 1.1562776821199379], [\"M1-8/2-t1\", 0.6006893063011485], [\"M1-8/2-t1\", 0.6136791260685289], [\"M2-1/1-t1\", 0.17548241346879023], [\"M2-1/1-t1\", 0.22888742414216565], [\"M2-2/1-t1\", 0.9775400902850339], [\"M2-2/1-t1\", 1.9665860016489232], [\"M2-3/1-t1\", 10.098603155282152], [\"M2-3/1-t1\", 9.9547934212084], [\"M1-2/1-t1\", 0.14687070075259612], [\"M1-2/1-t1\", 0.18976000202376903], [\"M2-4/1-t1\", 2.0118548346816407], [\"M2-4/1-t1\", 2.3057548151641396], [\"M2-5/1-t1\", 7.564702652110679], [\"M2-5/1-t1\", 10.836761654885034], [\"M2-6/1-t1\", 1.9628935176698419], [\"M2-6/1-t1\", 2.5395393528826715], [\"M2-7/1-t1\", 3.068857753530606], [\"M2-7/1-t1\", 3.783828374683996], [\"M2-8/1-t1\", 3.75589316520193], [\"M2-8/1-t1\", 4.248269704981285], [\"M2-1/2-t1\", 0.17632255444556616], [\"M2-1/2-t1\", 0.3697988659100378], [\"M2-2/2-t1\", 1.1181360496570343], [\"M2-2/2-t1\", 1.2293126700786936], [\"M2-3/2-t1\", 7.857846426243258], [\"M2-3/2-t1\", 10.847257008155104], [\"M2-4/2-t1\", 0.724169942892801], [\"M2-4/2-t1\", 1.0588583861729974], [\"M2-5/2-t1\", 0.6777123955833102], [\"M2-5/2-t1\", 0.7407373714382411], [\"M1-3/1-t1\", 3.10909320344839], [\"M1-3/1-t1\", 4.020394264778799], [\"M2-6/2-t1\", 5.450451015112252], [\"M2-6/2-t1\", 8.830757869819873], [\"M2-7/2-t1\", 4.22051610049035], [\"M2-7/2-t1\", 4.377098685213236], [\"M2-8/2-t1\", 2.052649030974179], [\"M2-8/2-t1\", 3.1131446646100693], [\"M4-1/1-t1\", 0.31497150646757777], [\"M4-1/1-t1\", 0.41305237268072903], [\"M4-2/1-t1\", 2.24442584653844], [\"M4-2/1-t1\", 3.476296641390644], [\"M4-3/1-t1\", 11.307332247819577], [\"M4-3/1-t1\", 14.586438361813883], [\"M4-4/1-t1\", 3.592181897533809], [\"M4-4/1-t1\", 4.7732562148315], [\"M4-5/1-t1\", 14.09280977704304], [\"M4-5/1-t1\", 20.48370445939018], [\"M4-6/1-t1\", 1.6080367913780917], [\"M4-6/1-t1\", 2.9117138581808937], [\"M4-7/1-t1\", 1.6270043553587605], [\"M4-7/1-t1\", 2.1681985652229625], [\"M1-4/1-t1\", 0.3696159308468275], [\"M1-4/1-t1\", 0.4512111691538331], [\"M4-8/1-t1\", 3.18592569365677], [\"M4-8/1-t1\", 4.896936136687636], [\"M4-1/2-t1\", 0.6224078151273276], [\"M4-1/2-t1\", 0.7459737406084996], [\"M4-2/2-t1\", 2.274607373152208], [\"M4-2/2-t1\", 3.0696161651711615], [\"M4-3/2-t1\", 5.661182817387273], [\"M4-3/2-t1\", 5.818000673284386], [\"M4-4/2-t1\", 2.511384509878982], [\"M4-4/2-t1\", 3.7207514936885655], [\"M4-5/2-t1\", 1.978803348169726], [\"M4-5/2-t1\", 2.3069483323993376], [\"M4-6/2-t1\", 3.9165723726552297], [\"M4-6/2-t1\", 5.552155772271647], [\"M4-7/2-t1\", 2.2191642983611297], [\"M4-7/2-t1\", 3.027885667840147], [\"M4-8/2-t1\", 1.6030002460710724], [\"M4-8/2-t1\", 1.9637536365893529], [\"M5-1/1-t1\", 0.6510897390465173], [\"M5-1/1-t1\", 0.7951741228836273], [\"M1-5/1-t1\", 1.6574595849411824], [\"M1-5/1-t1\", 2.070190329818373], [\"M5-2/1-t1\", 3.66227158015291], [\"M5-2/1-t1\", 4.574728584390194], [\"M5-3/1-t1\", 6.7924069799491384], [\"M5-3/1-t1\", 8.830886294385142], [\"M5-4/1-t1\", 3.2286247187235633], [\"M5-4/1-t1\", 4.173331331741279], [\"M5-5/1-t1\", 7.35721673040181], [\"M5-5/1-t1\", 6.246152845767093], [\"M5-6/1-t1\", 3.614988275526072], [\"M5-6/1-t1\", 4.142708754654214], [\"M5-7/1-t1\", 1.828461287018839], [\"M5-7/1-t1\", 2.1549520597189833], [\"M5-8/1-t1\", 5.213065972547778], [\"M5-8/1-t1\", 5.8247830433568355], [\"M5-1/2-t1\", 0.3902700297073183], [\"M5-1/2-t1\", 0.5042393632800346], [\"M5-2/2-t1\", 5.362778936394436], [\"M5-2/2-t1\", 6.804517485764366], [\"M5-3/2-t1\", 11.492517488479129], [\"M5-3/2-t1\", 14.786932501250185], [\"M1-6/1-t1\", 1.3549247087660707], [\"M1-6/1-t1\", 1.268521879314847], [\"M5-4/2-t1\", 3.529647809813008], [\"M5-4/2-t1\", 4.3936536599365965], [\"M5-5/2-t1\", 7.867636230459311], [\"M5-5/2-t1\", 12.183179080290799], [\"M5-6/2-t1\", 6.289855997717492], [\"M5-6/2-t1\", 8.61293925886974], [\"M5-7/2-t1\", 3.227521308188587], [\"M5-7/2-t1\", 4.243995549152425], [\"M5-8/2-t1\", 1.139763398834889], [\"M5-8/2-t1\", 1.9251483313017186], [\"WP1-t3-157\", 0.5738044289172498], [\"WP1-t3-157\", 0.713443783204019], [\"WP1-t3-158\", 3.2964666048652465], [\"WP1-t3-158\", 4.099165427443421], [\"WP1-t3-159\", 0.47458884756560454], [\"WP1-t3-159\", 0.6203364816515351], [\"WP1-t3-160\", 0.19671649941676422], [\"WP1-t3-160\", 0.3128567090222209], [\"M1-7/1-t1\", 0.9518692965179567], [\"M1-7/1-t1\", 1.2533977407894992], [\"M1-8/1-t1\", 0.5028650864916762], [\"M1-8/1-t1\", 0.6536125012474914], [\"M1-1/2-t1\", 0.04104007025464204], [\"M1-1/2-t1\", 0.04835019167483421]], \"hoverlabel\": {\"namelength\": 0}, \"hovertemplate\": \"Dilution=%{x}<br>SQ_SD=%{y}<br>ID=%{customdata[0]}<br>SQ_mean=%{customdata[1]}\", \"legendgroup\": \"\", \"marker\": {\"color\": \"#636efa\"}, \"name\": \"\", \"notched\": false, \"offsetgroup\": \"\", \"orientation\": \"v\", \"showlegend\": false, \"type\": \"box\", \"x\": [10.0, 101.0, 10.0, 101.0, 10.0, 101.0, 10.0, 101.0, 10.0, 101.0, 10.0, 101.0, 10.0, 101.0, 10.0, 101.0, 10.0, 101.0, 10.0, 101.0, 10.0, 101.0, 10.0, 101.0, 10.0, 101.0, 10.0, 101.0, 10.0, 101.0, 10.0, 101.0, 10.0, 101.0, 10.0, 101.0, 10.0, 101.0, 10.0, 101.0, 10.0, 101.0, 10.0, 101.0, 10.0, 101.0, 10.0, 101.0, 10.0, 101.0, 10.0, 101.0, 10.0, 101.0, 10.0, 101.0, 10.0, 101.0, 10.0, 101.0, 10.0, 101.0, 10.0, 101.0, 10.0, 101.0, 10.0, 101.0, 10.0, 101.0, 10.0, 101.0, 10.0, 101.0, 10.0, 101.0, 10.0, 101.0, 10.0, 101.0, 10.0, 101.0, 10.0, 101.0, 10.0, 101.0, 10.0, 101.0, 10.0, 101.0, 10.0, 101.0, 10.0, 101.0, 10.0, 101.0, 10.0, 101.0, 10.0, 101.0, 10.0, 101.0, 10.0, 101.0, 10.0, 101.0, 10.0, 101.0, 10.0, 101.0, 10.0, 101.0, 10.0, 101.0, 10.0, 101.0, 10.0, 101.0, 10.0, 101.0, 10.0, 101.0, 10.0, 101.0, 10.0, 101.0, 10.0, 101.0, 10.0, 101.0, 10.0, 101.0, 10.0, 101.0, 10.0, 101.0], \"x0\": \" \", \"xaxis\": \"x\", \"y\": [0.0024470843219038993, 0.007779701687023936, 0.0042550102212549155, 0.018616495956471427, 0.013159626902968707, 0.08480158544933095, 0.008149811916584444, 0.021818859632305062, 0.11825645584781873, 0.12156103199689758, 0.07150839357048866, 0.4570523633754508, 0.047620127253594824, 0.07663955669114361, 0.008597423816051074, 0.01176314146479361, 0.006255107437443581, 0.029617141190242433, 0.22077494139827, 0.04798808857315755, 0.4641732232829268, 0.15026093777729252, 0.013251932722230443, 0.0075124068194068255, 0.04811365606443908, 0.07944329968962872, 0.04306104743442874, 0.36466896969730084, 0.015745866664902096, 0.2158887203910566, 0.006183721275552052, 0.04683947596072778, 0.10701396080441848, 0.06837149315841383, 0.0028018554699609953, 0.05138385264955223, 0.026726625778850547, 0.08971837066925598, 0.5805004378358105, 0.48509969414888676, 0.019312817860864515, 0.062096199037040174, 0.025872812627993628, 0.006774564947338069, 0.1770959051692812, 0.04380259055692142, 0.2354014405135334, 0.34132111179313707, 0.0036573880086069816, 0.3055537357111852, 0.02522274589075348, 0.04378654876103433, 0.005578086999101865, 0.05824473685306364, 0.033857568679771834, 0.013171784035221066, 0.06270783892628622, 0.27399377124524127, 0.0012640220256624748, 0.3460342106383719, 0.7985976240494259, 0.060662277619416595, 0.01567627006670356, 0.1085043159905818, 0.057463357900106676, 0.05664247288918948, 0.012121361833491719, 0.028250138772278707, 0.022185032521207612, 0.07337329149005754, 0.01783864545508702, 0.04119496625256216, 0.07511087030760658, 0.08405558232380406, 0.24748943759645273, 0.19984023856638222, 0.13828407764652548, 0.03879037282892405, 0.07290172410933075, 0.05917002109511179, 0.02767982222035672, 0.029159542933915567, 0.028995984490117935, 0.06319443098932094, 0.09629595235237436, 0.0024565810224294717, 0.009791542586257985, 0.028517732593370756, 0.08280215201479761, 0.0038970916980781587, 0.02171172705421514, 0.4657538841879139, 0.008117165551103448, 0.8686134312138554, 0.06720529929575492, 0.09468309068532617, 0.24996183187006069, 0.21727192230911774, 0.11220547171612921, 0.03045106816983407, 0.0446452506183713, 0.026391267505460458, 0.1341172613852703, 0.06342700780219197, 0.001551858784557911, 0.03495837578316455, 0.01803871846889449, 0.23866657111633333, 0.1610963604738982, 0.7029916073375663, 0.10145293804770365, 0.0011221046892074937, 0.017918903095431305, 0.3197207465519516, 0.3584058954677848, 0.12499086524472575, 0.036464130172426105, 0.5565747461844703, 0.07096978463047929, 0.0702059537410482, 0.018134616681045167, 0.580242174888982, 0.00845834201110605, 0.018812136008331926, 0.016448840763094167, 0.047593384156148624, 0.0035868176642262213, 0.046843561051314736, 0.004702612104233637, 0.012881648691763854, 0.10218569451423813, 0.04021617992817109, 0.019168913535895574, 0.01651772726218941, 0.0005444968675062122, 0.004370324608174035], \"y0\": \" \", \"yaxis\": \"y\"}],\n",
              "                        {\"boxmode\": \"group\", \"legend\": {\"tracegroupgap\": 0}, \"template\": {\"data\": {\"bar\": [{\"error_x\": {\"color\": \"#2a3f5f\"}, \"error_y\": {\"color\": \"#2a3f5f\"}, \"marker\": {\"line\": {\"color\": \"#E5ECF6\", \"width\": 0.5}}, \"type\": \"bar\"}], \"barpolar\": [{\"marker\": {\"line\": {\"color\": \"#E5ECF6\", \"width\": 0.5}}, \"type\": \"barpolar\"}], \"carpet\": [{\"aaxis\": {\"endlinecolor\": \"#2a3f5f\", \"gridcolor\": \"white\", \"linecolor\": \"white\", \"minorgridcolor\": \"white\", \"startlinecolor\": \"#2a3f5f\"}, \"baxis\": {\"endlinecolor\": \"#2a3f5f\", \"gridcolor\": \"white\", \"linecolor\": \"white\", \"minorgridcolor\": \"white\", \"startlinecolor\": \"#2a3f5f\"}, \"type\": \"carpet\"}], \"choropleth\": [{\"colorbar\": {\"outlinewidth\": 0, \"ticks\": \"\"}, \"type\": \"choropleth\"}], \"contour\": [{\"colorbar\": {\"outlinewidth\": 0, \"ticks\": \"\"}, \"colorscale\": [[0.0, \"#0d0887\"], [0.1111111111111111, \"#46039f\"], [0.2222222222222222, \"#7201a8\"], [0.3333333333333333, \"#9c179e\"], [0.4444444444444444, \"#bd3786\"], [0.5555555555555556, \"#d8576b\"], [0.6666666666666666, \"#ed7953\"], [0.7777777777777778, \"#fb9f3a\"], [0.8888888888888888, \"#fdca26\"], [1.0, \"#f0f921\"]], \"type\": \"contour\"}], \"contourcarpet\": [{\"colorbar\": {\"outlinewidth\": 0, \"ticks\": \"\"}, \"type\": \"contourcarpet\"}], \"heatmap\": [{\"colorbar\": {\"outlinewidth\": 0, \"ticks\": \"\"}, \"colorscale\": [[0.0, \"#0d0887\"], [0.1111111111111111, \"#46039f\"], [0.2222222222222222, \"#7201a8\"], [0.3333333333333333, \"#9c179e\"], [0.4444444444444444, \"#bd3786\"], [0.5555555555555556, \"#d8576b\"], [0.6666666666666666, \"#ed7953\"], [0.7777777777777778, \"#fb9f3a\"], [0.8888888888888888, \"#fdca26\"], [1.0, \"#f0f921\"]], \"type\": \"heatmap\"}], \"heatmapgl\": [{\"colorbar\": {\"outlinewidth\": 0, \"ticks\": \"\"}, \"colorscale\": [[0.0, \"#0d0887\"], [0.1111111111111111, \"#46039f\"], [0.2222222222222222, \"#7201a8\"], [0.3333333333333333, \"#9c179e\"], [0.4444444444444444, \"#bd3786\"], [0.5555555555555556, \"#d8576b\"], [0.6666666666666666, \"#ed7953\"], [0.7777777777777778, \"#fb9f3a\"], [0.8888888888888888, \"#fdca26\"], [1.0, \"#f0f921\"]], \"type\": \"heatmapgl\"}], \"histogram\": [{\"marker\": {\"colorbar\": {\"outlinewidth\": 0, \"ticks\": \"\"}}, \"type\": \"histogram\"}], \"histogram2d\": [{\"colorbar\": {\"outlinewidth\": 0, \"ticks\": \"\"}, \"colorscale\": [[0.0, \"#0d0887\"], [0.1111111111111111, \"#46039f\"], [0.2222222222222222, \"#7201a8\"], [0.3333333333333333, \"#9c179e\"], [0.4444444444444444, \"#bd3786\"], [0.5555555555555556, \"#d8576b\"], [0.6666666666666666, \"#ed7953\"], [0.7777777777777778, \"#fb9f3a\"], [0.8888888888888888, \"#fdca26\"], [1.0, \"#f0f921\"]], \"type\": \"histogram2d\"}], \"histogram2dcontour\": [{\"colorbar\": {\"outlinewidth\": 0, \"ticks\": \"\"}, \"colorscale\": [[0.0, \"#0d0887\"], [0.1111111111111111, \"#46039f\"], [0.2222222222222222, \"#7201a8\"], [0.3333333333333333, \"#9c179e\"], [0.4444444444444444, \"#bd3786\"], [0.5555555555555556, \"#d8576b\"], [0.6666666666666666, \"#ed7953\"], [0.7777777777777778, \"#fb9f3a\"], [0.8888888888888888, \"#fdca26\"], [1.0, \"#f0f921\"]], \"type\": \"histogram2dcontour\"}], \"mesh3d\": [{\"colorbar\": {\"outlinewidth\": 0, \"ticks\": \"\"}, \"type\": \"mesh3d\"}], \"parcoords\": [{\"line\": {\"colorbar\": {\"outlinewidth\": 0, \"ticks\": \"\"}}, \"type\": \"parcoords\"}], \"pie\": [{\"automargin\": true, \"type\": \"pie\"}], \"scatter\": [{\"marker\": {\"colorbar\": {\"outlinewidth\": 0, \"ticks\": \"\"}}, \"type\": \"scatter\"}], \"scatter3d\": [{\"line\": {\"colorbar\": {\"outlinewidth\": 0, \"ticks\": \"\"}}, \"marker\": {\"colorbar\": {\"outlinewidth\": 0, \"ticks\": \"\"}}, \"type\": \"scatter3d\"}], \"scattercarpet\": [{\"marker\": {\"colorbar\": {\"outlinewidth\": 0, \"ticks\": \"\"}}, \"type\": \"scattercarpet\"}], \"scattergeo\": [{\"marker\": {\"colorbar\": {\"outlinewidth\": 0, \"ticks\": \"\"}}, \"type\": \"scattergeo\"}], \"scattergl\": [{\"marker\": {\"colorbar\": {\"outlinewidth\": 0, \"ticks\": \"\"}}, \"type\": \"scattergl\"}], \"scattermapbox\": [{\"marker\": {\"colorbar\": {\"outlinewidth\": 0, \"ticks\": \"\"}}, \"type\": \"scattermapbox\"}], \"scatterpolar\": [{\"marker\": {\"colorbar\": {\"outlinewidth\": 0, \"ticks\": \"\"}}, \"type\": \"scatterpolar\"}], \"scatterpolargl\": [{\"marker\": {\"colorbar\": {\"outlinewidth\": 0, \"ticks\": \"\"}}, \"type\": \"scatterpolargl\"}], \"scatterternary\": [{\"marker\": {\"colorbar\": {\"outlinewidth\": 0, \"ticks\": \"\"}}, \"type\": \"scatterternary\"}], \"surface\": [{\"colorbar\": {\"outlinewidth\": 0, \"ticks\": \"\"}, \"colorscale\": [[0.0, \"#0d0887\"], [0.1111111111111111, \"#46039f\"], [0.2222222222222222, \"#7201a8\"], [0.3333333333333333, \"#9c179e\"], [0.4444444444444444, \"#bd3786\"], [0.5555555555555556, \"#d8576b\"], [0.6666666666666666, \"#ed7953\"], [0.7777777777777778, \"#fb9f3a\"], [0.8888888888888888, \"#fdca26\"], [1.0, \"#f0f921\"]], \"type\": \"surface\"}], \"table\": [{\"cells\": {\"fill\": {\"color\": \"#EBF0F8\"}, \"line\": {\"color\": \"white\"}}, \"header\": {\"fill\": {\"color\": \"#C8D4E3\"}, \"line\": {\"color\": \"white\"}}, \"type\": \"table\"}]}, \"layout\": {\"annotationdefaults\": {\"arrowcolor\": \"#2a3f5f\", \"arrowhead\": 0, \"arrowwidth\": 1}, \"coloraxis\": {\"colorbar\": {\"outlinewidth\": 0, \"ticks\": \"\"}}, \"colorscale\": {\"diverging\": [[0, \"#8e0152\"], [0.1, \"#c51b7d\"], [0.2, \"#de77ae\"], [0.3, \"#f1b6da\"], [0.4, \"#fde0ef\"], [0.5, \"#f7f7f7\"], [0.6, \"#e6f5d0\"], [0.7, \"#b8e186\"], [0.8, \"#7fbc41\"], [0.9, \"#4d9221\"], [1, \"#276419\"]], \"sequential\": [[0.0, \"#0d0887\"], [0.1111111111111111, \"#46039f\"], [0.2222222222222222, \"#7201a8\"], [0.3333333333333333, \"#9c179e\"], [0.4444444444444444, \"#bd3786\"], [0.5555555555555556, \"#d8576b\"], [0.6666666666666666, \"#ed7953\"], [0.7777777777777778, \"#fb9f3a\"], [0.8888888888888888, \"#fdca26\"], [1.0, \"#f0f921\"]], \"sequentialminus\": [[0.0, \"#0d0887\"], [0.1111111111111111, \"#46039f\"], [0.2222222222222222, \"#7201a8\"], [0.3333333333333333, \"#9c179e\"], [0.4444444444444444, \"#bd3786\"], [0.5555555555555556, \"#d8576b\"], [0.6666666666666666, \"#ed7953\"], [0.7777777777777778, \"#fb9f3a\"], [0.8888888888888888, \"#fdca26\"], [1.0, \"#f0f921\"]]}, \"colorway\": [\"#636efa\", \"#EF553B\", \"#00cc96\", \"#ab63fa\", \"#FFA15A\", \"#19d3f3\", \"#FF6692\", \"#B6E880\", \"#FF97FF\", \"#FECB52\"], \"font\": {\"color\": \"#2a3f5f\"}, \"geo\": {\"bgcolor\": \"white\", \"lakecolor\": \"white\", \"landcolor\": \"#E5ECF6\", \"showlakes\": true, \"showland\": true, \"subunitcolor\": \"white\"}, \"hoverlabel\": {\"align\": \"left\"}, \"hovermode\": \"closest\", \"mapbox\": {\"style\": \"light\"}, \"paper_bgcolor\": \"white\", \"plot_bgcolor\": \"#E5ECF6\", \"polar\": {\"angularaxis\": {\"gridcolor\": \"white\", \"linecolor\": \"white\", \"ticks\": \"\"}, \"bgcolor\": \"#E5ECF6\", \"radialaxis\": {\"gridcolor\": \"white\", \"linecolor\": \"white\", \"ticks\": \"\"}}, \"scene\": {\"xaxis\": {\"backgroundcolor\": \"#E5ECF6\", \"gridcolor\": \"white\", \"gridwidth\": 2, \"linecolor\": \"white\", \"showbackground\": true, \"ticks\": \"\", \"zerolinecolor\": \"white\"}, \"yaxis\": {\"backgroundcolor\": \"#E5ECF6\", \"gridcolor\": \"white\", \"gridwidth\": 2, \"linecolor\": \"white\", \"showbackground\": true, \"ticks\": \"\", \"zerolinecolor\": \"white\"}, \"zaxis\": {\"backgroundcolor\": \"#E5ECF6\", \"gridcolor\": \"white\", \"gridwidth\": 2, \"linecolor\": \"white\", \"showbackground\": true, \"ticks\": \"\", \"zerolinecolor\": \"white\"}}, \"shapedefaults\": {\"line\": {\"color\": \"#2a3f5f\"}}, \"ternary\": {\"aaxis\": {\"gridcolor\": \"white\", \"linecolor\": \"white\", \"ticks\": \"\"}, \"baxis\": {\"gridcolor\": \"white\", \"linecolor\": \"white\", \"ticks\": \"\"}, \"bgcolor\": \"#E5ECF6\", \"caxis\": {\"gridcolor\": \"white\", \"linecolor\": \"white\", \"ticks\": \"\"}}, \"title\": {\"x\": 0.05}, \"xaxis\": {\"automargin\": true, \"gridcolor\": \"white\", \"linecolor\": \"white\", \"ticks\": \"\", \"title\": {\"standoff\": 15}, \"zerolinecolor\": \"white\", \"zerolinewidth\": 2}, \"yaxis\": {\"automargin\": true, \"gridcolor\": \"white\", \"linecolor\": \"white\", \"ticks\": \"\", \"title\": {\"standoff\": 15}, \"zerolinecolor\": \"white\", \"zerolinewidth\": 2}}}, \"title\": {\"text\": \"Plate 5 (ITS) SQ standard deviation\"}, \"xaxis\": {\"anchor\": \"y\", \"domain\": [0.0, 1.0], \"title\": {\"text\": \"Dilution\"}}, \"yaxis\": {\"anchor\": \"x\", \"domain\": [0.0, 1.0], \"title\": {\"text\": \"SQ_SD\"}}},\n",
              "                        {\"responsive\": true}\n",
              "                    ).then(function(){\n",
              "                            \n",
              "var gd = document.getElementById('48315254-cfdd-440b-b8c6-a70d68132d11');\n",
              "var x = new MutationObserver(function (mutations, observer) {{\n",
              "        var display = window.getComputedStyle(gd).display;\n",
              "        if (!display || display === 'none') {{\n",
              "            console.log([gd, 'removed!']);\n",
              "            Plotly.purge(gd);\n",
              "            observer.disconnect();\n",
              "        }}\n",
              "}});\n",
              "\n",
              "// Listen for the removal of the full notebook cells\n",
              "var notebookContainer = gd.closest('#notebook-container');\n",
              "if (notebookContainer) {{\n",
              "    x.observe(notebookContainer, {childList: true});\n",
              "}}\n",
              "\n",
              "// Listen for the clearing of the current output cell\n",
              "var outputEl = gd.closest('.output');\n",
              "if (outputEl) {{\n",
              "    x.observe(outputEl, {childList: true});\n",
              "}}\n",
              "\n",
              "                        })\n",
              "                };\n",
              "                \n",
              "            </script>\n",
              "        </div>\n",
              "</body>\n",
              "</html>"
            ]
          },
          "metadata": {
            "tags": []
          }
        },
        {
          "output_type": "display_data",
          "data": {
            "text/html": [
              "<html>\n",
              "<head><meta charset=\"utf-8\" /></head>\n",
              "<body>\n",
              "    <div>\n",
              "            <script src=\"https://cdnjs.cloudflare.com/ajax/libs/mathjax/2.7.5/MathJax.js?config=TeX-AMS-MML_SVG\"></script><script type=\"text/javascript\">if (window.MathJax) {MathJax.Hub.Config({SVG: {font: \"STIX-Web\"}});}</script>\n",
              "                <script type=\"text/javascript\">window.PlotlyConfig = {MathJaxConfig: 'local'};</script>\n",
              "        <script src=\"https://cdn.plot.ly/plotly-latest.min.js\"></script>    \n",
              "            <div id=\"62a77aa9-8b5e-41ef-ad52-3da3de9532c7\" class=\"plotly-graph-div\" style=\"height:525px; width:100%;\"></div>\n",
              "            <script type=\"text/javascript\">\n",
              "                \n",
              "                    window.PLOTLYENV=window.PLOTLYENV || {};\n",
              "                    \n",
              "                if (document.getElementById(\"62a77aa9-8b5e-41ef-ad52-3da3de9532c7\")) {\n",
              "                    Plotly.newPlot(\n",
              "                        '62a77aa9-8b5e-41ef-ad52-3da3de9532c7',\n",
              "                        [{\"alignmentgroup\": \"True\", \"boxpoints\": \"all\", \"customdata\": [[\"M1-1/1-t1\", 0.04175798677509572], [\"M1-1/1-t1\", 0.06176415787214999], [\"M1-2/2-t1\", 0.02524793805817019], [\"M1-2/2-t1\", 0.039254886751692565], [\"M1-3/2-t1\", 0.03936427964745373], [\"M1-3/2-t1\", 0.05158492714250326], [\"M1-4/2-t1\", 0.028915448522337135], [\"M1-4/2-t1\", 0.0579876547020651], [\"M1-5/2-t1\", 0.06945736415512133], [\"M1-5/2-t1\", 0.09085536752473529], [\"M1-6/2-t1\", 0.08338705435664603], [\"M1-6/2-t1\", 0.10720260312696181], [\"M1-7/2-t1\", 0.062044592601964585], [\"M1-7/2-t1\", 0.1347735845601199], [\"M1-8/2-t1\", 0.0238246743930427], [\"M1-8/2-t1\", 0.026850590151142537], [\"M2-1/1-t1\", 0.08810867903517963], [\"M2-1/1-t1\", 0.1029204839326329], [\"M2-2/1-t1\", 0.03752439919326787], [\"M2-2/1-t1\", 0.19360955841846228], [\"M2-3/1-t1\", 4.902378960102561], [\"M2-3/1-t1\", 4.040322487362474], [\"M1-2/1-t1\", 0.016536828162725694], [\"M1-2/1-t1\", 0.026557042261350413], [\"M2-4/1-t1\", 0.27338451358062416], [\"M2-4/1-t1\", 0.3577277273514763], [\"M2-5/1-t1\", 3.7067475050739054], [\"M2-5/1-t1\", 4.410844273510687], [\"M2-6/1-t1\", 0.4242921502784066], [\"M2-6/1-t1\", 0.5651963979541712], [\"M2-7/1-t1\", 3.815084551069389], [\"M2-7/1-t1\", 4.456975151299566], [\"M2-8/1-t1\", 2.348520040606328], [\"M2-8/1-t1\", 2.572714635066398], [\"M2-1/2-t1\", 0.4072899953267325], [\"M2-1/2-t1\", 0.7659532769274363], [\"M2-2/2-t1\", 0.06324371310733184], [\"M2-2/2-t1\", 0.08534265982884791], [\"M2-3/2-t1\", 0.6568101001684876], [\"M2-3/2-t1\", 0.7719440206811005], [\"M2-4/2-t1\", 0.06353447153111742], [\"M2-4/2-t1\", 0.08265931057614591], [\"M2-5/2-t1\", 0.025352834274956753], [\"M2-5/2-t1\", 0.03239396326241486], [\"M1-3/1-t1\", 0.10839797395719575], [\"M1-3/1-t1\", 0.1342051009739103], [\"M2-6/2-t1\", 0.46648705832980447], [\"M2-6/2-t1\", 0.6799889835901985], [\"M2-7/2-t1\", 4.00379762607047], [\"M2-7/2-t1\", 3.770913349195312], [\"M2-8/2-t1\", 0.16462679561661359], [\"M2-8/2-t1\", 0.25883435599352134], [\"M4-1/1-t1\", 5.843080257219973], [\"M4-1/1-t1\", 5.701493327937241], [\"M4-2/1-t1\", 3.840034907470885], [\"M4-2/1-t1\", 5.030177199732893], [\"M4-3/1-t1\", 6.548225883922431], [\"M4-3/1-t1\", 6.313727889312322], [\"M4-4/1-t1\", 3.656937140470071], [\"M4-4/1-t1\", 4.331807816244544], [\"M4-5/1-t1\", 6.918162368344435], [\"M4-5/1-t1\", 8.894397035220646], [\"M4-6/1-t1\", 1.9756310200769733], [\"M4-6/1-t1\", 3.4127824360138033], [\"M4-7/1-t1\", 5.969721818563315], [\"M4-7/1-t1\", 6.522807621173624], [\"M1-4/1-t1\", 0.05984555720783659], [\"M1-4/1-t1\", 0.18831890992927186], [\"M4-8/1-t1\", 3.4581978285344497], [\"M4-8/1-t1\", 4.849291019581992], [\"M4-1/2-t1\", 3.883953704250218], [\"M4-1/2-t1\", 4.8041999456961175], [\"M4-2/2-t1\", 1.6875414636010542], [\"M4-2/2-t1\", 1.793394587816331], [\"M4-3/2-t1\", 3.4829344605524213], [\"M4-3/2-t1\", 2.9654072037816968], [\"M4-4/2-t1\", 2.918162457192082], [\"M4-4/2-t1\", 3.5268274436066123], [\"M4-5/2-t1\", 1.921841060443838], [\"M4-5/2-t1\", 1.9681574536387478], [\"M4-6/2-t1\", 1.939913554998172], [\"M4-6/2-t1\", 2.4989685702840987], [\"M4-7/2-t1\", 3.2003974317240766], [\"M4-7/2-t1\", 3.464021066885249], [\"M4-8/2-t1\", 2.530244999315858], [\"M4-8/2-t1\", 2.4638680168775284], [\"M5-1/1-t1\", 4.134765035542457], [\"M5-1/1-t1\", 4.936270132314677], [\"M1-5/1-t1\", 0.12400283380210267], [\"M1-5/1-t1\", 0.145787634546311], [\"M5-2/1-t1\", 1.6746465751876274], [\"M5-2/1-t1\", 2.267050836801844], [\"M5-3/1-t1\", 3.105591141876717], [\"M5-3/1-t1\", 3.0498934496497814], [\"M5-4/1-t1\", 2.2181041952984892], [\"M5-4/1-t1\", 2.3993746657381], [\"M5-5/1-t1\", 1.8153469083778127], [\"M5-5/1-t1\", 1.1801658153586057], [\"M5-6/1-t1\", 0.9391925927558076], [\"M5-6/1-t1\", 1.0401718667699662], [\"M5-7/1-t1\", 3.840823277416473], [\"M5-7/1-t1\", 3.969277784748302], [\"M5-8/1-t1\", 2.9675282063937454], [\"M5-8/1-t1\", 2.670261583657031], [\"M5-1/2-t1\", 1.8880265136578458], [\"M5-1/2-t1\", 1.9983364212162753], [\"M5-2/2-t1\", 1.6018454475415262], [\"M5-2/2-t1\", 1.5972811771949702], [\"M5-3/2-t1\", 2.355275233501698], [\"M5-3/2-t1\", 2.6948764337982647], [\"M1-6/1-t1\", 0.09149181354050308], [\"M1-6/1-t1\", 0.08654086361282395], [\"M5-4/2-t1\", 0.8301347602148312], [\"M5-4/2-t1\", 0.7729661233456351], [\"M5-5/2-t1\", 2.0251371645421186], [\"M5-5/2-t1\", 2.708653965094427], [\"M5-6/2-t1\", 2.211820032726119], [\"M5-6/2-t1\", 2.479202757703928], [\"M5-7/2-t1\", 1.9073426943625704], [\"M5-7/2-t1\", 2.4385917973114264], [\"M5-8/2-t1\", 2.1713240842392976], [\"M5-8/2-t1\", 2.5550914366587927], [\"WP1-t3-157\", 1.4599063925710314], [\"WP1-t3-157\", 1.8462383218905045], [\"WP1-t3-158\", 3.0622461140477633], [\"WP1-t3-158\", 3.360174540916911], [\"WP1-t3-159\", 2.6396956214474185], [\"WP1-t3-159\", 2.727526918502547], [\"WP1-t3-160\", 1.3281585397182067], [\"WP1-t3-160\", 1.5116328163782269], [\"M1-7/1-t1\", 0.13701058952678197], [\"M1-7/1-t1\", 0.18767768946806057], [\"M1-8/1-t1\", 0.08482318250556743], [\"M1-8/1-t1\", 0.10877209278509271], [\"M1-1/2-t1\", 0.022120972447102264], [\"M1-1/2-t1\", 0.04599284318119477]], \"hoverlabel\": {\"namelength\": 0}, \"hovertemplate\": \"Dilution=%{x}<br>SQ_SD=%{y}<br>ID=%{customdata[0]}<br>SQ_mean=%{customdata[1]}\", \"legendgroup\": \"\", \"marker\": {\"color\": \"#636efa\"}, \"name\": \"\", \"notched\": false, \"offsetgroup\": \"\", \"orientation\": \"v\", \"showlegend\": false, \"type\": \"box\", \"x\": [10.0, 101.0, 10.0, 101.0, 10.0, 101.0, 10.0, 101.0, 10.0, 101.0, 10.0, 101.0, 10.0, 101.0, 10.0, 101.0, 10.0, 101.0, 10.0, 101.0, 10.0, 101.0, 10.0, 101.0, 10.0, 101.0, 10.0, 101.0, 10.0, 101.0, 10.0, 101.0, 10.0, 101.0, 10.0, 101.0, 10.0, 101.0, 10.0, 101.0, 10.0, 101.0, 10.0, 101.0, 10.0, 101.0, 10.0, 101.0, 10.0, 101.0, 10.0, 101.0, 10.0, 101.0, 10.0, 101.0, 10.0, 101.0, 10.0, 101.0, 10.0, 101.0, 10.0, 101.0, 10.0, 101.0, 10.0, 101.0, 10.0, 101.0, 10.0, 101.0, 10.0, 101.0, 10.0, 101.0, 10.0, 101.0, 10.0, 101.0, 10.0, 101.0, 10.0, 101.0, 10.0, 101.0, 10.0, 101.0, 10.0, 101.0, 10.0, 101.0, 10.0, 101.0, 10.0, 101.0, 10.0, 101.0, 10.0, 101.0, 10.0, 101.0, 10.0, 101.0, 10.0, 101.0, 10.0, 101.0, 10.0, 101.0, 10.0, 101.0, 10.0, 101.0, 10.0, 101.0, 10.0, 101.0, 10.0, 101.0, 10.0, 101.0, 10.0, 101.0, 10.0, 101.0, 10.0, 101.0, 10.0, 101.0, 10.0, 101.0, 10.0, 101.0, 10.0, 101.0], \"x0\": \" \", \"xaxis\": \"x\", \"y\": [0.0007226495430347392, 0.01375277940324302, 0.0016551662160588071, 0.003105694378022829, 0.0009774530078273615, 0.0003460515862482003, 0.0024585684971862583, 0.021151398401760082, 0.00034842370056671125, 0.004035602250050279, 0.0028064527617360207, 0.008769358320853382, 0.0025507539521798226, 0.009387690575503706, 0.0012970236850180018, 0.0008799948988306195, 0.00449213049305602, 0.0022067296504995064, 0.0047840646277403105, 0.001869968897030613, 0.5074458258039052, 0.17390126978919862, 7.3467242208475984e-06, 0.0016281379907388612, 0.0012839400852382409, 0.002948203110106168, 0.03333552469118814, 0.07259483620526884, 0.01996378397496666, 0.044850834721003645, 0.3999601517585331, 0.22901542370183708, 0.2226089218803258, 0.039676735620021844, 0.0699358337479057, 0.01879839303277713, 0.0008571014929154281, 0.0029592390092790903, 0.04155900394898055, 0.026475089048634607, 0.0014370690767209092, 0.0010239828594703923, 0.000679925178947889, 0.005051212966058387, 0.005554983342134459, 0.009081453273776992, 0.013915607183306984, 0.017688168727010612, 0.13068544026588472, 0.40265235486149115, 0.00017830995367447964, 0.035462774283073845, 0.012605319046547762, 0.7378879505076487, 0.08153347424468249, 0.24239352992358076, 0.0825455871699789, 0.5974943420710134, 0.14951274826850333, 0.5008874355663068, 0.17952240858889834, 0.22784561687757163, 0.025939725092336417, 0.10337443871667627, 0.13175066866310722, 0.07476996402896195, 0.0011073022834351502, 0.15531801601600542, 0.006079859643942197, 0.23525190697139833, 0.11367228715883265, 0.24317231735363076, 0.0044031905617277775, 0.012502834691828255, 0.16382266037832446, 0.24137077095448597, 0.12045714591930978, 0.2423844212556492, 0.049153825152107006, 0.26469305828033507, 0.1632278459521441, 0.07126288633143059, 0.129522734739192, 0.18320918983111473, 0.3130727464107154, 0.03871727699535667, 0.059394027941173884, 0.03169132672100977, 0.0021588721890757057, 0.0023428275208600326, 0.35842220408230074, 0.009617383484039732, 0.057939807060107304, 0.15349102084678795, 0.13244656869708737, 0.1790104602943969, 0.04881047464624099, 0.08248858566129517, 0.002076664685176995, 0.04064873494174535, 0.04768680180079964, 0.3254389883415246, 0.190047177628878, 0.05327615873478375, 0.028554557162218733, 0.01677128821831697, 0.019927932363735492, 0.09349029246906719, 0.015753394879490828, 0.12490911734124037, 0.0074037408583185645, 0.002567008906847122, 0.03796782680577031, 0.028094575792246397, 0.08840147082286334, 0.02457575453615801, 0.07012989667864633, 0.04231021364951825, 0.0880133168322627, 0.06818545184406694, 0.03665910723674101, 0.05642606810095224, 0.04359525934751834, 0.4055427219272545, 0.10300526206592435, 0.0973951752334964, 0.06528367109206688, 0.14762791382702417, 0.07903072177885571, 0.07586597149835202, 0.003853508488830799, 0.005770911980863185, 0.00532983078239734, 0.004982068592103277, 0.0006897200815068103, 0.014734029751486986], \"y0\": \" \", \"yaxis\": \"y\"}],\n",
              "                        {\"boxmode\": \"group\", \"legend\": {\"tracegroupgap\": 0}, \"template\": {\"data\": {\"bar\": [{\"error_x\": {\"color\": \"#2a3f5f\"}, \"error_y\": {\"color\": \"#2a3f5f\"}, \"marker\": {\"line\": {\"color\": \"#E5ECF6\", \"width\": 0.5}}, \"type\": \"bar\"}], \"barpolar\": [{\"marker\": {\"line\": {\"color\": \"#E5ECF6\", \"width\": 0.5}}, \"type\": \"barpolar\"}], \"carpet\": [{\"aaxis\": {\"endlinecolor\": \"#2a3f5f\", \"gridcolor\": \"white\", \"linecolor\": \"white\", \"minorgridcolor\": \"white\", \"startlinecolor\": \"#2a3f5f\"}, \"baxis\": {\"endlinecolor\": \"#2a3f5f\", \"gridcolor\": \"white\", \"linecolor\": \"white\", \"minorgridcolor\": \"white\", \"startlinecolor\": \"#2a3f5f\"}, \"type\": \"carpet\"}], \"choropleth\": [{\"colorbar\": {\"outlinewidth\": 0, \"ticks\": \"\"}, \"type\": \"choropleth\"}], \"contour\": [{\"colorbar\": {\"outlinewidth\": 0, \"ticks\": \"\"}, \"colorscale\": [[0.0, \"#0d0887\"], [0.1111111111111111, \"#46039f\"], [0.2222222222222222, \"#7201a8\"], [0.3333333333333333, \"#9c179e\"], [0.4444444444444444, \"#bd3786\"], [0.5555555555555556, \"#d8576b\"], [0.6666666666666666, \"#ed7953\"], [0.7777777777777778, \"#fb9f3a\"], [0.8888888888888888, \"#fdca26\"], [1.0, \"#f0f921\"]], \"type\": \"contour\"}], \"contourcarpet\": [{\"colorbar\": {\"outlinewidth\": 0, \"ticks\": \"\"}, \"type\": \"contourcarpet\"}], \"heatmap\": [{\"colorbar\": {\"outlinewidth\": 0, \"ticks\": \"\"}, \"colorscale\": [[0.0, \"#0d0887\"], [0.1111111111111111, \"#46039f\"], [0.2222222222222222, \"#7201a8\"], [0.3333333333333333, \"#9c179e\"], [0.4444444444444444, \"#bd3786\"], [0.5555555555555556, \"#d8576b\"], [0.6666666666666666, \"#ed7953\"], [0.7777777777777778, \"#fb9f3a\"], [0.8888888888888888, \"#fdca26\"], [1.0, \"#f0f921\"]], \"type\": \"heatmap\"}], \"heatmapgl\": [{\"colorbar\": {\"outlinewidth\": 0, \"ticks\": \"\"}, \"colorscale\": [[0.0, \"#0d0887\"], [0.1111111111111111, \"#46039f\"], [0.2222222222222222, \"#7201a8\"], [0.3333333333333333, \"#9c179e\"], [0.4444444444444444, \"#bd3786\"], [0.5555555555555556, \"#d8576b\"], [0.6666666666666666, \"#ed7953\"], [0.7777777777777778, \"#fb9f3a\"], [0.8888888888888888, \"#fdca26\"], [1.0, \"#f0f921\"]], \"type\": \"heatmapgl\"}], \"histogram\": [{\"marker\": {\"colorbar\": {\"outlinewidth\": 0, \"ticks\": \"\"}}, \"type\": \"histogram\"}], \"histogram2d\": [{\"colorbar\": {\"outlinewidth\": 0, \"ticks\": \"\"}, \"colorscale\": [[0.0, \"#0d0887\"], [0.1111111111111111, \"#46039f\"], [0.2222222222222222, \"#7201a8\"], [0.3333333333333333, \"#9c179e\"], [0.4444444444444444, \"#bd3786\"], [0.5555555555555556, \"#d8576b\"], [0.6666666666666666, \"#ed7953\"], [0.7777777777777778, \"#fb9f3a\"], [0.8888888888888888, \"#fdca26\"], [1.0, \"#f0f921\"]], \"type\": \"histogram2d\"}], \"histogram2dcontour\": [{\"colorbar\": {\"outlinewidth\": 0, \"ticks\": \"\"}, \"colorscale\": [[0.0, \"#0d0887\"], [0.1111111111111111, \"#46039f\"], [0.2222222222222222, \"#7201a8\"], [0.3333333333333333, \"#9c179e\"], [0.4444444444444444, \"#bd3786\"], [0.5555555555555556, \"#d8576b\"], [0.6666666666666666, \"#ed7953\"], [0.7777777777777778, \"#fb9f3a\"], [0.8888888888888888, \"#fdca26\"], [1.0, \"#f0f921\"]], \"type\": \"histogram2dcontour\"}], \"mesh3d\": [{\"colorbar\": {\"outlinewidth\": 0, \"ticks\": \"\"}, \"type\": \"mesh3d\"}], \"parcoords\": [{\"line\": {\"colorbar\": {\"outlinewidth\": 0, \"ticks\": \"\"}}, \"type\": \"parcoords\"}], \"pie\": [{\"automargin\": true, \"type\": \"pie\"}], \"scatter\": [{\"marker\": {\"colorbar\": {\"outlinewidth\": 0, \"ticks\": \"\"}}, \"type\": \"scatter\"}], \"scatter3d\": [{\"line\": {\"colorbar\": {\"outlinewidth\": 0, \"ticks\": \"\"}}, \"marker\": {\"colorbar\": {\"outlinewidth\": 0, \"ticks\": \"\"}}, \"type\": \"scatter3d\"}], \"scattercarpet\": [{\"marker\": {\"colorbar\": {\"outlinewidth\": 0, \"ticks\": \"\"}}, \"type\": \"scattercarpet\"}], \"scattergeo\": [{\"marker\": {\"colorbar\": {\"outlinewidth\": 0, \"ticks\": \"\"}}, \"type\": \"scattergeo\"}], \"scattergl\": [{\"marker\": {\"colorbar\": {\"outlinewidth\": 0, \"ticks\": \"\"}}, \"type\": \"scattergl\"}], \"scattermapbox\": [{\"marker\": {\"colorbar\": {\"outlinewidth\": 0, \"ticks\": \"\"}}, \"type\": \"scattermapbox\"}], \"scatterpolar\": [{\"marker\": {\"colorbar\": {\"outlinewidth\": 0, \"ticks\": \"\"}}, \"type\": \"scatterpolar\"}], \"scatterpolargl\": [{\"marker\": {\"colorbar\": {\"outlinewidth\": 0, \"ticks\": \"\"}}, \"type\": \"scatterpolargl\"}], \"scatterternary\": [{\"marker\": {\"colorbar\": {\"outlinewidth\": 0, \"ticks\": \"\"}}, \"type\": \"scatterternary\"}], \"surface\": [{\"colorbar\": {\"outlinewidth\": 0, \"ticks\": \"\"}, \"colorscale\": [[0.0, \"#0d0887\"], [0.1111111111111111, \"#46039f\"], [0.2222222222222222, \"#7201a8\"], [0.3333333333333333, \"#9c179e\"], [0.4444444444444444, \"#bd3786\"], [0.5555555555555556, \"#d8576b\"], [0.6666666666666666, \"#ed7953\"], [0.7777777777777778, \"#fb9f3a\"], [0.8888888888888888, \"#fdca26\"], [1.0, \"#f0f921\"]], \"type\": \"surface\"}], \"table\": [{\"cells\": {\"fill\": {\"color\": \"#EBF0F8\"}, \"line\": {\"color\": \"white\"}}, \"header\": {\"fill\": {\"color\": \"#C8D4E3\"}, \"line\": {\"color\": \"white\"}}, \"type\": \"table\"}]}, \"layout\": {\"annotationdefaults\": {\"arrowcolor\": \"#2a3f5f\", \"arrowhead\": 0, \"arrowwidth\": 1}, \"coloraxis\": {\"colorbar\": {\"outlinewidth\": 0, \"ticks\": \"\"}}, \"colorscale\": {\"diverging\": [[0, \"#8e0152\"], [0.1, \"#c51b7d\"], [0.2, \"#de77ae\"], [0.3, \"#f1b6da\"], [0.4, \"#fde0ef\"], [0.5, \"#f7f7f7\"], [0.6, \"#e6f5d0\"], [0.7, \"#b8e186\"], [0.8, \"#7fbc41\"], [0.9, \"#4d9221\"], [1, \"#276419\"]], \"sequential\": [[0.0, \"#0d0887\"], [0.1111111111111111, \"#46039f\"], [0.2222222222222222, \"#7201a8\"], [0.3333333333333333, \"#9c179e\"], [0.4444444444444444, \"#bd3786\"], [0.5555555555555556, \"#d8576b\"], [0.6666666666666666, \"#ed7953\"], [0.7777777777777778, \"#fb9f3a\"], [0.8888888888888888, \"#fdca26\"], [1.0, \"#f0f921\"]], \"sequentialminus\": [[0.0, \"#0d0887\"], [0.1111111111111111, \"#46039f\"], [0.2222222222222222, \"#7201a8\"], [0.3333333333333333, \"#9c179e\"], [0.4444444444444444, \"#bd3786\"], [0.5555555555555556, \"#d8576b\"], [0.6666666666666666, \"#ed7953\"], [0.7777777777777778, \"#fb9f3a\"], [0.8888888888888888, \"#fdca26\"], [1.0, \"#f0f921\"]]}, \"colorway\": [\"#636efa\", \"#EF553B\", \"#00cc96\", \"#ab63fa\", \"#FFA15A\", \"#19d3f3\", \"#FF6692\", \"#B6E880\", \"#FF97FF\", \"#FECB52\"], \"font\": {\"color\": \"#2a3f5f\"}, \"geo\": {\"bgcolor\": \"white\", \"lakecolor\": \"white\", \"landcolor\": \"#E5ECF6\", \"showlakes\": true, \"showland\": true, \"subunitcolor\": \"white\"}, \"hoverlabel\": {\"align\": \"left\"}, \"hovermode\": \"closest\", \"mapbox\": {\"style\": \"light\"}, \"paper_bgcolor\": \"white\", \"plot_bgcolor\": \"#E5ECF6\", \"polar\": {\"angularaxis\": {\"gridcolor\": \"white\", \"linecolor\": \"white\", \"ticks\": \"\"}, \"bgcolor\": \"#E5ECF6\", \"radialaxis\": {\"gridcolor\": \"white\", \"linecolor\": \"white\", \"ticks\": \"\"}}, \"scene\": {\"xaxis\": {\"backgroundcolor\": \"#E5ECF6\", \"gridcolor\": \"white\", \"gridwidth\": 2, \"linecolor\": \"white\", \"showbackground\": true, \"ticks\": \"\", \"zerolinecolor\": \"white\"}, \"yaxis\": {\"backgroundcolor\": \"#E5ECF6\", \"gridcolor\": \"white\", \"gridwidth\": 2, \"linecolor\": \"white\", \"showbackground\": true, \"ticks\": \"\", \"zerolinecolor\": \"white\"}, \"zaxis\": {\"backgroundcolor\": \"#E5ECF6\", \"gridcolor\": \"white\", \"gridwidth\": 2, \"linecolor\": \"white\", \"showbackground\": true, \"ticks\": \"\", \"zerolinecolor\": \"white\"}}, \"shapedefaults\": {\"line\": {\"color\": \"#2a3f5f\"}}, \"ternary\": {\"aaxis\": {\"gridcolor\": \"white\", \"linecolor\": \"white\", \"ticks\": \"\"}, \"baxis\": {\"gridcolor\": \"white\", \"linecolor\": \"white\", \"ticks\": \"\"}, \"bgcolor\": \"#E5ECF6\", \"caxis\": {\"gridcolor\": \"white\", \"linecolor\": \"white\", \"ticks\": \"\"}}, \"title\": {\"x\": 0.05}, \"xaxis\": {\"automargin\": true, \"gridcolor\": \"white\", \"linecolor\": \"white\", \"ticks\": \"\", \"title\": {\"standoff\": 15}, \"zerolinecolor\": \"white\", \"zerolinewidth\": 2}, \"yaxis\": {\"automargin\": true, \"gridcolor\": \"white\", \"linecolor\": \"white\", \"ticks\": \"\", \"title\": {\"standoff\": 15}, \"zerolinecolor\": \"white\", \"zerolinewidth\": 2}}}, \"title\": {\"text\": \"Plate 6 (16S) SQ standard deviation\"}, \"xaxis\": {\"anchor\": \"y\", \"domain\": [0.0, 1.0], \"title\": {\"text\": \"Dilution\"}}, \"yaxis\": {\"anchor\": \"x\", \"domain\": [0.0, 1.0], \"title\": {\"text\": \"SQ_SD\"}}},\n",
              "                        {\"responsive\": true}\n",
              "                    ).then(function(){\n",
              "                            \n",
              "var gd = document.getElementById('62a77aa9-8b5e-41ef-ad52-3da3de9532c7');\n",
              "var x = new MutationObserver(function (mutations, observer) {{\n",
              "        var display = window.getComputedStyle(gd).display;\n",
              "        if (!display || display === 'none') {{\n",
              "            console.log([gd, 'removed!']);\n",
              "            Plotly.purge(gd);\n",
              "            observer.disconnect();\n",
              "        }}\n",
              "}});\n",
              "\n",
              "// Listen for the removal of the full notebook cells\n",
              "var notebookContainer = gd.closest('#notebook-container');\n",
              "if (notebookContainer) {{\n",
              "    x.observe(notebookContainer, {childList: true});\n",
              "}}\n",
              "\n",
              "// Listen for the clearing of the current output cell\n",
              "var outputEl = gd.closest('.output');\n",
              "if (outputEl) {{\n",
              "    x.observe(outputEl, {childList: true});\n",
              "}}\n",
              "\n",
              "                        })\n",
              "                };\n",
              "                \n",
              "            </script>\n",
              "        </div>\n",
              "</body>\n",
              "</html>"
            ]
          },
          "metadata": {
            "tags": []
          }
        },
        {
          "output_type": "display_data",
          "data": {
            "text/html": [
              "<html>\n",
              "<head><meta charset=\"utf-8\" /></head>\n",
              "<body>\n",
              "    <div>\n",
              "            <script src=\"https://cdnjs.cloudflare.com/ajax/libs/mathjax/2.7.5/MathJax.js?config=TeX-AMS-MML_SVG\"></script><script type=\"text/javascript\">if (window.MathJax) {MathJax.Hub.Config({SVG: {font: \"STIX-Web\"}});}</script>\n",
              "                <script type=\"text/javascript\">window.PlotlyConfig = {MathJaxConfig: 'local'};</script>\n",
              "        <script src=\"https://cdn.plot.ly/plotly-latest.min.js\"></script>    \n",
              "            <div id=\"3dc6ae6e-8af4-4633-87e6-b51646ede0e2\" class=\"plotly-graph-div\" style=\"height:525px; width:100%;\"></div>\n",
              "            <script type=\"text/javascript\">\n",
              "                \n",
              "                    window.PLOTLYENV=window.PLOTLYENV || {};\n",
              "                    \n",
              "                if (document.getElementById(\"3dc6ae6e-8af4-4633-87e6-b51646ede0e2\")) {\n",
              "                    Plotly.newPlot(\n",
              "                        '3dc6ae6e-8af4-4633-87e6-b51646ede0e2',\n",
              "                        [{\"alignmentgroup\": \"True\", \"boxpoints\": \"all\", \"customdata\": [[\"C2-1/1-t1\", 0.1905230273796673], [\"C2-1/1-t1\", 0.24364805884351814], [\"C2-2/2-t1\", 1.8942683527190733], [\"C2-2/2-t1\", 2.5149317578009667], [\"C2-3/2-t1\", 2.554096642336739], [\"C2-3/2-t1\", 2.4583235332725986], [\"C2-4/2-t1\", 1.28372431489626], [\"C2-4/2-t1\", 1.8405543427537685], [\"C2-5/2-t1\", 4.196226424129126], [\"C2-5/2-t1\", 5.7082358287805075], [\"C2-6/2-t1\", 2.561747764238427], [\"C2-6/2-t1\", 3.7588067363420814], [\"C2-7/2-t1\", 3.98416833941186], [\"C2-7/2-t1\", 4.548199954874978], [\"C2-8/2-t1\", 2.253506533509681], [\"C2-8/2-t1\", 3.080195192630597], [\"C3-1/1-t1\", 0.14328973807018547], [\"C3-1/1-t1\", 0.2223454626847131], [\"C3-2/1-t1\", 0.7997999308730472], [\"C3-2/1-t1\", 1.2109994331150862], [\"C3-3/1-t1\", 4.594950904207028], [\"C3-3/1-t1\", 7.250584071819645], [\"C2-2/1-t1\", 2.0324575957517856], [\"C2-2/1-t1\", 2.471000279399398], [\"C3-4/1-t1\", 2.5302910766463995], [\"C3-4/1-t1\", 3.2199583982722233], [\"C3-5/1-t1\", 2.002164109643458], [\"C3-5/1-t1\", 2.4510824594748017], [\"C3-6/1-t1\", 4.165029857344322], [\"C3-6/1-t1\", 6.324302129915237], [\"C3-7/1-t1\", 4.116423211192727], [\"C3-7/1-t1\", 4.959697684581316], [\"C3-8/1-t1\", 3.554673046739524], [\"C3-8/1-t1\", 3.9835441324502012], [\"C3-1/2-t1\", 0.03433222927419893], [\"C3-1/2-t1\", 0.045809280425298436], [\"C3-2/2-t1\", 0.9720906501909408], [\"C3-2/2-t1\", 1.3379256045470131], [\"C3-3/2-t1\", 2.5550014528254144], [\"C3-3/2-t1\", 3.5556795325086386], [\"C3-4/2-t1\", 1.2117108110303407], [\"C3-4/2-t1\", 1.790683730065449], [\"C3-5/2-t1\", 2.2689024451406463], [\"C3-5/2-t1\", 2.6274341817637055], [\"C2-3/1-t1\", 2.8810172980333713], [\"C2-3/1-t1\", 3.4072903526603344], [\"C3-6/2-t1\", 3.1554703459625526], [\"C3-6/2-t1\", 4.081643724036324], [\"C3-7/2-t1\", 1.4276201393375743], [\"C3-7/2-t1\", 2.417894742673303], [\"C3-8/2-t1\", 1.3059954776920653], [\"C3-8/2-t1\", 1.657053148949883], [\"C6-1/1-t1\", 0.1797417600027375], [\"C6-1/1-t1\", 0.23389615541685443], [\"C6-2/1-t1\", 1.7765850213374486], [\"C6-2/1-t1\", 2.4329943973072545], [\"C6-3/1-t1\", 2.4692860959856424], [\"C6-3/1-t1\", 3.4288052388625117], [\"C6-4/1-t1\", 2.2250510295511368], [\"C6-4/1-t1\", 3.665914928903847], [\"C6-5/1-t1\", 4.132323175378543], [\"C6-5/1-t1\", 5.977404198670308], [\"C6-6/1-t1\", 5.967239070309004], [\"C6-6/1-t1\", 8.060777404189603], [\"C6-7/1-t1\", 1.9628623731973887], [\"C6-7/1-t1\", 2.4078445501139436], [\"C2-4/1-t1\", 6.9014113802877555], [\"C2-4/1-t1\", 10.60335807336935], [\"C6-8/1-t1\", 5.188131619106224], [\"C6-8/1-t1\", 6.301303814507795], [\"C6-1/2-t1\", 0.17185461616530287], [\"C6-1/2-t1\", 0.22561858922414907], [\"C6-2/2-t1\", 1.4503305025566031], [\"C6-2/2-t1\", 1.8894522741186284], [\"C6-3/2-t1\", 4.01551128654563], [\"C6-3/2-t1\", 5.528954017054277], [\"C6-4/2-t1\", 4.628207112180495], [\"C6-4/2-t1\", 6.428365482177314], [\"C6-5/2-t1\", 8.12246522517054], [\"C6-5/2-t1\", 11.451997817296796], [\"C6-6/2-t1\", 7.712137503342349], [\"C6-6/2-t1\", 11.942554629982013], [\"C6-7/2-t1\", 2.2797755415929197], [\"C6-7/2-t1\", 3.09291820723309], [\"C6-8/2-t1\", 1.0759212204918356], [\"C6-8/2-t1\", 1.4110601790691069], [\"C7-1/1-t1\", 0.2211966022589228], [\"C7-1/1-t1\", 0.2980826400623177], [\"C2-5/1-t1\", 3.3123870926452685], [\"C2-5/1-t1\", 3.999353459611691], [\"C7-2/1-t1\", 0.7452892899124344], [\"C7-2/1-t1\", 1.0425984608963361], [\"C7-3/1-t1\", 4.250389249958992], [\"C7-3/1-t1\", 5.865650646795258], [\"C7-4/1-t1\", 1.0532114069293108], [\"C7-4/1-t1\", 1.4002199167822202], [\"C7-5/1-t1\", 2.221670266537295], [\"C7-5/1-t1\", 3.2231408905922185], [\"C7-6/1-t1\", 2.5021296648937588], [\"C7-6/1-t1\", 3.7924068034756226], [\"C7-7/1-t1\", 0.9457576000637367], [\"C7-7/1-t1\", 1.3146273553998529], [\"C7-8/1-t1\", 1.816871053832057], [\"C7-8/1-t1\", 2.309760452036444], [\"C7-1/2-t1\", 0.10178746019308588], [\"C7-1/2-t1\", 0.1588810065738261], [\"C7-2/2-t1\", 0.6575823546359545], [\"C7-2/2-t1\", 0.8770809250252871], [\"C7-3/2-t1\", 4.055508603722424], [\"C7-3/2-t1\", 5.421386543554366], [\"C2-6/1-t1\", 11.337630143383073], [\"C2-6/1-t1\", 12.573143008400375], [\"C7-4/2-t1\", 1.808301957397456], [\"C7-4/2-t1\", 2.306219956330819], [\"C7-5/2-t1\", 2.157895231766344], [\"C7-5/2-t1\", 2.6341360598430006], [\"C7-6/2-t1\", 2.5477056311632866], [\"C7-6/2-t1\", 3.714504665894583], [\"C7-7/2-t1\", 4.232305845307209], [\"C7-7/2-t1\", 5.817240529316718], [\"C7-8/2-t1\", 1.492759371465758], [\"C7-8/2-t1\", 2.1812287709687688], [\"WP1-t3-6\", 1.376063086246331], [\"WP1-t3-6\", 1.9029112321558026], [\"WP1-t3-27\", 1.858430549746349], [\"WP1-t3-27\", 3.419303876611326], [\"WP1-t3-56\", 1.8311948294457774], [\"WP1-t3-56\", 2.4181337522058604], [\"WP1-t3-102\", 1.1804175314786343], [\"WP1-t3-102\", 1.5490708716331256], [\"WP1-t3-109\", 0.8451501401037481], [\"WP1-t3-109\", 1.159430229522742], [\"C2-7/1-t1\", 2.2937597045679885], [\"C2-7/1-t1\", 3.034147004495963], [\"WP1-t3-117\", 0.3167543692611505], [\"WP1-t3-117\", 0.4426593377557941], [\"WP1-t3-119\", 0.37963087030848275], [\"WP1-t3-119\", 0.47943943995260196], [\"WP1-t3-138\", 0.2563515680327516], [\"WP1-t3-138\", 0.3214133416444211], [\"WP1-t3-140\", 1.216043269091526], [\"WP1-t3-140\", 1.8431583219420045], [\"WP1-t3-142\", 2.286401877321281], [\"WP1-t3-142\", 3.037885072330536], [\"WP1-t3-150\", 0.32502244179949635], [\"WP1-t3-150\", 0.4232073137095196], [\"WP1-t3-151\", 0.4766483160527395], [\"WP1-t3-151\", 0.6688012696874637], [\"WP1-t3-152\", 2.420679548401054], [\"WP1-t3-152\", 3.6001340733382836], [\"C2-8/1-t1\", 4.829880684566788], [\"C2-8/1-t1\", 6.457070036494922], [\"C2-1/2-t1\", 0.3033481374546937], [\"C2-1/2-t1\", 0.4429288489325986]], \"hoverlabel\": {\"namelength\": 0}, \"hovertemplate\": \"Dilution=%{x}<br>SQ_SD=%{y}<br>ID=%{customdata[0]}<br>SQ_mean=%{customdata[1]}\", \"legendgroup\": \"\", \"marker\": {\"color\": \"#636efa\"}, \"name\": \"\", \"notched\": false, \"offsetgroup\": \"\", \"orientation\": \"v\", \"showlegend\": false, \"type\": \"box\", \"x\": [10.0, 51.0, 10.0, 51.0, 10.0, 51.0, 10.0, 51.0, 10.0, 51.0, 10.0, 51.0, 10.0, 51.0, 10.0, 51.0, 10.0, 51.0, 10.0, 51.0, 10.0, 51.0, 10.0, 51.0, 10.0, 51.0, 10.0, 51.0, 10.0, 51.0, 10.0, 51.0, 10.0, 51.0, 10.0, 51.0, 10.0, 51.0, 10.0, 51.0, 10.0, 51.0, 10.0, 51.0, 10.0, 51.0, 10.0, 51.0, 10.0, 51.0, 10.0, 51.0, 10.0, 51.0, 10.0, 51.0, 10.0, 51.0, 10.0, 51.0, 10.0, 51.0, 10.0, 51.0, 10.0, 51.0, 10.0, 51.0, 10.0, 51.0, 10.0, 51.0, 10.0, 51.0, 10.0, 51.0, 10.0, 51.0, 10.0, 51.0, 10.0, 51.0, 10.0, 51.0, 10.0, 51.0, 10.0, 51.0, 10.0, 51.0, 10.0, 51.0, 10.0, 51.0, 10.0, 51.0, 10.0, 51.0, 10.0, 51.0, 10.0, 51.0, 10.0, 51.0, 10.0, 51.0, 10.0, 51.0, 10.0, 51.0, 10.0, 51.0, 10.0, 51.0, 10.0, 51.0, 10.0, 51.0, 10.0, 51.0, 10.0, 51.0, 10.0, 51.0, 10.0, 51.0, 10.0, 51.0, 10.0, 51.0, 10.0, 51.0, 10.0, 51.0, 10.0, 51.0, 10.0, 51.0, 10.0, 51.0, 10.0, 51.0, 10.0, 51.0, 10.0, 51.0, 10.0, 51.0, 10.0, 51.0, 10.0, 51.0, 10.0, 51.0], \"x0\": \" \", \"xaxis\": \"x\", \"y\": [0.010077431542037905, 0.005376308641362515, 0.03935284137504095, 0.08342229805933656, 0.06781610844198363, 0.026428366515024986, 0.034614543146800694, 0.02027641439705707, 0.013617427164185257, 0.07337924645743292, 0.05786365545021329, 0.06053022363651595, 0.13589717174173194, 0.16735798477617278, 0.014797883731386326, 0.030707704374648183, 0.003438883374421998, 0.0014395966761196952, 0.032073559065171356, 0.05253721567342622, 0.31225208526486364, 0.10301252214485705, 0.20230092653518084, 0.014292743733294722, 0.04817600062084319, 0.17220022556820322, 0.12362343155588716, 0.01833652096316234, 0.1766776424903484, 0.334897476647178, 0.13984240532429845, 0.20758796227924747, 0.07763398600419742, 0.04363885388391992, 0.00028583850100931304, 0.0031270477590358793, 0.04921091821248177, 0.01589993773570122, 0.048183982163508374, 0.09315456614243668, 0.05268286544762779, 0.031169452071510836, 0.030266961367692052, 0.12052325821118651, 0.43541086754484115, 0.035123430584591754, 0.059931109162607195, 0.06300084975445272, 0.018158865445176208, 0.03456203949386788, 0.025324588726533263, 0.06621604056187361, 0.005238978894248008, 0.021960961133578115, 0.028597922913894912, 0.03433450353330982, 0.01973092713910675, 0.1863692521181367, 0.06763211189693435, 0.05546222353487109, 0.05991369371377476, 0.28135751669883924, 0.1412706446511803, 0.6469319294505104, 0.0067787052939497555, 0.015826154887783116, 0.43391857208996837, 1.2165641712799204, 0.09547895547011631, 0.20466819521817078, 0.011654181090140213, 0.03063369309484967, 0.034522531373785734, 0.0363179531386413, 0.005227640547005983, 0.0514584514813339, 0.22937305514217626, 0.07132194949399287, 0.4802475155941789, 0.6555843443049604, 0.12729430732864153, 0.03907659715235838, 0.04765991948561565, 0.3528738108353222, 0.04101149141158354, 0.025986922483199597, 0.00991569758109819, 0.026141769331124273, 0.26592490247137424, 0.040713138155730945, 0.007672114738388986, 0.02435834747330694, 0.10435914438370705, 0.08518686960240901, 0.009255167803131679, 0.043379715640880834, 0.019870568669719625, 0.13632294661851882, 0.019723795171476474, 0.046851857714106736, 0.009486421807917512, 0.0234253172254386, 0.04257488279622632, 0.008469838878418632, 0.00466126428992516, 0.004846747809241704, 0.024223944816395258, 0.012549133915910355, 0.04292389281446291, 0.12364161684811444, 0.04221624324655783, 0.16905654321382033, 0.025531920309321995, 0.14897489765629665, 0.08225463621289707, 0.2137288302324576, 0.0672308649259247, 0.046414144564355754, 0.033779544960106836, 0.04916696709706665, 0.01773041107442476, 0.018659045102638883, 0.0031744877835472116, 0.040678251913966575, 0.005201610517509888, 0.07520487791521444, 0.016830167411478518, 0.06878655599522995, 0.010478279499964042, 0.12042673280642846, 4.946728887898265e-05, 0.026404405610661656, 0.014834638637867902, 0.1779381940041941, 0.014812416540321803, 0.004617235146775377, 0.001669758514649002, 0.005114569831669718, 0.004518796990969014, 0.013350965846992493, 0.003544629258556882, 0.11985477754701213, 0.0014333309717176046, 0.03623209431061092, 0.0025913216625958516, 0.009527484706729168, 0.00634302210995314, 0.025278699278075963, 0.005440507716709655, 0.010252440273184605, 0.1576500555600215, 0.17759447175611134, 0.02447348761009503, 0.024740120855202465], \"y0\": \" \", \"yaxis\": \"y\"}],\n",
              "                        {\"boxmode\": \"group\", \"legend\": {\"tracegroupgap\": 0}, \"template\": {\"data\": {\"bar\": [{\"error_x\": {\"color\": \"#2a3f5f\"}, \"error_y\": {\"color\": \"#2a3f5f\"}, \"marker\": {\"line\": {\"color\": \"#E5ECF6\", \"width\": 0.5}}, \"type\": \"bar\"}], \"barpolar\": [{\"marker\": {\"line\": {\"color\": \"#E5ECF6\", \"width\": 0.5}}, \"type\": \"barpolar\"}], \"carpet\": [{\"aaxis\": {\"endlinecolor\": \"#2a3f5f\", \"gridcolor\": \"white\", \"linecolor\": \"white\", \"minorgridcolor\": \"white\", \"startlinecolor\": \"#2a3f5f\"}, \"baxis\": {\"endlinecolor\": \"#2a3f5f\", \"gridcolor\": \"white\", \"linecolor\": \"white\", \"minorgridcolor\": \"white\", \"startlinecolor\": \"#2a3f5f\"}, \"type\": \"carpet\"}], \"choropleth\": [{\"colorbar\": {\"outlinewidth\": 0, \"ticks\": \"\"}, \"type\": \"choropleth\"}], \"contour\": [{\"colorbar\": {\"outlinewidth\": 0, \"ticks\": \"\"}, \"colorscale\": [[0.0, \"#0d0887\"], [0.1111111111111111, \"#46039f\"], [0.2222222222222222, \"#7201a8\"], [0.3333333333333333, \"#9c179e\"], [0.4444444444444444, \"#bd3786\"], [0.5555555555555556, \"#d8576b\"], [0.6666666666666666, \"#ed7953\"], [0.7777777777777778, \"#fb9f3a\"], [0.8888888888888888, \"#fdca26\"], [1.0, \"#f0f921\"]], \"type\": \"contour\"}], \"contourcarpet\": [{\"colorbar\": {\"outlinewidth\": 0, \"ticks\": \"\"}, \"type\": \"contourcarpet\"}], \"heatmap\": [{\"colorbar\": {\"outlinewidth\": 0, \"ticks\": \"\"}, \"colorscale\": [[0.0, \"#0d0887\"], [0.1111111111111111, \"#46039f\"], [0.2222222222222222, \"#7201a8\"], [0.3333333333333333, \"#9c179e\"], [0.4444444444444444, \"#bd3786\"], [0.5555555555555556, \"#d8576b\"], [0.6666666666666666, \"#ed7953\"], [0.7777777777777778, \"#fb9f3a\"], [0.8888888888888888, \"#fdca26\"], [1.0, \"#f0f921\"]], \"type\": \"heatmap\"}], \"heatmapgl\": [{\"colorbar\": {\"outlinewidth\": 0, \"ticks\": \"\"}, \"colorscale\": [[0.0, \"#0d0887\"], [0.1111111111111111, \"#46039f\"], [0.2222222222222222, \"#7201a8\"], [0.3333333333333333, \"#9c179e\"], [0.4444444444444444, \"#bd3786\"], [0.5555555555555556, \"#d8576b\"], [0.6666666666666666, \"#ed7953\"], [0.7777777777777778, \"#fb9f3a\"], [0.8888888888888888, \"#fdca26\"], [1.0, \"#f0f921\"]], \"type\": \"heatmapgl\"}], \"histogram\": [{\"marker\": {\"colorbar\": {\"outlinewidth\": 0, \"ticks\": \"\"}}, \"type\": \"histogram\"}], \"histogram2d\": [{\"colorbar\": {\"outlinewidth\": 0, \"ticks\": \"\"}, \"colorscale\": [[0.0, \"#0d0887\"], [0.1111111111111111, \"#46039f\"], [0.2222222222222222, \"#7201a8\"], [0.3333333333333333, \"#9c179e\"], [0.4444444444444444, \"#bd3786\"], [0.5555555555555556, \"#d8576b\"], [0.6666666666666666, \"#ed7953\"], [0.7777777777777778, \"#fb9f3a\"], [0.8888888888888888, \"#fdca26\"], [1.0, \"#f0f921\"]], \"type\": \"histogram2d\"}], \"histogram2dcontour\": [{\"colorbar\": {\"outlinewidth\": 0, \"ticks\": \"\"}, \"colorscale\": [[0.0, \"#0d0887\"], [0.1111111111111111, \"#46039f\"], [0.2222222222222222, \"#7201a8\"], [0.3333333333333333, \"#9c179e\"], [0.4444444444444444, \"#bd3786\"], [0.5555555555555556, \"#d8576b\"], [0.6666666666666666, \"#ed7953\"], [0.7777777777777778, \"#fb9f3a\"], [0.8888888888888888, \"#fdca26\"], [1.0, \"#f0f921\"]], \"type\": \"histogram2dcontour\"}], \"mesh3d\": [{\"colorbar\": {\"outlinewidth\": 0, \"ticks\": \"\"}, \"type\": \"mesh3d\"}], \"parcoords\": [{\"line\": {\"colorbar\": {\"outlinewidth\": 0, \"ticks\": \"\"}}, \"type\": \"parcoords\"}], \"pie\": [{\"automargin\": true, \"type\": \"pie\"}], \"scatter\": [{\"marker\": {\"colorbar\": {\"outlinewidth\": 0, \"ticks\": \"\"}}, \"type\": \"scatter\"}], \"scatter3d\": [{\"line\": {\"colorbar\": {\"outlinewidth\": 0, \"ticks\": \"\"}}, \"marker\": {\"colorbar\": {\"outlinewidth\": 0, \"ticks\": \"\"}}, \"type\": \"scatter3d\"}], \"scattercarpet\": [{\"marker\": {\"colorbar\": {\"outlinewidth\": 0, \"ticks\": \"\"}}, \"type\": \"scattercarpet\"}], \"scattergeo\": [{\"marker\": {\"colorbar\": {\"outlinewidth\": 0, \"ticks\": \"\"}}, \"type\": \"scattergeo\"}], \"scattergl\": [{\"marker\": {\"colorbar\": {\"outlinewidth\": 0, \"ticks\": \"\"}}, \"type\": \"scattergl\"}], \"scattermapbox\": [{\"marker\": {\"colorbar\": {\"outlinewidth\": 0, \"ticks\": \"\"}}, \"type\": \"scattermapbox\"}], \"scatterpolar\": [{\"marker\": {\"colorbar\": {\"outlinewidth\": 0, \"ticks\": \"\"}}, \"type\": \"scatterpolar\"}], \"scatterpolargl\": [{\"marker\": {\"colorbar\": {\"outlinewidth\": 0, \"ticks\": \"\"}}, \"type\": \"scatterpolargl\"}], \"scatterternary\": [{\"marker\": {\"colorbar\": {\"outlinewidth\": 0, \"ticks\": \"\"}}, \"type\": \"scatterternary\"}], \"surface\": [{\"colorbar\": {\"outlinewidth\": 0, \"ticks\": \"\"}, \"colorscale\": [[0.0, \"#0d0887\"], [0.1111111111111111, \"#46039f\"], [0.2222222222222222, \"#7201a8\"], [0.3333333333333333, \"#9c179e\"], [0.4444444444444444, \"#bd3786\"], [0.5555555555555556, \"#d8576b\"], [0.6666666666666666, \"#ed7953\"], [0.7777777777777778, \"#fb9f3a\"], [0.8888888888888888, \"#fdca26\"], [1.0, \"#f0f921\"]], \"type\": \"surface\"}], \"table\": [{\"cells\": {\"fill\": {\"color\": \"#EBF0F8\"}, \"line\": {\"color\": \"white\"}}, \"header\": {\"fill\": {\"color\": \"#C8D4E3\"}, \"line\": {\"color\": \"white\"}}, \"type\": \"table\"}]}, \"layout\": {\"annotationdefaults\": {\"arrowcolor\": \"#2a3f5f\", \"arrowhead\": 0, \"arrowwidth\": 1}, \"coloraxis\": {\"colorbar\": {\"outlinewidth\": 0, \"ticks\": \"\"}}, \"colorscale\": {\"diverging\": [[0, \"#8e0152\"], [0.1, \"#c51b7d\"], [0.2, \"#de77ae\"], [0.3, \"#f1b6da\"], [0.4, \"#fde0ef\"], [0.5, \"#f7f7f7\"], [0.6, \"#e6f5d0\"], [0.7, \"#b8e186\"], [0.8, \"#7fbc41\"], [0.9, \"#4d9221\"], [1, \"#276419\"]], \"sequential\": [[0.0, \"#0d0887\"], [0.1111111111111111, \"#46039f\"], [0.2222222222222222, \"#7201a8\"], [0.3333333333333333, \"#9c179e\"], [0.4444444444444444, \"#bd3786\"], [0.5555555555555556, \"#d8576b\"], [0.6666666666666666, \"#ed7953\"], [0.7777777777777778, \"#fb9f3a\"], [0.8888888888888888, \"#fdca26\"], [1.0, \"#f0f921\"]], \"sequentialminus\": [[0.0, \"#0d0887\"], [0.1111111111111111, \"#46039f\"], [0.2222222222222222, \"#7201a8\"], [0.3333333333333333, \"#9c179e\"], [0.4444444444444444, \"#bd3786\"], [0.5555555555555556, \"#d8576b\"], [0.6666666666666666, \"#ed7953\"], [0.7777777777777778, \"#fb9f3a\"], [0.8888888888888888, \"#fdca26\"], [1.0, \"#f0f921\"]]}, \"colorway\": [\"#636efa\", \"#EF553B\", \"#00cc96\", \"#ab63fa\", \"#FFA15A\", \"#19d3f3\", \"#FF6692\", \"#B6E880\", \"#FF97FF\", \"#FECB52\"], \"font\": {\"color\": \"#2a3f5f\"}, \"geo\": {\"bgcolor\": \"white\", \"lakecolor\": \"white\", \"landcolor\": \"#E5ECF6\", \"showlakes\": true, \"showland\": true, \"subunitcolor\": \"white\"}, \"hoverlabel\": {\"align\": \"left\"}, \"hovermode\": \"closest\", \"mapbox\": {\"style\": \"light\"}, \"paper_bgcolor\": \"white\", \"plot_bgcolor\": \"#E5ECF6\", \"polar\": {\"angularaxis\": {\"gridcolor\": \"white\", \"linecolor\": \"white\", \"ticks\": \"\"}, \"bgcolor\": \"#E5ECF6\", \"radialaxis\": {\"gridcolor\": \"white\", \"linecolor\": \"white\", \"ticks\": \"\"}}, \"scene\": {\"xaxis\": {\"backgroundcolor\": \"#E5ECF6\", \"gridcolor\": \"white\", \"gridwidth\": 2, \"linecolor\": \"white\", \"showbackground\": true, \"ticks\": \"\", \"zerolinecolor\": \"white\"}, \"yaxis\": {\"backgroundcolor\": \"#E5ECF6\", \"gridcolor\": \"white\", \"gridwidth\": 2, \"linecolor\": \"white\", \"showbackground\": true, \"ticks\": \"\", \"zerolinecolor\": \"white\"}, \"zaxis\": {\"backgroundcolor\": \"#E5ECF6\", \"gridcolor\": \"white\", \"gridwidth\": 2, \"linecolor\": \"white\", \"showbackground\": true, \"ticks\": \"\", \"zerolinecolor\": \"white\"}}, \"shapedefaults\": {\"line\": {\"color\": \"#2a3f5f\"}}, \"ternary\": {\"aaxis\": {\"gridcolor\": \"white\", \"linecolor\": \"white\", \"ticks\": \"\"}, \"baxis\": {\"gridcolor\": \"white\", \"linecolor\": \"white\", \"ticks\": \"\"}, \"bgcolor\": \"#E5ECF6\", \"caxis\": {\"gridcolor\": \"white\", \"linecolor\": \"white\", \"ticks\": \"\"}}, \"title\": {\"x\": 0.05}, \"xaxis\": {\"automargin\": true, \"gridcolor\": \"white\", \"linecolor\": \"white\", \"ticks\": \"\", \"title\": {\"standoff\": 15}, \"zerolinecolor\": \"white\", \"zerolinewidth\": 2}, \"yaxis\": {\"automargin\": true, \"gridcolor\": \"white\", \"linecolor\": \"white\", \"ticks\": \"\", \"title\": {\"standoff\": 15}, \"zerolinecolor\": \"white\", \"zerolinewidth\": 2}}}, \"title\": {\"text\": \"Plate 7 (ITS) SQ standard deviation\"}, \"xaxis\": {\"anchor\": \"y\", \"domain\": [0.0, 1.0], \"title\": {\"text\": \"Dilution\"}}, \"yaxis\": {\"anchor\": \"x\", \"domain\": [0.0, 1.0], \"title\": {\"text\": \"SQ_SD\"}}},\n",
              "                        {\"responsive\": true}\n",
              "                    ).then(function(){\n",
              "                            \n",
              "var gd = document.getElementById('3dc6ae6e-8af4-4633-87e6-b51646ede0e2');\n",
              "var x = new MutationObserver(function (mutations, observer) {{\n",
              "        var display = window.getComputedStyle(gd).display;\n",
              "        if (!display || display === 'none') {{\n",
              "            console.log([gd, 'removed!']);\n",
              "            Plotly.purge(gd);\n",
              "            observer.disconnect();\n",
              "        }}\n",
              "}});\n",
              "\n",
              "// Listen for the removal of the full notebook cells\n",
              "var notebookContainer = gd.closest('#notebook-container');\n",
              "if (notebookContainer) {{\n",
              "    x.observe(notebookContainer, {childList: true});\n",
              "}}\n",
              "\n",
              "// Listen for the clearing of the current output cell\n",
              "var outputEl = gd.closest('.output');\n",
              "if (outputEl) {{\n",
              "    x.observe(outputEl, {childList: true});\n",
              "}}\n",
              "\n",
              "                        })\n",
              "                };\n",
              "                \n",
              "            </script>\n",
              "        </div>\n",
              "</body>\n",
              "</html>"
            ]
          },
          "metadata": {
            "tags": []
          }
        },
        {
          "output_type": "display_data",
          "data": {
            "text/html": [
              "<html>\n",
              "<head><meta charset=\"utf-8\" /></head>\n",
              "<body>\n",
              "    <div>\n",
              "            <script src=\"https://cdnjs.cloudflare.com/ajax/libs/mathjax/2.7.5/MathJax.js?config=TeX-AMS-MML_SVG\"></script><script type=\"text/javascript\">if (window.MathJax) {MathJax.Hub.Config({SVG: {font: \"STIX-Web\"}});}</script>\n",
              "                <script type=\"text/javascript\">window.PlotlyConfig = {MathJaxConfig: 'local'};</script>\n",
              "        <script src=\"https://cdn.plot.ly/plotly-latest.min.js\"></script>    \n",
              "            <div id=\"3683b096-462c-4244-8796-f8e8f3b57a3c\" class=\"plotly-graph-div\" style=\"height:525px; width:100%;\"></div>\n",
              "            <script type=\"text/javascript\">\n",
              "                \n",
              "                    window.PLOTLYENV=window.PLOTLYENV || {};\n",
              "                    \n",
              "                if (document.getElementById(\"3683b096-462c-4244-8796-f8e8f3b57a3c\")) {\n",
              "                    Plotly.newPlot(\n",
              "                        '3683b096-462c-4244-8796-f8e8f3b57a3c',\n",
              "                        [{\"alignmentgroup\": \"True\", \"boxpoints\": \"all\", \"customdata\": [[\"C2-1/1-t1\", 4.799338881846324], [\"C2-1/1-t1\", 3.845277113574282], [\"C2-2/2-t1\", 10.543605548477752], [\"C2-2/2-t1\", 12.433622203594592], [\"C2-3/2-t1\", 2.260985802038478], [\"C2-3/2-t1\", 1.6339492078468694], [\"C2-4/2-t1\", 2.03195360386488], [\"C2-4/2-t1\", 1.9662393730292917], [\"C2-5/2-t1\", 2.452509899743599], [\"C2-5/2-t1\", 2.716735667994419], [\"C2-6/2-t1\", 5.309585399644908], [\"C2-6/2-t1\", 5.55138482732258], [\"C2-7/2-t1\", 4.903921783699603], [\"C2-7/2-t1\", 4.756175889302511], [\"C2-8/2-t1\", 3.160930511416513], [\"C2-8/2-t1\", 3.5428442177256345], [\"C3-1/1-t1\", 8.275455027393544], [\"C3-1/1-t1\", 9.435440850922571], [\"C3-2/1-t1\", 4.019119541060552], [\"C3-2/1-t1\", 4.689349311610616], [\"C3-3/1-t1\", 3.281271865222879], [\"C3-3/1-t1\", 4.65181094834308], [\"C2-2/1-t1\", 6.182446401497153], [\"C2-2/1-t1\", 7.0928727206246815], [\"C3-4/1-t1\", 4.001551383018347], [\"C3-4/1-t1\", 3.7480897450338793], [\"C3-5/1-t1\", 3.8717660992629463], [\"C3-5/1-t1\", 3.86659602951004], [\"C3-6/1-t1\", 4.292278277108052], [\"C3-6/1-t1\", 3.9584677257414187], [\"C3-7/1-t1\", 5.6801103474854315], [\"C3-7/1-t1\", 5.323823707385996], [\"C3-8/1-t1\", 6.080353901576651], [\"C3-8/1-t1\", 5.35340756193902], [\"C3-1/2-t1\", 2.0091941063279357], [\"C3-1/2-t1\", 2.0790570234170995], [\"C3-2/2-t1\", 4.260242200498707], [\"C3-2/2-t1\", 3.7957506835355423], [\"C3-3/2-t1\", 4.317846230800491], [\"C3-3/2-t1\", 3.911091894679458], [\"C3-4/2-t1\", 1.6877807747890157], [\"C3-4/2-t1\", 1.8897234070423665], [\"C3-5/2-t1\", 2.7157969210462616], [\"C3-5/2-t1\", 2.8657373400333483], [\"C2-3/1-t1\", 2.8392876909790066], [\"C2-3/1-t1\", 2.909954063337784], [\"C3-6/2-t1\", 3.3989381023521164], [\"C3-6/2-t1\", 3.598523693990984], [\"C3-7/2-t1\", 2.3517169535760787], [\"C3-7/2-t1\", 3.1117475607134075], [\"C3-8/2-t1\", 3.4028884207447825], [\"C3-8/2-t1\", 3.5450064393079086], [\"C6-1/1-t1\", 3.879297375291615], [\"C6-1/1-t1\", 3.497206689566845], [\"C6-2/1-t1\", 2.819608963566407], [\"C6-2/1-t1\", 3.6020910011624236], [\"C6-3/1-t1\", 4.243775165864502], [\"C6-3/1-t1\", 4.014063265745476], [\"C6-4/1-t1\", 2.947727610509566], [\"C6-4/1-t1\", 3.784614469280946], [\"C6-5/1-t1\", 2.7142967938893037], [\"C6-5/1-t1\", 3.523689275130719], [\"C6-6/1-t1\", 2.4394966438023467], [\"C6-6/1-t1\", 2.602257975291663], [\"C6-7/1-t1\", 4.3127277860350866], [\"C6-7/1-t1\", 3.7094827907691768], [\"C2-4/1-t1\", 14.966867449399738], [\"C2-4/1-t1\", 14.844304758219117], [\"C6-8/1-t1\", 5.481429129105111], [\"C6-8/1-t1\", 5.3797326198440665], [\"C6-1/2-t1\", 2.4840984813395295], [\"C6-1/2-t1\", 2.4591110795947584], [\"C6-2/2-t1\", 2.8452467976279863], [\"C6-2/2-t1\", 3.0659255213547825], [\"C6-3/2-t1\", 2.254932770628023], [\"C6-3/2-t1\", 2.1986440943981673], [\"C6-4/2-t1\", 5.12246388424184], [\"C6-4/2-t1\", 4.949156634855334], [\"C6-5/2-t1\", 5.007267909974438], [\"C6-5/2-t1\", 4.751564161766854], [\"C6-6/2-t1\", 5.994564453544605], [\"C6-6/2-t1\", 7.4681664568514154], [\"C6-7/2-t1\", 2.3242353376739713], [\"C6-7/2-t1\", 2.0180257880896684], [\"C6-8/2-t1\", 1.4881313940241818], [\"C6-8/2-t1\", 1.791686611383788], [\"C7-1/1-t1\", 2.226891104733131], [\"C7-1/1-t1\", 2.4076702823402103], [\"C2-5/1-t1\", 2.4938255549134842], [\"C2-5/1-t1\", 2.406206901457599], [\"C7-2/1-t1\", 2.639257882645115], [\"C7-2/1-t1\", 2.561589076557201], [\"C7-3/1-t1\", 2.7976121192179404], [\"C7-3/1-t1\", 3.0921566736370565], [\"C7-4/1-t1\", 4.889707374443654], [\"C7-4/1-t1\", 4.726453796871154], [\"C7-5/1-t1\", 2.838373591980326], [\"C7-5/1-t1\", 3.083023688596171], [\"C7-6/1-t1\", 2.948311478705742], [\"C7-6/1-t1\", 3.6248755293387354], [\"C7-7/1-t1\", 2.7892752927686417], [\"C7-7/1-t1\", 3.404823640757412], [\"C7-8/1-t1\", 3.551798075346846], [\"C7-8/1-t1\", 3.596553756822254], [\"C7-1/2-t1\", 2.46530696709765], [\"C7-1/2-t1\", 2.6120162483425426], [\"C7-2/2-t1\", 2.7604780876129986], [\"C7-2/2-t1\", 2.9962046389150157], [\"C7-3/2-t1\", 3.018912967893815], [\"C7-3/2-t1\", 3.3589890821792903], [\"C2-6/1-t1\", 15.757637550861196], [\"C2-6/1-t1\", 15.00781860177765], [\"C7-4/2-t1\", 2.159059254855623], [\"C7-4/2-t1\", 1.9597095325612843], [\"C7-5/2-t1\", 2.7821101773689403], [\"C7-5/2-t1\", 2.7424585355510027], [\"C7-6/2-t1\", 2.5509853972257046], [\"C7-6/2-t1\", 2.6733704004589587], [\"C7-7/2-t1\", 4.42601322610789], [\"C7-7/2-t1\", 3.981487102883902], [\"C7-8/2-t1\", 2.6629869014860814], [\"C7-8/2-t1\", 2.878174592148335], [\"WP1-t3-6\", 1.7511852162665553], [\"WP1-t3-6\", 1.8886241325655981], [\"WP1-t3-27\", 1.7623327433894218], [\"WP1-t3-27\", 2.7068352636457376], [\"WP1-t3-56\", 2.308386866154209], [\"WP1-t3-56\", 2.5551412661064514], [\"WP1-t3-102\", 1.4478568456894636], [\"WP1-t3-102\", 1.7809617804091238], [\"WP1-t3-109\", 2.2999046579255555], [\"WP1-t3-109\", 2.2152280598823237], [\"C2-7/1-t1\", 2.719923887472703], [\"C2-7/1-t1\", 3.1561978048983548], [\"WP1-t3-117\", 1.364998296064715], [\"WP1-t3-117\", 1.444757821580287], [\"WP1-t3-119\", 2.3929641404807453], [\"WP1-t3-119\", 2.085217761537411], [\"WP1-t3-138\", 1.4926231080013959], [\"WP1-t3-138\", 1.599455214260273], [\"WP1-t3-140\", 2.852406188845921], [\"WP1-t3-140\", 3.1139913891747915], [\"WP1-t3-142\", 1.7394061845560833], [\"WP1-t3-142\", 1.889739982316788], [\"WP1-t3-150\", 1.4650188441842147], [\"WP1-t3-150\", 1.6638538816378605], [\"WP1-t3-151\", 2.2812535372460547], [\"WP1-t3-151\", 2.116353854658791], [\"WP1-t3-152\", 2.001497073972142], [\"WP1-t3-152\", 2.043260862321742], [\"C2-8/1-t1\", 12.650605600002908], [\"C2-8/1-t1\", 13.62655774416287], [\"C2-1/2-t1\", 10.431745658448113], [\"C2-1/2-t1\", 11.369920200600198]], \"hoverlabel\": {\"namelength\": 0}, \"hovertemplate\": \"Dilution=%{x}<br>SQ_SD=%{y}<br>ID=%{customdata[0]}<br>SQ_mean=%{customdata[1]}\", \"legendgroup\": \"\", \"marker\": {\"color\": \"#636efa\"}, \"name\": \"\", \"notched\": false, \"offsetgroup\": \"\", \"orientation\": \"v\", \"showlegend\": false, \"type\": \"box\", \"x\": [10.0, 51.0, 10.0, 51.0, 10.0, 51.0, 10.0, 51.0, 10.0, 51.0, 10.0, 51.0, 10.0, 51.0, 10.0, 51.0, 10.0, 51.0, 10.0, 51.0, 10.0, 51.0, 10.0, 51.0, 10.0, 51.0, 10.0, 51.0, 10.0, 51.0, 10.0, 51.0, 10.0, 51.0, 10.0, 51.0, 10.0, 51.0, 10.0, 51.0, 10.0, 51.0, 10.0, 51.0, 10.0, 51.0, 10.0, 51.0, 10.0, 51.0, 10.0, 51.0, 10.0, 51.0, 10.0, 51.0, 10.0, 51.0, 10.0, 51.0, 10.0, 51.0, 10.0, 51.0, 10.0, 51.0, 10.0, 51.0, 10.0, 51.0, 10.0, 51.0, 10.0, 51.0, 10.0, 51.0, 10.0, 51.0, 10.0, 51.0, 10.0, 51.0, 10.0, 51.0, 10.0, 51.0, 10.0, 51.0, 10.0, 51.0, 10.0, 51.0, 10.0, 51.0, 10.0, 51.0, 10.0, 51.0, 10.0, 51.0, 10.0, 51.0, 10.0, 51.0, 10.0, 51.0, 10.0, 51.0, 10.0, 51.0, 10.0, 51.0, 10.0, 51.0, 10.0, 51.0, 10.0, 51.0, 10.0, 51.0, 10.0, 51.0, 10.0, 51.0, 10.0, 51.0, 10.0, 51.0, 10.0, 51.0, 10.0, 51.0, 10.0, 51.0, 10.0, 51.0, 10.0, 51.0, 10.0, 51.0, 10.0, 51.0, 10.0, 51.0, 10.0, 51.0, 10.0, 51.0, 10.0, 51.0, 10.0, 51.0, 10.0, 51.0], \"x0\": \" \", \"xaxis\": \"x\", \"y\": [0.06651485366608975, 0.5889212221708662, 0.3878997797119189, 0.6896840460545227, 0.0093639748635234, 0.09556787395146502, 0.3452476953337649, 0.03882197971321294, 0.011810404496777557, 0.24493906531228168, 0.15030084265059704, 0.3693972244578438, 0.48019636084089534, 0.300659873571111, 0.1907196153861733, 0.16408146829781498, 0.4194605152088446, 0.5091015728731372, 0.06694392248476559, 0.20767474446752335, 0.012893869132092159, 0.43788358878203004, 0.5334590041439629, 0.2531247988860923, 0.20488278161072018, 0.09295133829789216, 0.20233744580498994, 0.16718501659358287, 0.11429695136651669, 0.15008466038827462, 0.11255532572773128, 0.2987670230554397, 0.6301414186180213, 0.33708775339801395, 0.24578733402060687, 0.16223969956634327, 0.12112648310800406, 0.12285580862289945, 0.20496511548730972, 0.09275375682548248, 0.04137074768573214, 0.01867854583941721, 0.08184102955949739, 0.031022554426407892, 0.1286049181089971, 0.3023658302473784, 0.0965168059212389, 0.13789387035777217, 0.10547758089828083, 0.09443008061577433, 0.0966155749743357, 0.09587717470532753, 0.21346182267184088, 0.142051024670056, 0.021056824213056234, 0.007157323775941549, 0.1720187596809711, 0.06973765682565307, 0.014737439456556266, 0.12175695539785528, 0.21292624568581536, 0.2189806906325443, 0.038401622714182695, 0.12648141270622865, 0.44158020677955984, 0.06088962444067967, 1.0341457831959737, 1.9187177760152854, 0.3312797003646882, 0.24192566532518409, 0.050814288699509276, 0.07328033919919974, 0.08169783261501501, 0.03878152038657267, 0.0714827297453082, 0.11581330423737055, 0.14218891844120823, 0.22634466391692012, 0.04548154117734956, 0.3877472681314527, 0.33195975953544765, 0.35535315865377315, 0.07285030209932834, 0.09432339535326341, 0.0042894131026259075, 0.1968161098239135, 0.16691514895387705, 0.21788464414528905, 0.05688753162592808, 0.12171889380751118, 0.2602609427891842, 0.02464915928318679, 0.14486539636428714, 0.16485999475831575, 0.2581848301662941, 0.26496996343622914, 0.030046608874942305, 0.14486177254659283, 0.0067385480452056, 0.35747511383837893, 0.07128518758846274, 0.030746518097508273, 0.16810920377596927, 0.1639108999052095, 0.04189498848025499, 0.18343678537425015, 0.036538977991433824, 0.026266047668319345, 0.16049391135228722, 0.10139202429249028, 1.2436071107627593, 0.41052542622577, 0.06556352887054101, 0.09399126264533406, 0.009592946630533993, 0.23059645790346772, 0.019660582759553093, 0.14684528291519344, 0.32477411428177505, 0.1350036059970535, 0.08052930808991415, 0.06584551747707036, 0.1105107577081086, 0.03822701967866273, 0.05405151990104143, 0.10401286450360595, 0.09018108597585849, 0.12232089573137664, 0.027303709923624242, 0.03023463109346045, 0.044811438625944215, 0.10036536304219179, 0.09197265918827834, 0.09933715655605506, 0.016455999545825932, 0.045054163517184956, 0.059152096200187874, 0.2411593110075399, 0.06390534140644145, 0.0844577023377679, 0.17744724040557652, 0.03312075798593757, 0.03179283921853982, 0.04158789934220881, 0.054275834177749976, 0.049338661265309496, 0.08685621974696917, 0.0907692908137331, 0.06660267293542207, 0.013518986332411574, 0.7550538775660223, 0.5379425504071974, 0.049357815632551365, 0.407891759878692], \"y0\": \" \", \"yaxis\": \"y\"}],\n",
              "                        {\"boxmode\": \"group\", \"legend\": {\"tracegroupgap\": 0}, \"template\": {\"data\": {\"bar\": [{\"error_x\": {\"color\": \"#2a3f5f\"}, \"error_y\": {\"color\": \"#2a3f5f\"}, \"marker\": {\"line\": {\"color\": \"#E5ECF6\", \"width\": 0.5}}, \"type\": \"bar\"}], \"barpolar\": [{\"marker\": {\"line\": {\"color\": \"#E5ECF6\", \"width\": 0.5}}, \"type\": \"barpolar\"}], \"carpet\": [{\"aaxis\": {\"endlinecolor\": \"#2a3f5f\", \"gridcolor\": \"white\", \"linecolor\": \"white\", \"minorgridcolor\": \"white\", \"startlinecolor\": \"#2a3f5f\"}, \"baxis\": {\"endlinecolor\": \"#2a3f5f\", \"gridcolor\": \"white\", \"linecolor\": \"white\", \"minorgridcolor\": \"white\", \"startlinecolor\": \"#2a3f5f\"}, \"type\": \"carpet\"}], \"choropleth\": [{\"colorbar\": {\"outlinewidth\": 0, \"ticks\": \"\"}, \"type\": \"choropleth\"}], \"contour\": [{\"colorbar\": {\"outlinewidth\": 0, \"ticks\": \"\"}, \"colorscale\": [[0.0, \"#0d0887\"], [0.1111111111111111, \"#46039f\"], [0.2222222222222222, \"#7201a8\"], [0.3333333333333333, \"#9c179e\"], [0.4444444444444444, \"#bd3786\"], [0.5555555555555556, \"#d8576b\"], [0.6666666666666666, \"#ed7953\"], [0.7777777777777778, \"#fb9f3a\"], [0.8888888888888888, \"#fdca26\"], [1.0, \"#f0f921\"]], \"type\": \"contour\"}], \"contourcarpet\": [{\"colorbar\": {\"outlinewidth\": 0, \"ticks\": \"\"}, \"type\": \"contourcarpet\"}], \"heatmap\": [{\"colorbar\": {\"outlinewidth\": 0, \"ticks\": \"\"}, \"colorscale\": [[0.0, \"#0d0887\"], [0.1111111111111111, \"#46039f\"], [0.2222222222222222, \"#7201a8\"], [0.3333333333333333, \"#9c179e\"], [0.4444444444444444, \"#bd3786\"], [0.5555555555555556, \"#d8576b\"], [0.6666666666666666, \"#ed7953\"], [0.7777777777777778, \"#fb9f3a\"], [0.8888888888888888, \"#fdca26\"], [1.0, \"#f0f921\"]], \"type\": \"heatmap\"}], \"heatmapgl\": [{\"colorbar\": {\"outlinewidth\": 0, \"ticks\": \"\"}, \"colorscale\": [[0.0, \"#0d0887\"], [0.1111111111111111, \"#46039f\"], [0.2222222222222222, \"#7201a8\"], [0.3333333333333333, \"#9c179e\"], [0.4444444444444444, \"#bd3786\"], [0.5555555555555556, \"#d8576b\"], [0.6666666666666666, \"#ed7953\"], [0.7777777777777778, \"#fb9f3a\"], [0.8888888888888888, \"#fdca26\"], [1.0, \"#f0f921\"]], \"type\": \"heatmapgl\"}], \"histogram\": [{\"marker\": {\"colorbar\": {\"outlinewidth\": 0, \"ticks\": \"\"}}, \"type\": \"histogram\"}], \"histogram2d\": [{\"colorbar\": {\"outlinewidth\": 0, \"ticks\": \"\"}, \"colorscale\": [[0.0, \"#0d0887\"], [0.1111111111111111, \"#46039f\"], [0.2222222222222222, \"#7201a8\"], [0.3333333333333333, \"#9c179e\"], [0.4444444444444444, \"#bd3786\"], [0.5555555555555556, \"#d8576b\"], [0.6666666666666666, \"#ed7953\"], [0.7777777777777778, \"#fb9f3a\"], [0.8888888888888888, \"#fdca26\"], [1.0, \"#f0f921\"]], \"type\": \"histogram2d\"}], \"histogram2dcontour\": [{\"colorbar\": {\"outlinewidth\": 0, \"ticks\": \"\"}, \"colorscale\": [[0.0, \"#0d0887\"], [0.1111111111111111, \"#46039f\"], [0.2222222222222222, \"#7201a8\"], [0.3333333333333333, \"#9c179e\"], [0.4444444444444444, \"#bd3786\"], [0.5555555555555556, \"#d8576b\"], [0.6666666666666666, \"#ed7953\"], [0.7777777777777778, \"#fb9f3a\"], [0.8888888888888888, \"#fdca26\"], [1.0, \"#f0f921\"]], \"type\": \"histogram2dcontour\"}], \"mesh3d\": [{\"colorbar\": {\"outlinewidth\": 0, \"ticks\": \"\"}, \"type\": \"mesh3d\"}], \"parcoords\": [{\"line\": {\"colorbar\": {\"outlinewidth\": 0, \"ticks\": \"\"}}, \"type\": \"parcoords\"}], \"pie\": [{\"automargin\": true, \"type\": \"pie\"}], \"scatter\": [{\"marker\": {\"colorbar\": {\"outlinewidth\": 0, \"ticks\": \"\"}}, \"type\": \"scatter\"}], \"scatter3d\": [{\"line\": {\"colorbar\": {\"outlinewidth\": 0, \"ticks\": \"\"}}, \"marker\": {\"colorbar\": {\"outlinewidth\": 0, \"ticks\": \"\"}}, \"type\": \"scatter3d\"}], \"scattercarpet\": [{\"marker\": {\"colorbar\": {\"outlinewidth\": 0, \"ticks\": \"\"}}, \"type\": \"scattercarpet\"}], \"scattergeo\": [{\"marker\": {\"colorbar\": {\"outlinewidth\": 0, \"ticks\": \"\"}}, \"type\": \"scattergeo\"}], \"scattergl\": [{\"marker\": {\"colorbar\": {\"outlinewidth\": 0, \"ticks\": \"\"}}, \"type\": \"scattergl\"}], \"scattermapbox\": [{\"marker\": {\"colorbar\": {\"outlinewidth\": 0, \"ticks\": \"\"}}, \"type\": \"scattermapbox\"}], \"scatterpolar\": [{\"marker\": {\"colorbar\": {\"outlinewidth\": 0, \"ticks\": \"\"}}, \"type\": \"scatterpolar\"}], \"scatterpolargl\": [{\"marker\": {\"colorbar\": {\"outlinewidth\": 0, \"ticks\": \"\"}}, \"type\": \"scatterpolargl\"}], \"scatterternary\": [{\"marker\": {\"colorbar\": {\"outlinewidth\": 0, \"ticks\": \"\"}}, \"type\": \"scatterternary\"}], \"surface\": [{\"colorbar\": {\"outlinewidth\": 0, \"ticks\": \"\"}, \"colorscale\": [[0.0, \"#0d0887\"], [0.1111111111111111, \"#46039f\"], [0.2222222222222222, \"#7201a8\"], [0.3333333333333333, \"#9c179e\"], [0.4444444444444444, \"#bd3786\"], [0.5555555555555556, \"#d8576b\"], [0.6666666666666666, \"#ed7953\"], [0.7777777777777778, \"#fb9f3a\"], [0.8888888888888888, \"#fdca26\"], [1.0, \"#f0f921\"]], \"type\": \"surface\"}], \"table\": [{\"cells\": {\"fill\": {\"color\": \"#EBF0F8\"}, \"line\": {\"color\": \"white\"}}, \"header\": {\"fill\": {\"color\": \"#C8D4E3\"}, \"line\": {\"color\": \"white\"}}, \"type\": \"table\"}]}, \"layout\": {\"annotationdefaults\": {\"arrowcolor\": \"#2a3f5f\", \"arrowhead\": 0, \"arrowwidth\": 1}, \"coloraxis\": {\"colorbar\": {\"outlinewidth\": 0, \"ticks\": \"\"}}, \"colorscale\": {\"diverging\": [[0, \"#8e0152\"], [0.1, \"#c51b7d\"], [0.2, \"#de77ae\"], [0.3, \"#f1b6da\"], [0.4, \"#fde0ef\"], [0.5, \"#f7f7f7\"], [0.6, \"#e6f5d0\"], [0.7, \"#b8e186\"], [0.8, \"#7fbc41\"], [0.9, \"#4d9221\"], [1, \"#276419\"]], \"sequential\": [[0.0, \"#0d0887\"], [0.1111111111111111, \"#46039f\"], [0.2222222222222222, \"#7201a8\"], [0.3333333333333333, \"#9c179e\"], [0.4444444444444444, \"#bd3786\"], [0.5555555555555556, \"#d8576b\"], [0.6666666666666666, \"#ed7953\"], [0.7777777777777778, \"#fb9f3a\"], [0.8888888888888888, \"#fdca26\"], [1.0, \"#f0f921\"]], \"sequentialminus\": [[0.0, \"#0d0887\"], [0.1111111111111111, \"#46039f\"], [0.2222222222222222, \"#7201a8\"], [0.3333333333333333, \"#9c179e\"], [0.4444444444444444, \"#bd3786\"], [0.5555555555555556, \"#d8576b\"], [0.6666666666666666, \"#ed7953\"], [0.7777777777777778, \"#fb9f3a\"], [0.8888888888888888, \"#fdca26\"], [1.0, \"#f0f921\"]]}, \"colorway\": [\"#636efa\", \"#EF553B\", \"#00cc96\", \"#ab63fa\", \"#FFA15A\", \"#19d3f3\", \"#FF6692\", \"#B6E880\", \"#FF97FF\", \"#FECB52\"], \"font\": {\"color\": \"#2a3f5f\"}, \"geo\": {\"bgcolor\": \"white\", \"lakecolor\": \"white\", \"landcolor\": \"#E5ECF6\", \"showlakes\": true, \"showland\": true, \"subunitcolor\": \"white\"}, \"hoverlabel\": {\"align\": \"left\"}, \"hovermode\": \"closest\", \"mapbox\": {\"style\": \"light\"}, \"paper_bgcolor\": \"white\", \"plot_bgcolor\": \"#E5ECF6\", \"polar\": {\"angularaxis\": {\"gridcolor\": \"white\", \"linecolor\": \"white\", \"ticks\": \"\"}, \"bgcolor\": \"#E5ECF6\", \"radialaxis\": {\"gridcolor\": \"white\", \"linecolor\": \"white\", \"ticks\": \"\"}}, \"scene\": {\"xaxis\": {\"backgroundcolor\": \"#E5ECF6\", \"gridcolor\": \"white\", \"gridwidth\": 2, \"linecolor\": \"white\", \"showbackground\": true, \"ticks\": \"\", \"zerolinecolor\": \"white\"}, \"yaxis\": {\"backgroundcolor\": \"#E5ECF6\", \"gridcolor\": \"white\", \"gridwidth\": 2, \"linecolor\": \"white\", \"showbackground\": true, \"ticks\": \"\", \"zerolinecolor\": \"white\"}, \"zaxis\": {\"backgroundcolor\": \"#E5ECF6\", \"gridcolor\": \"white\", \"gridwidth\": 2, \"linecolor\": \"white\", \"showbackground\": true, \"ticks\": \"\", \"zerolinecolor\": \"white\"}}, \"shapedefaults\": {\"line\": {\"color\": \"#2a3f5f\"}}, \"ternary\": {\"aaxis\": {\"gridcolor\": \"white\", \"linecolor\": \"white\", \"ticks\": \"\"}, \"baxis\": {\"gridcolor\": \"white\", \"linecolor\": \"white\", \"ticks\": \"\"}, \"bgcolor\": \"#E5ECF6\", \"caxis\": {\"gridcolor\": \"white\", \"linecolor\": \"white\", \"ticks\": \"\"}}, \"title\": {\"x\": 0.05}, \"xaxis\": {\"automargin\": true, \"gridcolor\": \"white\", \"linecolor\": \"white\", \"ticks\": \"\", \"title\": {\"standoff\": 15}, \"zerolinecolor\": \"white\", \"zerolinewidth\": 2}, \"yaxis\": {\"automargin\": true, \"gridcolor\": \"white\", \"linecolor\": \"white\", \"ticks\": \"\", \"title\": {\"standoff\": 15}, \"zerolinecolor\": \"white\", \"zerolinewidth\": 2}}}, \"title\": {\"text\": \"Plate 8 (16S) SQ standard deviation\"}, \"xaxis\": {\"anchor\": \"y\", \"domain\": [0.0, 1.0], \"title\": {\"text\": \"Dilution\"}}, \"yaxis\": {\"anchor\": \"x\", \"domain\": [0.0, 1.0], \"title\": {\"text\": \"SQ_SD\"}}},\n",
              "                        {\"responsive\": true}\n",
              "                    ).then(function(){\n",
              "                            \n",
              "var gd = document.getElementById('3683b096-462c-4244-8796-f8e8f3b57a3c');\n",
              "var x = new MutationObserver(function (mutations, observer) {{\n",
              "        var display = window.getComputedStyle(gd).display;\n",
              "        if (!display || display === 'none') {{\n",
              "            console.log([gd, 'removed!']);\n",
              "            Plotly.purge(gd);\n",
              "            observer.disconnect();\n",
              "        }}\n",
              "}});\n",
              "\n",
              "// Listen for the removal of the full notebook cells\n",
              "var notebookContainer = gd.closest('#notebook-container');\n",
              "if (notebookContainer) {{\n",
              "    x.observe(notebookContainer, {childList: true});\n",
              "}}\n",
              "\n",
              "// Listen for the clearing of the current output cell\n",
              "var outputEl = gd.closest('.output');\n",
              "if (outputEl) {{\n",
              "    x.observe(outputEl, {childList: true});\n",
              "}}\n",
              "\n",
              "                        })\n",
              "                };\n",
              "                \n",
              "            </script>\n",
              "        </div>\n",
              "</body>\n",
              "</html>"
            ]
          },
          "metadata": {
            "tags": []
          }
        }
      ]
    },
    {
      "cell_type": "markdown",
      "metadata": {
        "id": "wQlj8Tz5F81w"
      },
      "source": [
        "### Efficiency"
      ]
    },
    {
      "cell_type": "code",
      "metadata": {
        "id": "n2ZphxPuEzrY"
      },
      "source": [
        "def view_efficiency(plate):\n",
        "    '''Generates boxplots of efficiencies.'''\n",
        "    df = calculate_efficiency(plate)\n",
        "    fig = px.box(df, y=\"Efficiency\", points='all', hover_data=['ID'],\n",
        "                 title=f\"{plate['name']} Efficiency\")\n",
        "    return fig\n",
        "    \n",
        "\n",
        "#view_efficiency(plate_1).show()\n",
        "#view_efficiency(plate_2).show()\n",
        "#view_efficiency(plate_3).show()\n",
        "#view_efficiency(plate_4).show()\n",
        "#view_efficiency(plate_5).show()\n",
        "#view_efficiency(plate_6).show()\n",
        "#view_efficiency(plate_7).show()\n",
        "#view_efficiency(plate_8).show()"
      ],
      "execution_count": null,
      "outputs": []
    },
    {
      "cell_type": "markdown",
      "metadata": {
        "id": "4HG40B4qLGnR"
      },
      "source": [
        "### Starting Quantity (SQ)"
      ]
    },
    {
      "cell_type": "code",
      "metadata": {
        "id": "qwtW5M1NJ-u_"
      },
      "source": [
        "def view_quantity(plate):\n",
        "    return px.scatter(\n",
        "        plate['data'], \n",
        "        x='ID', y='quantity', \n",
        "        color='Dilution',\n",
        "        title=f\"{plate['name']} Starting Quantity\"\n",
        "    )\n",
        "\n",
        "view_quantity(plate_7).show()\n",
        "view_quantity(plate_8).show()"
      ],
      "execution_count": null,
      "outputs": []
    },
    {
      "cell_type": "markdown",
      "metadata": {
        "id": "3suiRbRwvvkL"
      },
      "source": [
        "## Repeats"
      ]
    },
    {
      "cell_type": "code",
      "metadata": {
        "id": "tY8IJAijGbqM"
      },
      "source": [
        "def repeats(plate, sd_limit, efficiency_range):\n",
        "    data = plate['tidy_data']\n",
        "    return data[\n",
        "        (data.Cq_SD > sd_limit) | \n",
        "        ~(data.Efficiency.between(efficiency_range[0], efficiency_range[1]))\n",
        "    ]\n",
        "\n",
        "for plate in plates: \n",
        "    reps = repeats(plate, 0.5, [0.5, 1.5])\n",
        "    number = len(reps.ID.drop_duplicates())\n",
        "    print(plate['name'])\n",
        "    print('Repeats: ', number)\n",
        "    if number > 0: display(reps)\n",
        "    print()\n"
      ],
      "execution_count": null,
      "outputs": []
    },
    {
      "cell_type": "code",
      "metadata": {
        "colab": {
          "base_uri": "https://localhost:8080/",
          "height": 791
        },
        "id": "Uq-OQY4icTie",
        "outputId": "78ca333d-cad4-43e1-b17a-dd99cb0e0de5"
      },
      "source": [
        "left = plate_1['data']\n",
        "right = plate_7['data']\n",
        "left = left[left.ID.isin(right.ID)]\n",
        "right = right[right.ID.isin(left.ID)]\n",
        "\n",
        "combined = pd.concat([left, right], keys=['old', 'new']).reset_index()\n",
        "\n",
        "\n",
        "print(combined)\n",
        "\n",
        "def view_repeats(df):\n",
        "    return px.scatter(\n",
        "        df, \n",
        "        x='ID', y='quantity', \n",
        "        color='level_0', \n",
        "        symbol='Dilution'\n",
        "        #title=f\"{plate['name']} Cq values\"\n",
        "    )\n",
        "\n",
        "view_repeats(combined).show()"
      ],
      "execution_count": null,
      "outputs": [
        {
          "output_type": "stream",
          "text": [
            "    level_0  level_1 Well   Content  ... Dilution         Cq          ID  quantity\n",
            "0       old        4  A05  Unkn-009  ...      5.0  17.750000    WP1-t3-6  1.929513\n",
            "1       old       21  A22  Unkn-026  ...      5.0  17.270000   WP1-t3-27  2.539666\n",
            "2       old       28  B05  Unkn-009  ...      5.0  17.950000    WP1-t3-6  1.720788\n",
            "3       old       45  B22  Unkn-026  ...      5.0  17.670000   WP1-t3-27  2.019928\n",
            "4       old       52  C05  Unkn-033  ...     10.0  19.700000    WP1-t3-6  1.263876\n",
            "..      ...      ...  ...       ...  ...      ...        ...         ...       ...\n",
            "99      new      312  P01  Unkn-150  ...     51.0  21.943260  WP1-t3-140  1.927908\n",
            "100     new      313  P02  Unkn-152  ...     51.0  21.095338  WP1-t3-142  3.063505\n",
            "101     new      314  P03  Unkn-154  ...     51.0  24.690554  WP1-t3-150  0.429944\n",
            "102     new      315  P04  Unkn-156  ...     51.0  23.931214  WP1-t3-151  0.650927\n",
            "103     new      316  P05  Unkn-158  ...     51.0  20.803504  WP1-t3-152  3.592885\n",
            "\n",
            "[104 rows x 9 columns]\n"
          ],
          "name": "stdout"
        },
        {
          "output_type": "display_data",
          "data": {
            "text/html": [
              "<html>\n",
              "<head><meta charset=\"utf-8\" /></head>\n",
              "<body>\n",
              "    <div>\n",
              "            <script src=\"https://cdnjs.cloudflare.com/ajax/libs/mathjax/2.7.5/MathJax.js?config=TeX-AMS-MML_SVG\"></script><script type=\"text/javascript\">if (window.MathJax) {MathJax.Hub.Config({SVG: {font: \"STIX-Web\"}});}</script>\n",
              "                <script type=\"text/javascript\">window.PlotlyConfig = {MathJaxConfig: 'local'};</script>\n",
              "        <script src=\"https://cdn.plot.ly/plotly-latest.min.js\"></script>    \n",
              "            <div id=\"da50f3e8-c97c-4cd0-befc-8a0cf537b927\" class=\"plotly-graph-div\" style=\"height:525px; width:100%;\"></div>\n",
              "            <script type=\"text/javascript\">\n",
              "                \n",
              "                    window.PLOTLYENV=window.PLOTLYENV || {};\n",
              "                    \n",
              "                if (document.getElementById(\"da50f3e8-c97c-4cd0-befc-8a0cf537b927\")) {\n",
              "                    Plotly.newPlot(\n",
              "                        'da50f3e8-c97c-4cd0-befc-8a0cf537b927',\n",
              "                        [{\"hoverlabel\": {\"namelength\": 0}, \"hovertemplate\": \"level_0=old<br>Dilution=5.0<br>ID=%{x}<br>quantity=%{y}\", \"legendgroup\": \"level_0=old, Dilution=5.0\", \"marker\": {\"color\": \"#636efa\", \"symbol\": \"circle\"}, \"mode\": \"markers\", \"name\": \"level_0=old, Dilution=5.0\", \"showlegend\": true, \"type\": \"scatter\", \"x\": [\"WP1-t3-6\", \"WP1-t3-27\", \"WP1-t3-6\", \"WP1-t3-27\", \"WP1-t3-56\", \"WP1-t3-56\", \"WP1-t3-102\", \"WP1-t3-109\", \"WP1-t3-117\", \"WP1-t3-119\", \"WP1-t3-102\", \"WP1-t3-109\", \"WP1-t3-117\", \"WP1-t3-119\", \"WP1-t3-138\", \"WP1-t3-140\", \"WP1-t3-142\", \"WP1-t3-150\", \"WP1-t3-151\", \"WP1-t3-152\", \"WP1-t3-138\", \"WP1-t3-140\", \"WP1-t3-142\", \"WP1-t3-150\", \"WP1-t3-151\", \"WP1-t3-152\"], \"xaxis\": \"x\", \"y\": [1.9295133044133896, 2.5396656974306566, 1.7207883386721408, 2.0199280808258284, 2.0083985103710997, 1.8117638907249476, 1.4492622151333026, 1.0398196788047893, 0.35044104124606096, 0.34447436923948194, 1.2066864955694823, 0.7900039388941976, 0.35245281065059497, 0.3161306987029924, 0.23744654966928364, 1.3148756863427122, 2.213666359674545, 0.463905748213781, 0.6807581298138268, 3.7482249906941245, 0.21297643651359752, 1.1201501525425668, 2.1145795897733692, 0.2755511852159167, 0.3907052698812325, 2.482175521842726], \"yaxis\": \"y\"}, {\"hoverlabel\": {\"namelength\": 0}, \"hovertemplate\": \"level_0=old<br>Dilution=10.0<br>ID=%{x}<br>quantity=%{y}\", \"legendgroup\": \"level_0=old, Dilution=10.0\", \"marker\": {\"color\": \"#636efa\", \"symbol\": \"diamond\"}, \"mode\": \"markers\", \"name\": \"level_0=old, Dilution=10.0\", \"showlegend\": true, \"type\": \"scatter\", \"x\": [\"WP1-t3-6\", \"WP1-t3-27\", \"WP1-t3-6\", \"WP1-t3-27\", \"WP1-t3-56\", \"WP1-t3-56\", \"WP1-t3-102\", \"WP1-t3-109\", \"WP1-t3-117\", \"WP1-t3-119\", \"WP1-t3-102\", \"WP1-t3-109\", \"WP1-t3-117\", \"WP1-t3-119\", \"WP1-t3-138\", \"WP1-t3-140\", \"WP1-t3-142\", \"WP1-t3-150\", \"WP1-t3-151\", \"WP1-t3-152\", \"WP1-t3-138\", \"WP1-t3-140\", \"WP1-t3-142\", \"WP1-t3-150\", \"WP1-t3-151\", \"WP1-t3-152\"], \"xaxis\": \"x\", \"y\": [1.2638764513489862, 3.8811800405005235, 1.6730904255051173, 1.9979559774459077, 2.331891563134267, 2.35874169176751, 2.29218835924394, 1.3080390786793097, 0.39767597815518946, 0.45363622697559064, 1.1271567052837006, 0.8369730200189858, 0.2741184753680775, 0.35874104352784375, 0.28207746266877365, 1.9865518218098321, 2.9998052588516124, 0.41870052303252514, 0.5970854733816046, 3.176531919568512, 0.23621196231020591, 1.2352661979668134, 2.385900981177789, 0.23086485414438587, 0.4383203484502443, 2.331891563134267], \"yaxis\": \"y\"}, {\"hoverlabel\": {\"namelength\": 0}, \"hovertemplate\": \"level_0=new<br>Dilution=10.0<br>ID=%{x}<br>quantity=%{y}\", \"legendgroup\": \"level_0=new, Dilution=10.0\", \"marker\": {\"color\": \"#EF553B\", \"symbol\": \"diamond\"}, \"mode\": \"markers\", \"name\": \"level_0=new, Dilution=10.0\", \"showlegend\": true, \"type\": \"scatter\", \"x\": [\"WP1-t3-6\", \"WP1-t3-27\", \"WP1-t3-56\", \"WP1-t3-102\", \"WP1-t3-109\", \"WP1-t3-117\", \"WP1-t3-119\", \"WP1-t3-138\", \"WP1-t3-6\", \"WP1-t3-27\", \"WP1-t3-56\", \"WP1-t3-102\", \"WP1-t3-109\", \"WP1-t3-117\", \"WP1-t3-119\", \"WP1-t3-138\", \"WP1-t3-140\", \"WP1-t3-142\", \"WP1-t3-150\", \"WP1-t3-151\", \"WP1-t3-152\", \"WP1-t3-140\", \"WP1-t3-142\", \"WP1-t3-150\", \"WP1-t3-151\", \"WP1-t3-152\"], \"xaxis\": \"x\", \"y\": [1.378307788084871, 1.8547524556763264, 1.819294103940616, 1.187826793968227, 0.8451151614483349, 0.32722832944257185, 0.380811567877135, 0.2595468400278712, 1.373818384407791, 1.8621086438163714, 1.8430955549509387, 1.1730082689890418, 0.8451851187591614, 0.3062804090797292, 0.37845017273983045, 0.25315629603763207, 1.2185497004770436, 2.2874153953710676, 0.32319010067963927, 0.48113350999990356, 2.4168325285014713, 1.213536837706008, 2.285388359271495, 0.3268547829193535, 0.47216312210557543, 2.4245265683006374], \"yaxis\": \"y\"}, {\"hoverlabel\": {\"namelength\": 0}, \"hovertemplate\": \"level_0=new<br>Dilution=51.0<br>ID=%{x}<br>quantity=%{y}\", \"legendgroup\": \"level_0=new, Dilution=51.0\", \"marker\": {\"color\": \"#EF553B\", \"symbol\": \"square\"}, \"mode\": \"markers\", \"name\": \"level_0=new, Dilution=51.0\", \"showlegend\": true, \"type\": \"scatter\", \"x\": [\"WP1-t3-6\", \"WP1-t3-27\", \"WP1-t3-56\", \"WP1-t3-102\", \"WP1-t3-109\", \"WP1-t3-117\", \"WP1-t3-119\", \"WP1-t3-138\", \"WP1-t3-6\", \"WP1-t3-27\", \"WP1-t3-56\", \"WP1-t3-102\", \"WP1-t3-109\", \"WP1-t3-117\", \"WP1-t3-119\", \"WP1-t3-138\", \"WP1-t3-140\", \"WP1-t3-142\", \"WP1-t3-150\", \"WP1-t3-151\", \"WP1-t3-152\", \"WP1-t3-140\", \"WP1-t3-142\", \"WP1-t3-150\", \"WP1-t3-151\", \"WP1-t3-152\"], \"xaxis\": \"x\", \"y\": [1.9316750999309829, 3.472481755763481, 2.4667731924045553, 1.6342254310366915, 1.1407594952622433, 0.43939445947317635, 0.4830559869634277, 0.3119727831586227, 1.8741473643806221, 3.3661259974591715, 2.369494312007165, 1.4639163122295595, 1.1781009637832411, 0.4459242160384118, 0.47582289294177615, 0.3308539001302195, 1.758408195980907, 3.0122651127469124, 0.4164703646657402, 0.6866760093665666, 3.607383643379163, 1.927908447903102, 3.0635050319141595, 0.4299442627532989, 0.6509265300083606, 3.592884503297405], \"yaxis\": \"y\"}],\n",
              "                        {\"legend\": {\"tracegroupgap\": 0}, \"margin\": {\"t\": 60}, \"template\": {\"data\": {\"bar\": [{\"error_x\": {\"color\": \"#2a3f5f\"}, \"error_y\": {\"color\": \"#2a3f5f\"}, \"marker\": {\"line\": {\"color\": \"#E5ECF6\", \"width\": 0.5}}, \"type\": \"bar\"}], \"barpolar\": [{\"marker\": {\"line\": {\"color\": \"#E5ECF6\", \"width\": 0.5}}, \"type\": \"barpolar\"}], \"carpet\": [{\"aaxis\": {\"endlinecolor\": \"#2a3f5f\", \"gridcolor\": \"white\", \"linecolor\": \"white\", \"minorgridcolor\": \"white\", \"startlinecolor\": \"#2a3f5f\"}, \"baxis\": {\"endlinecolor\": \"#2a3f5f\", \"gridcolor\": \"white\", \"linecolor\": \"white\", \"minorgridcolor\": \"white\", \"startlinecolor\": \"#2a3f5f\"}, \"type\": \"carpet\"}], \"choropleth\": [{\"colorbar\": {\"outlinewidth\": 0, \"ticks\": \"\"}, \"type\": \"choropleth\"}], \"contour\": [{\"colorbar\": {\"outlinewidth\": 0, \"ticks\": \"\"}, \"colorscale\": [[0.0, \"#0d0887\"], [0.1111111111111111, \"#46039f\"], [0.2222222222222222, \"#7201a8\"], [0.3333333333333333, \"#9c179e\"], [0.4444444444444444, \"#bd3786\"], [0.5555555555555556, \"#d8576b\"], [0.6666666666666666, \"#ed7953\"], [0.7777777777777778, \"#fb9f3a\"], [0.8888888888888888, \"#fdca26\"], [1.0, \"#f0f921\"]], \"type\": \"contour\"}], \"contourcarpet\": [{\"colorbar\": {\"outlinewidth\": 0, \"ticks\": \"\"}, \"type\": \"contourcarpet\"}], \"heatmap\": [{\"colorbar\": {\"outlinewidth\": 0, \"ticks\": \"\"}, \"colorscale\": [[0.0, \"#0d0887\"], [0.1111111111111111, \"#46039f\"], [0.2222222222222222, \"#7201a8\"], [0.3333333333333333, \"#9c179e\"], [0.4444444444444444, \"#bd3786\"], [0.5555555555555556, \"#d8576b\"], [0.6666666666666666, \"#ed7953\"], [0.7777777777777778, \"#fb9f3a\"], [0.8888888888888888, \"#fdca26\"], [1.0, \"#f0f921\"]], \"type\": \"heatmap\"}], \"heatmapgl\": [{\"colorbar\": {\"outlinewidth\": 0, \"ticks\": \"\"}, \"colorscale\": [[0.0, \"#0d0887\"], [0.1111111111111111, \"#46039f\"], [0.2222222222222222, \"#7201a8\"], [0.3333333333333333, \"#9c179e\"], [0.4444444444444444, \"#bd3786\"], [0.5555555555555556, \"#d8576b\"], [0.6666666666666666, \"#ed7953\"], [0.7777777777777778, \"#fb9f3a\"], [0.8888888888888888, \"#fdca26\"], [1.0, \"#f0f921\"]], \"type\": \"heatmapgl\"}], \"histogram\": [{\"marker\": {\"colorbar\": {\"outlinewidth\": 0, \"ticks\": \"\"}}, \"type\": \"histogram\"}], \"histogram2d\": [{\"colorbar\": {\"outlinewidth\": 0, \"ticks\": \"\"}, \"colorscale\": [[0.0, \"#0d0887\"], [0.1111111111111111, \"#46039f\"], [0.2222222222222222, \"#7201a8\"], [0.3333333333333333, \"#9c179e\"], [0.4444444444444444, \"#bd3786\"], [0.5555555555555556, \"#d8576b\"], [0.6666666666666666, \"#ed7953\"], [0.7777777777777778, \"#fb9f3a\"], [0.8888888888888888, \"#fdca26\"], [1.0, \"#f0f921\"]], \"type\": \"histogram2d\"}], \"histogram2dcontour\": [{\"colorbar\": {\"outlinewidth\": 0, \"ticks\": \"\"}, \"colorscale\": [[0.0, \"#0d0887\"], [0.1111111111111111, \"#46039f\"], [0.2222222222222222, \"#7201a8\"], [0.3333333333333333, \"#9c179e\"], [0.4444444444444444, \"#bd3786\"], [0.5555555555555556, \"#d8576b\"], [0.6666666666666666, \"#ed7953\"], [0.7777777777777778, \"#fb9f3a\"], [0.8888888888888888, \"#fdca26\"], [1.0, \"#f0f921\"]], \"type\": \"histogram2dcontour\"}], \"mesh3d\": [{\"colorbar\": {\"outlinewidth\": 0, \"ticks\": \"\"}, \"type\": \"mesh3d\"}], \"parcoords\": [{\"line\": {\"colorbar\": {\"outlinewidth\": 0, \"ticks\": \"\"}}, \"type\": \"parcoords\"}], \"pie\": [{\"automargin\": true, \"type\": \"pie\"}], \"scatter\": [{\"marker\": {\"colorbar\": {\"outlinewidth\": 0, \"ticks\": \"\"}}, \"type\": \"scatter\"}], \"scatter3d\": [{\"line\": {\"colorbar\": {\"outlinewidth\": 0, \"ticks\": \"\"}}, \"marker\": {\"colorbar\": {\"outlinewidth\": 0, \"ticks\": \"\"}}, \"type\": \"scatter3d\"}], \"scattercarpet\": [{\"marker\": {\"colorbar\": {\"outlinewidth\": 0, \"ticks\": \"\"}}, \"type\": \"scattercarpet\"}], \"scattergeo\": [{\"marker\": {\"colorbar\": {\"outlinewidth\": 0, \"ticks\": \"\"}}, \"type\": \"scattergeo\"}], \"scattergl\": [{\"marker\": {\"colorbar\": {\"outlinewidth\": 0, \"ticks\": \"\"}}, \"type\": \"scattergl\"}], \"scattermapbox\": [{\"marker\": {\"colorbar\": {\"outlinewidth\": 0, \"ticks\": \"\"}}, \"type\": \"scattermapbox\"}], \"scatterpolar\": [{\"marker\": {\"colorbar\": {\"outlinewidth\": 0, \"ticks\": \"\"}}, \"type\": \"scatterpolar\"}], \"scatterpolargl\": [{\"marker\": {\"colorbar\": {\"outlinewidth\": 0, \"ticks\": \"\"}}, \"type\": \"scatterpolargl\"}], \"scatterternary\": [{\"marker\": {\"colorbar\": {\"outlinewidth\": 0, \"ticks\": \"\"}}, \"type\": \"scatterternary\"}], \"surface\": [{\"colorbar\": {\"outlinewidth\": 0, \"ticks\": \"\"}, \"colorscale\": [[0.0, \"#0d0887\"], [0.1111111111111111, \"#46039f\"], [0.2222222222222222, \"#7201a8\"], [0.3333333333333333, \"#9c179e\"], [0.4444444444444444, \"#bd3786\"], [0.5555555555555556, \"#d8576b\"], [0.6666666666666666, \"#ed7953\"], [0.7777777777777778, \"#fb9f3a\"], [0.8888888888888888, \"#fdca26\"], [1.0, \"#f0f921\"]], \"type\": \"surface\"}], \"table\": [{\"cells\": {\"fill\": {\"color\": \"#EBF0F8\"}, \"line\": {\"color\": \"white\"}}, \"header\": {\"fill\": {\"color\": \"#C8D4E3\"}, \"line\": {\"color\": \"white\"}}, \"type\": \"table\"}]}, \"layout\": {\"annotationdefaults\": {\"arrowcolor\": \"#2a3f5f\", \"arrowhead\": 0, \"arrowwidth\": 1}, \"coloraxis\": {\"colorbar\": {\"outlinewidth\": 0, \"ticks\": \"\"}}, \"colorscale\": {\"diverging\": [[0, \"#8e0152\"], [0.1, \"#c51b7d\"], [0.2, \"#de77ae\"], [0.3, \"#f1b6da\"], [0.4, \"#fde0ef\"], [0.5, \"#f7f7f7\"], [0.6, \"#e6f5d0\"], [0.7, \"#b8e186\"], [0.8, \"#7fbc41\"], [0.9, \"#4d9221\"], [1, \"#276419\"]], \"sequential\": [[0.0, \"#0d0887\"], [0.1111111111111111, \"#46039f\"], [0.2222222222222222, \"#7201a8\"], [0.3333333333333333, \"#9c179e\"], [0.4444444444444444, \"#bd3786\"], [0.5555555555555556, \"#d8576b\"], [0.6666666666666666, \"#ed7953\"], [0.7777777777777778, \"#fb9f3a\"], [0.8888888888888888, \"#fdca26\"], [1.0, \"#f0f921\"]], \"sequentialminus\": [[0.0, \"#0d0887\"], [0.1111111111111111, \"#46039f\"], [0.2222222222222222, \"#7201a8\"], [0.3333333333333333, \"#9c179e\"], [0.4444444444444444, \"#bd3786\"], [0.5555555555555556, \"#d8576b\"], [0.6666666666666666, \"#ed7953\"], [0.7777777777777778, \"#fb9f3a\"], [0.8888888888888888, \"#fdca26\"], [1.0, \"#f0f921\"]]}, \"colorway\": [\"#636efa\", \"#EF553B\", \"#00cc96\", \"#ab63fa\", \"#FFA15A\", \"#19d3f3\", \"#FF6692\", \"#B6E880\", \"#FF97FF\", \"#FECB52\"], \"font\": {\"color\": \"#2a3f5f\"}, \"geo\": {\"bgcolor\": \"white\", \"lakecolor\": \"white\", \"landcolor\": \"#E5ECF6\", \"showlakes\": true, \"showland\": true, \"subunitcolor\": \"white\"}, \"hoverlabel\": {\"align\": \"left\"}, \"hovermode\": \"closest\", \"mapbox\": {\"style\": \"light\"}, \"paper_bgcolor\": \"white\", \"plot_bgcolor\": \"#E5ECF6\", \"polar\": {\"angularaxis\": {\"gridcolor\": \"white\", \"linecolor\": \"white\", \"ticks\": \"\"}, \"bgcolor\": \"#E5ECF6\", \"radialaxis\": {\"gridcolor\": \"white\", \"linecolor\": \"white\", \"ticks\": \"\"}}, \"scene\": {\"xaxis\": {\"backgroundcolor\": \"#E5ECF6\", \"gridcolor\": \"white\", \"gridwidth\": 2, \"linecolor\": \"white\", \"showbackground\": true, \"ticks\": \"\", \"zerolinecolor\": \"white\"}, \"yaxis\": {\"backgroundcolor\": \"#E5ECF6\", \"gridcolor\": \"white\", \"gridwidth\": 2, \"linecolor\": \"white\", \"showbackground\": true, \"ticks\": \"\", \"zerolinecolor\": \"white\"}, \"zaxis\": {\"backgroundcolor\": \"#E5ECF6\", \"gridcolor\": \"white\", \"gridwidth\": 2, \"linecolor\": \"white\", \"showbackground\": true, \"ticks\": \"\", \"zerolinecolor\": \"white\"}}, \"shapedefaults\": {\"line\": {\"color\": \"#2a3f5f\"}}, \"ternary\": {\"aaxis\": {\"gridcolor\": \"white\", \"linecolor\": \"white\", \"ticks\": \"\"}, \"baxis\": {\"gridcolor\": \"white\", \"linecolor\": \"white\", \"ticks\": \"\"}, \"bgcolor\": \"#E5ECF6\", \"caxis\": {\"gridcolor\": \"white\", \"linecolor\": \"white\", \"ticks\": \"\"}}, \"title\": {\"x\": 0.05}, \"xaxis\": {\"automargin\": true, \"gridcolor\": \"white\", \"linecolor\": \"white\", \"ticks\": \"\", \"title\": {\"standoff\": 15}, \"zerolinecolor\": \"white\", \"zerolinewidth\": 2}, \"yaxis\": {\"automargin\": true, \"gridcolor\": \"white\", \"linecolor\": \"white\", \"ticks\": \"\", \"title\": {\"standoff\": 15}, \"zerolinecolor\": \"white\", \"zerolinewidth\": 2}}}, \"xaxis\": {\"anchor\": \"y\", \"domain\": [0.0, 1.0], \"title\": {\"text\": \"ID\"}}, \"yaxis\": {\"anchor\": \"x\", \"domain\": [0.0, 1.0], \"title\": {\"text\": \"quantity\"}}},\n",
              "                        {\"responsive\": true}\n",
              "                    ).then(function(){\n",
              "                            \n",
              "var gd = document.getElementById('da50f3e8-c97c-4cd0-befc-8a0cf537b927');\n",
              "var x = new MutationObserver(function (mutations, observer) {{\n",
              "        var display = window.getComputedStyle(gd).display;\n",
              "        if (!display || display === 'none') {{\n",
              "            console.log([gd, 'removed!']);\n",
              "            Plotly.purge(gd);\n",
              "            observer.disconnect();\n",
              "        }}\n",
              "}});\n",
              "\n",
              "// Listen for the removal of the full notebook cells\n",
              "var notebookContainer = gd.closest('#notebook-container');\n",
              "if (notebookContainer) {{\n",
              "    x.observe(notebookContainer, {childList: true});\n",
              "}}\n",
              "\n",
              "// Listen for the clearing of the current output cell\n",
              "var outputEl = gd.closest('.output');\n",
              "if (outputEl) {{\n",
              "    x.observe(outputEl, {childList: true});\n",
              "}}\n",
              "\n",
              "                        })\n",
              "                };\n",
              "                \n",
              "            </script>\n",
              "        </div>\n",
              "</body>\n",
              "</html>"
            ]
          },
          "metadata": {
            "tags": []
          }
        }
      ]
    },
    {
      "cell_type": "code",
      "metadata": {
        "id": "lXRFFPqCf1Ol"
      },
      "source": [
        "def remove_repeats(plate_a, plate_b):\n",
        "    plate_a['data'] = plate_a['data'][~plate_a['data'].ID.isin(plate_b['data'].ID)]\n",
        "\n",
        "remove_repeats(plate_1, plate_7)\n",
        "remove_repeats(plate_2, plate_8)\n",
        "\n",
        "\n",
        "its_combined = concat([plate_1['data'], plate_3['data'], plate_5['data'], plate_7['data'], ])\n"
      ],
      "execution_count": null,
      "outputs": []
    },
    {
      "cell_type": "markdown",
      "metadata": {
        "id": "LpHNDb13LcsN"
      },
      "source": [
        "## Outliers"
      ]
    },
    {
      "cell_type": "code",
      "metadata": {
        "id": "AM11PUynj2VC"
      },
      "source": [
        "def efficiency_outliers(plate, upper, lower):\n",
        "    '''Returns a list of sample IDs with efficiency out of bounds.'''\n",
        "    df = calculate_efficiency(plate)\n",
        "    return df[~df.Efficiency.between(lower, upper)]#.dropna()#['ID', 'Efficie']\n",
        "\n",
        "print(efficiency_outliers(plate_1, 1.5, 0.5))"
      ],
      "execution_count": null,
      "outputs": []
    },
    {
      "cell_type": "code",
      "metadata": {
        "id": "ZVD7l2TVRLTc"
      },
      "source": [
        "def quantity_outliers(plate):\n",
        "    df = plate['data']\n",
        "    upper = 0.95\n",
        "    lower = 0.05\n",
        "\n",
        "    outliers = df[df.groupby('Sample').quantity.transform(\n",
        "        lambda x : (x<x.quantile(upper))&(x>(x.quantile(lower)))\n",
        "    ).eq(1)]\n",
        "\n",
        "    df.quantity = df.quantity.where(df.quantity.isin(outliers.quantity))\n",
        "\n",
        "\n",
        "\n",
        "#def remove_outliers(plate):\n",
        "\n",
        "#print(plate_1['data'])\n",
        "#quantity_outliers(plate_1)\n",
        "#print(plate_1['data'])"
      ],
      "execution_count": null,
      "outputs": []
    },
    {
      "cell_type": "markdown",
      "metadata": {
        "id": "5PIbd3mDPiee"
      },
      "source": [
        "## New Plots"
      ]
    },
    {
      "cell_type": "code",
      "metadata": {
        "id": "hg__vKvOQLn6"
      },
      "source": [
        "px.bar(\n",
        "        plate['ntcs'], \n",
        "        x = 'Well', \n",
        "        y = \"Cq\", \n",
        "        title = f\"{plate['name']} NTCs\"\n",
        "    )\n",
        "\n",
        "px.scatter(\n",
        "        plate['standards'], \n",
        "        x='Log(SQ)', y=\"Cq\", \n",
        "        trendline='ols', \n",
        "        title=f\"{plate['name']} standard curve\"\n",
        "    )"
      ],
      "execution_count": null,
      "outputs": []
    },
    {
      "cell_type": "code",
      "metadata": {
        "id": "LLtjyx6vSZ_s"
      },
      "source": [
        "print(plate_1['ntcs'].Cq)"
      ],
      "execution_count": null,
      "outputs": []
    },
    {
      "cell_type": "code",
      "metadata": {
        "id": "1GLlsIPSR1Se"
      },
      "source": [
        "fig = make_subplots(rows=1, cols=2, column_widths=[0.7, 0.3])\n",
        "\n",
        "fig.add_trace(go.Scatter(x=[1, 2, 3], y=[4, 5, 6]),\n",
        "              row=1, col=1)\n",
        "\n",
        "fig.add_trace(go.Scatter(x=[20, 30, 40], y=[50, 60, 70]),\n",
        "              row=1, col=2)\n",
        "\n",
        "fig.show()"
      ],
      "execution_count": null,
      "outputs": []
    },
    {
      "cell_type": "markdown",
      "metadata": {
        "id": "yyhIJPjGwAnu"
      },
      "source": [
        "## Plots"
      ]
    },
    {
      "cell_type": "code",
      "metadata": {
        "id": "9eax4bq0wCp-"
      },
      "source": [
        "def ntcs(plate):\n",
        "    ntcs = plate['ntcs']\n",
        "    return go.Bar(x=ntcs.Well, y=ntcs.Cq)\n",
        "\n",
        "def standards(plate):\n",
        "    standards = plate['standards']\n",
        "    return go.Scatter(\n",
        "        x=standards['Log(SQ)'], \n",
        "        y=standards[\"Cq\"],\n",
        "        mode='markers'\n",
        "    )"
      ],
      "execution_count": null,
      "outputs": []
    },
    {
      "cell_type": "markdown",
      "metadata": {
        "id": "cF-y9da8tjdA"
      },
      "source": [
        "## Interactive"
      ]
    },
    {
      "cell_type": "code",
      "metadata": {
        "colab": {
          "base_uri": "https://localhost:8080/",
          "height": 542
        },
        "id": "ZmTmGimikPgD",
        "outputId": "e4a16ba8-9ba2-4a46-dddf-f04e817f140d"
      },
      "source": [
        "plates = [plate_1, \n",
        "          plate_2, \n",
        "          plate_3, \n",
        "          plate_4, \n",
        "          plate_5, \n",
        "          plate_6, \n",
        "          plate_7, \n",
        "          plate_8]\n",
        "\n",
        "fig = make_subplots(\n",
        "    rows=1, cols=2, column_widths=[0.5, 0.5],\n",
        "    subplot_titles=('NTCs', 'Standards')\n",
        ")\n",
        "fig.update_xaxes(title_text='Well', row=1, col=1)\n",
        "fig.update_yaxes(title_text='Cq', row=1, col=1)\n",
        "fig.update_xaxes(title_text='Log(SQ)', row=1, col=2)\n",
        "fig.update_yaxes(title_text='Cq', row=1, col=2)\n",
        "\n",
        "for plate in plates:\n",
        "    trace = ntcs(plate)\n",
        "    fig.append_trace(trace, 1, 1)\n",
        "\n",
        "for plate in plates:\n",
        "    trace = standards(plate)\n",
        "    fig.append_trace(trace, 1, 2)\n",
        "\n",
        "\n",
        "labels = [plate['name'] for plate in plates]\n",
        "\n",
        "buttons = []\n",
        "for i, label in enumerate(labels):\n",
        "    visibility = [i==j for j in range(len(labels))]\n",
        "    button = dict(\n",
        "        label =  label,\n",
        "        method = 'update',\n",
        "        args = [\n",
        "            {'visible': visibility},\n",
        "            #{'title': label}\n",
        "        ])\n",
        "    buttons.append(button)\n",
        "\n",
        "updatemenus = list([dict(active=-1, x=0.13, y=1.1, buttons=buttons)])\n",
        "\n",
        "fig.layout.title = 'Multiplot'\n",
        "fig.layout.showlegend = False\n",
        "fig.layout.updatemenus = updatemenus\n",
        "\n",
        "fig.show()"
      ],
      "execution_count": null,
      "outputs": [
        {
          "output_type": "display_data",
          "data": {
            "text/html": [
              "<html>\n",
              "<head><meta charset=\"utf-8\" /></head>\n",
              "<body>\n",
              "    <div>\n",
              "            <script src=\"https://cdnjs.cloudflare.com/ajax/libs/mathjax/2.7.5/MathJax.js?config=TeX-AMS-MML_SVG\"></script><script type=\"text/javascript\">if (window.MathJax) {MathJax.Hub.Config({SVG: {font: \"STIX-Web\"}});}</script>\n",
              "                <script type=\"text/javascript\">window.PlotlyConfig = {MathJaxConfig: 'local'};</script>\n",
              "        <script src=\"https://cdn.plot.ly/plotly-latest.min.js\"></script>    \n",
              "            <div id=\"12ab29fb-a6de-4e89-b1a9-c0740e1ef5fb\" class=\"plotly-graph-div\" style=\"height:525px; width:100%;\"></div>\n",
              "            <script type=\"text/javascript\">\n",
              "                \n",
              "                    window.PLOTLYENV=window.PLOTLYENV || {};\n",
              "                    \n",
              "                if (document.getElementById(\"12ab29fb-a6de-4e89-b1a9-c0740e1ef5fb\")) {\n",
              "                    Plotly.newPlot(\n",
              "                        '12ab29fb-a6de-4e89-b1a9-c0740e1ef5fb',\n",
              "                        [{\"type\": \"bar\", \"x\": [\"P21\", \"P22\", \"P23\", \"P24\"], \"xaxis\": \"x\", \"y\": [null, null, null, 37.11], \"yaxis\": \"y\"}, {\"type\": \"bar\", \"x\": [\"P21\", \"P22\", \"P23\", \"P24\"], \"xaxis\": \"x\", \"y\": [30.82, 30.41, 30.91, 30.5], \"yaxis\": \"y\"}, {\"type\": \"bar\", \"x\": [\"P21\", \"P22\", \"P23\", \"P24\"], \"xaxis\": \"x\", \"y\": [39.1632081717024, null, 33.5967937902638, null], \"yaxis\": \"y\"}, {\"type\": \"bar\", \"x\": [\"P21\", \"P22\", \"P23\", \"P24\"], \"xaxis\": \"x\", \"y\": [29.6651625941199, 27.2535424261766, 30.080783080899803, 30.051463535196], \"yaxis\": \"y\"}, {\"type\": \"bar\", \"x\": [\"O21\", \"O22\", \"O23\", \"O24\", \"P21\", \"P22\", \"P23\", \"P24\"], \"xaxis\": \"x\", \"y\": [31.647901277775997, 30.816588545015303, 31.549455276652104, 31.9537846113775, 27.702220488529, 31.8875554120809, 33.5265976004211, 31.932778719237298], \"yaxis\": \"y\"}, {\"type\": \"bar\", \"x\": [\"O21\", \"O22\", \"O23\", \"O24\", \"P21\", \"P22\", \"P23\", \"P24\"], \"xaxis\": \"x\", \"y\": [27.5273678992625, 27.5485767941072, 26.933525725739496, 27.6905248063727, 27.2825539207561, 27.3524797640418, 27.6730347755827, 26.8711525908842], \"yaxis\": \"y\"}, {\"type\": \"bar\", \"x\": [\"O21\", \"O22\", \"O23\", \"O24\", \"P21\", \"P22\", \"P23\", \"P24\"], \"xaxis\": \"x\", \"y\": [36.1163297273326, 37.8512928561865, 34.6413114982638, 33.1372875220058, 33.10474065779, 36.1559550793174, 32.8997100541517, 39.0], \"yaxis\": \"y\"}, {\"type\": \"bar\", \"x\": [\"O21\", \"O22\", \"O23\", \"O24\", \"P21\", \"P22\", \"P23\", \"P24\"], \"xaxis\": \"x\", \"y\": [26.6344629112286, 27.5344853005735, 27.1578454888307, 27.0664423448747, 26.740918743383396, 27.5588866137552, 26.7725636516518, 27.695773458274804], \"yaxis\": \"y\"}, {\"mode\": \"markers\", \"type\": \"scatter\", \"x\": [0.0, -1.0, -2.0, -3.0, 0.0, -1.0, -2.0, -3.0], \"xaxis\": \"x2\", \"y\": [17.64, 21.09, 24.81, 29.34, 17.6, 21.16, 24.72, 30.29], \"yaxis\": \"y2\"}, {\"mode\": \"markers\", \"type\": \"scatter\", \"x\": [0.0, -1.0, -2.0, -3.0, 0.0, -1.0, -2.0, -3.0], \"xaxis\": \"x2\", \"y\": [14.15, 17.45, 20.66, 25.67, 14.14, 17.45, 20.73, 25.64], \"yaxis\": \"y2\"}, {\"mode\": \"markers\", \"type\": \"scatter\", \"x\": [-0.30102999566398103, -1.30102999566398, -2.30102999566398, -3.3010299956639804, -0.30102999566398103, -1.30102999566398, -2.30102999566398, -3.3010299956639804], \"xaxis\": \"x2\", \"y\": [17.9896053421912, 21.541803124539104, 25.3059354766505, 30.658086597539803, 17.8830892622333, 21.594798371222502, 25.362951564533702, 31.2338398051765], \"yaxis\": \"y2\"}, {\"mode\": \"markers\", \"type\": \"scatter\", \"x\": [-0.30102999566398103, -1.30102999566398, -2.30102999566398, -3.3010299956639804, -0.30102999566398103, -1.30102999566398, -2.30102999566398, -3.3010299956639804], \"xaxis\": \"x2\", \"y\": [14.209998374073802, 17.4797439152875, 20.6713751941784, 26.009248575103804, 14.1900211360059, 17.4251051761454, 20.736607741570698, 26.2478227772648], \"yaxis\": \"y2\"}, {\"mode\": \"markers\", \"type\": \"scatter\", \"x\": [-1.0, -2.0, -3.0, -4.0, -1.0, -2.0, -3.0, -4.0], \"xaxis\": \"x2\", \"y\": [17.5176413944875, 21.010321914315103, 24.685249554980803, 29.512263244619398, 17.284077428755698, 20.8661464751084, 24.8009391561027, 29.379700188748398], \"yaxis\": \"y2\"}, {\"mode\": \"markers\", \"type\": \"scatter\", \"x\": [-1.0, -2.0, -3.0, -4.0, -5.0, -1.0, -2.0, -3.0, -4.0, -5.0], \"xaxis\": \"x2\", \"y\": [14.190054505463, 17.5919444955545, 21.132343923418897, 25.9624861674829, 27.226234536923, 14.0382498016481, 17.4559035327193, 20.902489856190396, 25.9836032216204, 27.316254325311498], \"yaxis\": \"y2\"}, {\"mode\": \"markers\", \"type\": \"scatter\", \"x\": [-0.30102999566398103, -1.30102999566398, -2.30102999566398, -3.3010299956639804, -4.30102999566398, -0.30102999566398103, -1.30102999566398, -2.30102999566398, -3.3010299956639804, -4.30102999566398], \"xaxis\": \"x2\", \"y\": [17.5913130523974, 21.2113473726131, 24.7644177603452, 30.597316092388603, 32.901295189509604, 17.6411337385058, 21.1105948553239, 24.737667587221303, 31.127730667106103, 34.7870700417607], \"yaxis\": \"y2\"}, {\"mode\": \"markers\", \"type\": \"scatter\", \"x\": [-0.30102999566398103, -1.30102999566398, -2.30102999566398, -3.3010299956639804, -4.30102999566398, -0.30102999566398103, -1.30102999566398, -2.30102999566398, -3.3010299956639804, -4.30102999566398], \"xaxis\": \"x2\", \"y\": [13.751440739140401, 17.149843594910198, 20.6319764353028, 24.989107786455698, 27.1098699316615, 13.834497122427, 17.0399973873423, 20.6387792253713, 25.2010296997552, 26.6477670885972], \"yaxis\": \"y2\"}],\n",
              "                        {\"annotations\": [{\"font\": {\"size\": 16}, \"showarrow\": false, \"text\": \"NTCs\", \"x\": 0.225, \"xanchor\": \"center\", \"xref\": \"paper\", \"y\": 1.0, \"yanchor\": \"bottom\", \"yref\": \"paper\"}, {\"font\": {\"size\": 16}, \"showarrow\": false, \"text\": \"Standards\", \"x\": 0.775, \"xanchor\": \"center\", \"xref\": \"paper\", \"y\": 1.0, \"yanchor\": \"bottom\", \"yref\": \"paper\"}], \"showlegend\": false, \"template\": {\"data\": {\"bar\": [{\"error_x\": {\"color\": \"#2a3f5f\"}, \"error_y\": {\"color\": \"#2a3f5f\"}, \"marker\": {\"line\": {\"color\": \"#E5ECF6\", \"width\": 0.5}}, \"type\": \"bar\"}], \"barpolar\": [{\"marker\": {\"line\": {\"color\": \"#E5ECF6\", \"width\": 0.5}}, \"type\": \"barpolar\"}], \"carpet\": [{\"aaxis\": {\"endlinecolor\": \"#2a3f5f\", \"gridcolor\": \"white\", \"linecolor\": \"white\", \"minorgridcolor\": \"white\", \"startlinecolor\": \"#2a3f5f\"}, \"baxis\": {\"endlinecolor\": \"#2a3f5f\", \"gridcolor\": \"white\", \"linecolor\": \"white\", \"minorgridcolor\": \"white\", \"startlinecolor\": \"#2a3f5f\"}, \"type\": \"carpet\"}], \"choropleth\": [{\"colorbar\": {\"outlinewidth\": 0, \"ticks\": \"\"}, \"type\": \"choropleth\"}], \"contour\": [{\"colorbar\": {\"outlinewidth\": 0, \"ticks\": \"\"}, \"colorscale\": [[0.0, \"#0d0887\"], [0.1111111111111111, \"#46039f\"], [0.2222222222222222, \"#7201a8\"], [0.3333333333333333, \"#9c179e\"], [0.4444444444444444, \"#bd3786\"], [0.5555555555555556, \"#d8576b\"], [0.6666666666666666, \"#ed7953\"], [0.7777777777777778, \"#fb9f3a\"], [0.8888888888888888, \"#fdca26\"], [1.0, \"#f0f921\"]], \"type\": \"contour\"}], \"contourcarpet\": [{\"colorbar\": {\"outlinewidth\": 0, \"ticks\": \"\"}, \"type\": \"contourcarpet\"}], \"heatmap\": [{\"colorbar\": {\"outlinewidth\": 0, \"ticks\": \"\"}, \"colorscale\": [[0.0, \"#0d0887\"], [0.1111111111111111, \"#46039f\"], [0.2222222222222222, \"#7201a8\"], [0.3333333333333333, \"#9c179e\"], [0.4444444444444444, \"#bd3786\"], [0.5555555555555556, \"#d8576b\"], [0.6666666666666666, \"#ed7953\"], [0.7777777777777778, \"#fb9f3a\"], [0.8888888888888888, \"#fdca26\"], [1.0, \"#f0f921\"]], \"type\": \"heatmap\"}], \"heatmapgl\": [{\"colorbar\": {\"outlinewidth\": 0, \"ticks\": \"\"}, \"colorscale\": [[0.0, \"#0d0887\"], [0.1111111111111111, \"#46039f\"], [0.2222222222222222, \"#7201a8\"], [0.3333333333333333, \"#9c179e\"], [0.4444444444444444, \"#bd3786\"], [0.5555555555555556, \"#d8576b\"], [0.6666666666666666, \"#ed7953\"], [0.7777777777777778, \"#fb9f3a\"], [0.8888888888888888, \"#fdca26\"], [1.0, \"#f0f921\"]], \"type\": \"heatmapgl\"}], \"histogram\": [{\"marker\": {\"colorbar\": {\"outlinewidth\": 0, \"ticks\": \"\"}}, \"type\": \"histogram\"}], \"histogram2d\": [{\"colorbar\": {\"outlinewidth\": 0, \"ticks\": \"\"}, \"colorscale\": [[0.0, \"#0d0887\"], [0.1111111111111111, \"#46039f\"], [0.2222222222222222, \"#7201a8\"], [0.3333333333333333, \"#9c179e\"], [0.4444444444444444, \"#bd3786\"], [0.5555555555555556, \"#d8576b\"], [0.6666666666666666, \"#ed7953\"], [0.7777777777777778, \"#fb9f3a\"], [0.8888888888888888, \"#fdca26\"], [1.0, \"#f0f921\"]], \"type\": \"histogram2d\"}], \"histogram2dcontour\": [{\"colorbar\": {\"outlinewidth\": 0, \"ticks\": \"\"}, \"colorscale\": [[0.0, \"#0d0887\"], [0.1111111111111111, \"#46039f\"], [0.2222222222222222, \"#7201a8\"], [0.3333333333333333, \"#9c179e\"], [0.4444444444444444, \"#bd3786\"], [0.5555555555555556, \"#d8576b\"], [0.6666666666666666, \"#ed7953\"], [0.7777777777777778, \"#fb9f3a\"], [0.8888888888888888, \"#fdca26\"], [1.0, \"#f0f921\"]], \"type\": \"histogram2dcontour\"}], \"mesh3d\": [{\"colorbar\": {\"outlinewidth\": 0, \"ticks\": \"\"}, \"type\": \"mesh3d\"}], \"parcoords\": [{\"line\": {\"colorbar\": {\"outlinewidth\": 0, \"ticks\": \"\"}}, \"type\": \"parcoords\"}], \"pie\": [{\"automargin\": true, \"type\": \"pie\"}], \"scatter\": [{\"marker\": {\"colorbar\": {\"outlinewidth\": 0, \"ticks\": \"\"}}, \"type\": \"scatter\"}], \"scatter3d\": [{\"line\": {\"colorbar\": {\"outlinewidth\": 0, \"ticks\": \"\"}}, \"marker\": {\"colorbar\": {\"outlinewidth\": 0, \"ticks\": \"\"}}, \"type\": \"scatter3d\"}], \"scattercarpet\": [{\"marker\": {\"colorbar\": {\"outlinewidth\": 0, \"ticks\": \"\"}}, \"type\": \"scattercarpet\"}], \"scattergeo\": [{\"marker\": {\"colorbar\": {\"outlinewidth\": 0, \"ticks\": \"\"}}, \"type\": \"scattergeo\"}], \"scattergl\": [{\"marker\": {\"colorbar\": {\"outlinewidth\": 0, \"ticks\": \"\"}}, \"type\": \"scattergl\"}], \"scattermapbox\": [{\"marker\": {\"colorbar\": {\"outlinewidth\": 0, \"ticks\": \"\"}}, \"type\": \"scattermapbox\"}], \"scatterpolar\": [{\"marker\": {\"colorbar\": {\"outlinewidth\": 0, \"ticks\": \"\"}}, \"type\": \"scatterpolar\"}], \"scatterpolargl\": [{\"marker\": {\"colorbar\": {\"outlinewidth\": 0, \"ticks\": \"\"}}, \"type\": \"scatterpolargl\"}], \"scatterternary\": [{\"marker\": {\"colorbar\": {\"outlinewidth\": 0, \"ticks\": \"\"}}, \"type\": \"scatterternary\"}], \"surface\": [{\"colorbar\": {\"outlinewidth\": 0, \"ticks\": \"\"}, \"colorscale\": [[0.0, \"#0d0887\"], [0.1111111111111111, \"#46039f\"], [0.2222222222222222, \"#7201a8\"], [0.3333333333333333, \"#9c179e\"], [0.4444444444444444, \"#bd3786\"], [0.5555555555555556, \"#d8576b\"], [0.6666666666666666, \"#ed7953\"], [0.7777777777777778, \"#fb9f3a\"], [0.8888888888888888, \"#fdca26\"], [1.0, \"#f0f921\"]], \"type\": \"surface\"}], \"table\": [{\"cells\": {\"fill\": {\"color\": \"#EBF0F8\"}, \"line\": {\"color\": \"white\"}}, \"header\": {\"fill\": {\"color\": \"#C8D4E3\"}, \"line\": {\"color\": \"white\"}}, \"type\": \"table\"}]}, \"layout\": {\"annotationdefaults\": {\"arrowcolor\": \"#2a3f5f\", \"arrowhead\": 0, \"arrowwidth\": 1}, \"coloraxis\": {\"colorbar\": {\"outlinewidth\": 0, \"ticks\": \"\"}}, \"colorscale\": {\"diverging\": [[0, \"#8e0152\"], [0.1, \"#c51b7d\"], [0.2, \"#de77ae\"], [0.3, \"#f1b6da\"], [0.4, \"#fde0ef\"], [0.5, \"#f7f7f7\"], [0.6, \"#e6f5d0\"], [0.7, \"#b8e186\"], [0.8, \"#7fbc41\"], [0.9, \"#4d9221\"], [1, \"#276419\"]], \"sequential\": [[0.0, \"#0d0887\"], [0.1111111111111111, \"#46039f\"], [0.2222222222222222, \"#7201a8\"], [0.3333333333333333, \"#9c179e\"], [0.4444444444444444, \"#bd3786\"], [0.5555555555555556, \"#d8576b\"], [0.6666666666666666, \"#ed7953\"], [0.7777777777777778, \"#fb9f3a\"], [0.8888888888888888, \"#fdca26\"], [1.0, \"#f0f921\"]], \"sequentialminus\": [[0.0, \"#0d0887\"], [0.1111111111111111, \"#46039f\"], [0.2222222222222222, \"#7201a8\"], [0.3333333333333333, \"#9c179e\"], [0.4444444444444444, \"#bd3786\"], [0.5555555555555556, \"#d8576b\"], [0.6666666666666666, \"#ed7953\"], [0.7777777777777778, \"#fb9f3a\"], [0.8888888888888888, \"#fdca26\"], [1.0, \"#f0f921\"]]}, \"colorway\": [\"#636efa\", \"#EF553B\", \"#00cc96\", \"#ab63fa\", \"#FFA15A\", \"#19d3f3\", \"#FF6692\", \"#B6E880\", \"#FF97FF\", \"#FECB52\"], \"font\": {\"color\": \"#2a3f5f\"}, \"geo\": {\"bgcolor\": \"white\", \"lakecolor\": \"white\", \"landcolor\": \"#E5ECF6\", \"showlakes\": true, \"showland\": true, \"subunitcolor\": \"white\"}, \"hoverlabel\": {\"align\": \"left\"}, \"hovermode\": \"closest\", \"mapbox\": {\"style\": \"light\"}, \"paper_bgcolor\": \"white\", \"plot_bgcolor\": \"#E5ECF6\", \"polar\": {\"angularaxis\": {\"gridcolor\": \"white\", \"linecolor\": \"white\", \"ticks\": \"\"}, \"bgcolor\": \"#E5ECF6\", \"radialaxis\": {\"gridcolor\": \"white\", \"linecolor\": \"white\", \"ticks\": \"\"}}, \"scene\": {\"xaxis\": {\"backgroundcolor\": \"#E5ECF6\", \"gridcolor\": \"white\", \"gridwidth\": 2, \"linecolor\": \"white\", \"showbackground\": true, \"ticks\": \"\", \"zerolinecolor\": \"white\"}, \"yaxis\": {\"backgroundcolor\": \"#E5ECF6\", \"gridcolor\": \"white\", \"gridwidth\": 2, \"linecolor\": \"white\", \"showbackground\": true, \"ticks\": \"\", \"zerolinecolor\": \"white\"}, \"zaxis\": {\"backgroundcolor\": \"#E5ECF6\", \"gridcolor\": \"white\", \"gridwidth\": 2, \"linecolor\": \"white\", \"showbackground\": true, \"ticks\": \"\", \"zerolinecolor\": \"white\"}}, \"shapedefaults\": {\"line\": {\"color\": \"#2a3f5f\"}}, \"ternary\": {\"aaxis\": {\"gridcolor\": \"white\", \"linecolor\": \"white\", \"ticks\": \"\"}, \"baxis\": {\"gridcolor\": \"white\", \"linecolor\": \"white\", \"ticks\": \"\"}, \"bgcolor\": \"#E5ECF6\", \"caxis\": {\"gridcolor\": \"white\", \"linecolor\": \"white\", \"ticks\": \"\"}}, \"title\": {\"x\": 0.05}, \"xaxis\": {\"automargin\": true, \"gridcolor\": \"white\", \"linecolor\": \"white\", \"ticks\": \"\", \"title\": {\"standoff\": 15}, \"zerolinecolor\": \"white\", \"zerolinewidth\": 2}, \"yaxis\": {\"automargin\": true, \"gridcolor\": \"white\", \"linecolor\": \"white\", \"ticks\": \"\", \"title\": {\"standoff\": 15}, \"zerolinecolor\": \"white\", \"zerolinewidth\": 2}}}, \"title\": {\"text\": \"Multiplot\"}, \"updatemenus\": [{\"active\": -1, \"buttons\": [{\"args\": [{\"visible\": [true, false, false, false, false, false, false, false]}], \"label\": \"Plate 1 (ITS)\", \"method\": \"update\"}, {\"args\": [{\"visible\": [false, true, false, false, false, false, false, false]}], \"label\": \"Plate 2 (16S)\", \"method\": \"update\"}, {\"args\": [{\"visible\": [false, false, true, false, false, false, false, false]}], \"label\": \"Plate 3 (ITS)\", \"method\": \"update\"}, {\"args\": [{\"visible\": [false, false, false, true, false, false, false, false]}], \"label\": \"Plate 4 (16S)\", \"method\": \"update\"}, {\"args\": [{\"visible\": [false, false, false, false, true, false, false, false]}], \"label\": \"Plate 5 (ITS)\", \"method\": \"update\"}, {\"args\": [{\"visible\": [false, false, false, false, false, true, false, false]}], \"label\": \"Plate 6 (16S)\", \"method\": \"update\"}, {\"args\": [{\"visible\": [false, false, false, false, false, false, true, false]}], \"label\": \"Plate 7 (ITS)\", \"method\": \"update\"}, {\"args\": [{\"visible\": [false, false, false, false, false, false, false, true]}], \"label\": \"Plate 8 (16S)\", \"method\": \"update\"}], \"x\": 0.13, \"y\": 1.1}], \"xaxis\": {\"anchor\": \"y\", \"domain\": [0.0, 0.45], \"title\": {\"text\": \"Well\"}}, \"xaxis2\": {\"anchor\": \"y2\", \"domain\": [0.55, 1.0], \"title\": {\"text\": \"Log(SQ)\"}}, \"yaxis\": {\"anchor\": \"x\", \"domain\": [0.0, 1.0], \"title\": {\"text\": \"Cq\"}}, \"yaxis2\": {\"anchor\": \"x2\", \"domain\": [0.0, 1.0], \"title\": {\"text\": \"Cq\"}}},\n",
              "                        {\"responsive\": true}\n",
              "                    ).then(function(){\n",
              "                            \n",
              "var gd = document.getElementById('12ab29fb-a6de-4e89-b1a9-c0740e1ef5fb');\n",
              "var x = new MutationObserver(function (mutations, observer) {{\n",
              "        var display = window.getComputedStyle(gd).display;\n",
              "        if (!display || display === 'none') {{\n",
              "            console.log([gd, 'removed!']);\n",
              "            Plotly.purge(gd);\n",
              "            observer.disconnect();\n",
              "        }}\n",
              "}});\n",
              "\n",
              "// Listen for the removal of the full notebook cells\n",
              "var notebookContainer = gd.closest('#notebook-container');\n",
              "if (notebookContainer) {{\n",
              "    x.observe(notebookContainer, {childList: true});\n",
              "}}\n",
              "\n",
              "// Listen for the clearing of the current output cell\n",
              "var outputEl = gd.closest('.output');\n",
              "if (outputEl) {{\n",
              "    x.observe(outputEl, {childList: true});\n",
              "}}\n",
              "\n",
              "                        })\n",
              "                };\n",
              "                \n",
              "            </script>\n",
              "        </div>\n",
              "</body>\n",
              "</html>"
            ]
          },
          "metadata": {
            "tags": []
          }
        }
      ]
    }
  ]
}